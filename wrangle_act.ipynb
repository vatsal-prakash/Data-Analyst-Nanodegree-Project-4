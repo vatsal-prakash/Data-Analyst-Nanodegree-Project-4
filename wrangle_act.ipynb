{
 "cells": [
  {
   "cell_type": "code",
   "execution_count": 533,
   "metadata": {},
   "outputs": [],
   "source": [
    "import pandas as pd\n",
    "import numpy as np \n",
    "import requests \n",
    "import json \n",
    "import matplotlib.pyplot as plt\n",
    "import seaborn as sns\n",
    "%matplotlib inline"
   ]
  },
  {
   "cell_type": "markdown",
   "metadata": {},
   "source": [
    "## Gather"
   ]
  },
  {
   "cell_type": "code",
   "execution_count": 534,
   "metadata": {},
   "outputs": [],
   "source": [
    "# read twitter archive data\n",
    "twitter_data = pd.read_csv('twitter-archive-enhanced.csv') "
   ]
  },
  {
   "cell_type": "code",
   "execution_count": 535,
   "metadata": {},
   "outputs": [],
   "source": [
    "df_clean = twitter_data.copy()\n"
   ]
  },
  {
   "cell_type": "code",
   "execution_count": 536,
   "metadata": {},
   "outputs": [
    {
     "data": {
      "text/html": [
       "<div>\n",
       "<style scoped>\n",
       "    .dataframe tbody tr th:only-of-type {\n",
       "        vertical-align: middle;\n",
       "    }\n",
       "\n",
       "    .dataframe tbody tr th {\n",
       "        vertical-align: top;\n",
       "    }\n",
       "\n",
       "    .dataframe thead th {\n",
       "        text-align: right;\n",
       "    }\n",
       "</style>\n",
       "<table border=\"1\" class=\"dataframe\">\n",
       "  <thead>\n",
       "    <tr style=\"text-align: right;\">\n",
       "      <th></th>\n",
       "      <th>tweet_id</th>\n",
       "      <th>in_reply_to_status_id</th>\n",
       "      <th>in_reply_to_user_id</th>\n",
       "      <th>timestamp</th>\n",
       "      <th>source</th>\n",
       "      <th>text</th>\n",
       "      <th>retweeted_status_id</th>\n",
       "      <th>retweeted_status_user_id</th>\n",
       "      <th>retweeted_status_timestamp</th>\n",
       "      <th>expanded_urls</th>\n",
       "      <th>rating_numerator</th>\n",
       "      <th>rating_denominator</th>\n",
       "      <th>name</th>\n",
       "      <th>doggo</th>\n",
       "      <th>floofer</th>\n",
       "      <th>pupper</th>\n",
       "      <th>puppo</th>\n",
       "    </tr>\n",
       "  </thead>\n",
       "  <tbody>\n",
       "    <tr>\n",
       "      <th>0</th>\n",
       "      <td>892420643555336193</td>\n",
       "      <td>NaN</td>\n",
       "      <td>NaN</td>\n",
       "      <td>2017-08-01 16:23:56 +0000</td>\n",
       "      <td>&lt;a href=\"http://twitter.com/download/iphone\" rel=\"nofollow\"&gt;Twitter for iPhone&lt;/a&gt;</td>\n",
       "      <td>This is Phineas. He's a mystical boy. Only ever appears in the hole of a donut. 13/10 https://t.co/MgUWQ76dJU</td>\n",
       "      <td>NaN</td>\n",
       "      <td>NaN</td>\n",
       "      <td>NaN</td>\n",
       "      <td>https://twitter.com/dog_rates/status/892420643555336193/photo/1</td>\n",
       "      <td>13</td>\n",
       "      <td>10</td>\n",
       "      <td>Phineas</td>\n",
       "      <td>None</td>\n",
       "      <td>None</td>\n",
       "      <td>None</td>\n",
       "      <td>None</td>\n",
       "    </tr>\n",
       "    <tr>\n",
       "      <th>1</th>\n",
       "      <td>892177421306343426</td>\n",
       "      <td>NaN</td>\n",
       "      <td>NaN</td>\n",
       "      <td>2017-08-01 00:17:27 +0000</td>\n",
       "      <td>&lt;a href=\"http://twitter.com/download/iphone\" rel=\"nofollow\"&gt;Twitter for iPhone&lt;/a&gt;</td>\n",
       "      <td>This is Tilly. She's just checking pup on you. Hopes you're doing ok. If not, she's available for pats, snugs, boops, the whole bit. 13/10 https://t.co/0Xxu71qeIV</td>\n",
       "      <td>NaN</td>\n",
       "      <td>NaN</td>\n",
       "      <td>NaN</td>\n",
       "      <td>https://twitter.com/dog_rates/status/892177421306343426/photo/1</td>\n",
       "      <td>13</td>\n",
       "      <td>10</td>\n",
       "      <td>Tilly</td>\n",
       "      <td>None</td>\n",
       "      <td>None</td>\n",
       "      <td>None</td>\n",
       "      <td>None</td>\n",
       "    </tr>\n",
       "    <tr>\n",
       "      <th>2</th>\n",
       "      <td>891815181378084864</td>\n",
       "      <td>NaN</td>\n",
       "      <td>NaN</td>\n",
       "      <td>2017-07-31 00:18:03 +0000</td>\n",
       "      <td>&lt;a href=\"http://twitter.com/download/iphone\" rel=\"nofollow\"&gt;Twitter for iPhone&lt;/a&gt;</td>\n",
       "      <td>This is Archie. He is a rare Norwegian Pouncing Corgo. Lives in the tall grass. You never know when one may strike. 12/10 https://t.co/wUnZnhtVJB</td>\n",
       "      <td>NaN</td>\n",
       "      <td>NaN</td>\n",
       "      <td>NaN</td>\n",
       "      <td>https://twitter.com/dog_rates/status/891815181378084864/photo/1</td>\n",
       "      <td>12</td>\n",
       "      <td>10</td>\n",
       "      <td>Archie</td>\n",
       "      <td>None</td>\n",
       "      <td>None</td>\n",
       "      <td>None</td>\n",
       "      <td>None</td>\n",
       "    </tr>\n",
       "    <tr>\n",
       "      <th>3</th>\n",
       "      <td>891689557279858688</td>\n",
       "      <td>NaN</td>\n",
       "      <td>NaN</td>\n",
       "      <td>2017-07-30 15:58:51 +0000</td>\n",
       "      <td>&lt;a href=\"http://twitter.com/download/iphone\" rel=\"nofollow\"&gt;Twitter for iPhone&lt;/a&gt;</td>\n",
       "      <td>This is Darla. She commenced a snooze mid meal. 13/10 happens to the best of us https://t.co/tD36da7qLQ</td>\n",
       "      <td>NaN</td>\n",
       "      <td>NaN</td>\n",
       "      <td>NaN</td>\n",
       "      <td>https://twitter.com/dog_rates/status/891689557279858688/photo/1</td>\n",
       "      <td>13</td>\n",
       "      <td>10</td>\n",
       "      <td>Darla</td>\n",
       "      <td>None</td>\n",
       "      <td>None</td>\n",
       "      <td>None</td>\n",
       "      <td>None</td>\n",
       "    </tr>\n",
       "    <tr>\n",
       "      <th>4</th>\n",
       "      <td>891327558926688256</td>\n",
       "      <td>NaN</td>\n",
       "      <td>NaN</td>\n",
       "      <td>2017-07-29 16:00:24 +0000</td>\n",
       "      <td>&lt;a href=\"http://twitter.com/download/iphone\" rel=\"nofollow\"&gt;Twitter for iPhone&lt;/a&gt;</td>\n",
       "      <td>This is Franklin. He would like you to stop calling him \"cute.\" He is a very fierce shark and should be respected as such. 12/10 #BarkWeek https://t.co/AtUZn91f7f</td>\n",
       "      <td>NaN</td>\n",
       "      <td>NaN</td>\n",
       "      <td>NaN</td>\n",
       "      <td>https://twitter.com/dog_rates/status/891327558926688256/photo/1,https://twitter.com/dog_rates/status/891327558926688256/photo/1</td>\n",
       "      <td>12</td>\n",
       "      <td>10</td>\n",
       "      <td>Franklin</td>\n",
       "      <td>None</td>\n",
       "      <td>None</td>\n",
       "      <td>None</td>\n",
       "      <td>None</td>\n",
       "    </tr>\n",
       "  </tbody>\n",
       "</table>\n",
       "</div>"
      ],
      "text/plain": [
       "             tweet_id  in_reply_to_status_id  in_reply_to_user_id  \\\n",
       "0  892420643555336193 NaN                    NaN                    \n",
       "1  892177421306343426 NaN                    NaN                    \n",
       "2  891815181378084864 NaN                    NaN                    \n",
       "3  891689557279858688 NaN                    NaN                    \n",
       "4  891327558926688256 NaN                    NaN                    \n",
       "\n",
       "                   timestamp  \\\n",
       "0  2017-08-01 16:23:56 +0000   \n",
       "1  2017-08-01 00:17:27 +0000   \n",
       "2  2017-07-31 00:18:03 +0000   \n",
       "3  2017-07-30 15:58:51 +0000   \n",
       "4  2017-07-29 16:00:24 +0000   \n",
       "\n",
       "                                                                               source  \\\n",
       "0  <a href=\"http://twitter.com/download/iphone\" rel=\"nofollow\">Twitter for iPhone</a>   \n",
       "1  <a href=\"http://twitter.com/download/iphone\" rel=\"nofollow\">Twitter for iPhone</a>   \n",
       "2  <a href=\"http://twitter.com/download/iphone\" rel=\"nofollow\">Twitter for iPhone</a>   \n",
       "3  <a href=\"http://twitter.com/download/iphone\" rel=\"nofollow\">Twitter for iPhone</a>   \n",
       "4  <a href=\"http://twitter.com/download/iphone\" rel=\"nofollow\">Twitter for iPhone</a>   \n",
       "\n",
       "                                                                                                                                                                 text  \\\n",
       "0  This is Phineas. He's a mystical boy. Only ever appears in the hole of a donut. 13/10 https://t.co/MgUWQ76dJU                                                        \n",
       "1  This is Tilly. She's just checking pup on you. Hopes you're doing ok. If not, she's available for pats, snugs, boops, the whole bit. 13/10 https://t.co/0Xxu71qeIV   \n",
       "2  This is Archie. He is a rare Norwegian Pouncing Corgo. Lives in the tall grass. You never know when one may strike. 12/10 https://t.co/wUnZnhtVJB                    \n",
       "3  This is Darla. She commenced a snooze mid meal. 13/10 happens to the best of us https://t.co/tD36da7qLQ                                                              \n",
       "4  This is Franklin. He would like you to stop calling him \"cute.\" He is a very fierce shark and should be respected as such. 12/10 #BarkWeek https://t.co/AtUZn91f7f   \n",
       "\n",
       "   retweeted_status_id  retweeted_status_user_id retweeted_status_timestamp  \\\n",
       "0 NaN                  NaN                        NaN                         \n",
       "1 NaN                  NaN                        NaN                         \n",
       "2 NaN                  NaN                        NaN                         \n",
       "3 NaN                  NaN                        NaN                         \n",
       "4 NaN                  NaN                        NaN                         \n",
       "\n",
       "                                                                                                                     expanded_urls  \\\n",
       "0  https://twitter.com/dog_rates/status/892420643555336193/photo/1                                                                   \n",
       "1  https://twitter.com/dog_rates/status/892177421306343426/photo/1                                                                   \n",
       "2  https://twitter.com/dog_rates/status/891815181378084864/photo/1                                                                   \n",
       "3  https://twitter.com/dog_rates/status/891689557279858688/photo/1                                                                   \n",
       "4  https://twitter.com/dog_rates/status/891327558926688256/photo/1,https://twitter.com/dog_rates/status/891327558926688256/photo/1   \n",
       "\n",
       "   rating_numerator  rating_denominator      name doggo floofer pupper puppo  \n",
       "0  13                10                  Phineas   None  None    None   None  \n",
       "1  13                10                  Tilly     None  None    None   None  \n",
       "2  12                10                  Archie    None  None    None   None  \n",
       "3  13                10                  Darla     None  None    None   None  \n",
       "4  12                10                  Franklin  None  None    None   None  "
      ]
     },
     "execution_count": 536,
     "metadata": {},
     "output_type": "execute_result"
    }
   ],
   "source": [
    "df_clean.head()"
   ]
  },
  {
   "cell_type": "code",
   "execution_count": 537,
   "metadata": {},
   "outputs": [],
   "source": [
    "# reading tsv files data \n",
    "url = 'https://d17h27t6h515a5.cloudfront.net/topher/2017/August/599fd2ad_image-predictions/image-predictions.tsv'\n",
    "response = requests.get(url)\n",
    "with open('image-predictions.tsv', mode = 'wb') as file:\n",
    "    file.write(response.content)"
   ]
  },
  {
   "cell_type": "code",
   "execution_count": 538,
   "metadata": {},
   "outputs": [],
   "source": [
    "image_predictions = pd.read_csv('image-predictions.tsv', sep = '\\t')"
   ]
  },
  {
   "cell_type": "code",
   "execution_count": 303,
   "metadata": {},
   "outputs": [
    {
     "name": "stdout",
     "output_type": "stream",
     "text": [
      "1: 892420643555336193\n",
      "Fail\n",
      "2: 892177421306343426\n",
      "Fail\n",
      "3: 891815181378084864\n",
      "Fail\n",
      "4: 891689557279858688\n",
      "Fail\n",
      "5: 891327558926688256\n",
      "Fail\n",
      "6: 891087950875897856\n",
      "Fail\n",
      "7: 890971913173991426\n",
      "Fail\n",
      "8: 890729181411237888\n",
      "Fail\n",
      "9: 890609185150312448\n",
      "Fail\n",
      "10: 890240255349198849\n",
      "Fail\n",
      "11: 890006608113172480\n",
      "Fail\n",
      "12: 889880896479866881\n",
      "Fail\n",
      "13: 889665388333682689\n",
      "Fail\n",
      "14: 889638837579907072\n",
      "Fail\n",
      "15: 889531135344209921\n",
      "Fail\n",
      "16: 889278841981685760\n",
      "Fail\n",
      "17: 888917238123831296\n",
      "Fail\n",
      "18: 888804989199671297\n",
      "Fail\n",
      "19: 888554962724278272\n",
      "Fail\n",
      "20: 888202515573088257\n",
      "Fail\n",
      "21: 888078434458587136\n",
      "Fail\n",
      "22: 887705289381826560\n",
      "Fail\n",
      "23: 887517139158093824\n",
      "Fail\n",
      "24: 887473957103951883\n",
      "Fail\n",
      "25: 887343217045368832\n",
      "Fail\n",
      "26: 887101392804085760\n",
      "Fail\n",
      "27: 886983233522544640\n",
      "Fail\n",
      "28: 886736880519319552\n",
      "Fail\n",
      "29: 886680336477933568\n",
      "Fail\n",
      "30: 886366144734445568\n",
      "Fail\n",
      "31: 886267009285017600\n",
      "Fail\n",
      "32: 886258384151887873\n",
      "Fail\n",
      "33: 886054160059072513\n",
      "Fail\n",
      "34: 885984800019947520\n",
      "Fail\n",
      "35: 885528943205470208\n",
      "Fail\n",
      "36: 885518971528720385\n",
      "Fail\n",
      "37: 885311592912609280\n",
      "Fail\n",
      "38: 885167619883638784\n",
      "Fail\n",
      "39: 884925521741709313\n",
      "Fail\n",
      "40: 884876753390489601\n",
      "Fail\n",
      "41: 884562892145688576\n",
      "Fail\n",
      "42: 884441805382717440\n",
      "Fail\n",
      "43: 884247878851493888\n",
      "Fail\n",
      "44: 884162670584377345\n",
      "Fail\n",
      "45: 883838122936631299\n",
      "Fail\n",
      "46: 883482846933004288\n",
      "Fail\n",
      "47: 883360690899218434\n",
      "Fail\n",
      "48: 883117836046086144\n",
      "Fail\n",
      "49: 882992080364220416\n",
      "Fail\n",
      "50: 882762694511734784\n",
      "Fail\n",
      "51: 882627270321602560\n",
      "Fail\n",
      "52: 882268110199369728\n",
      "Fail\n",
      "53: 882045870035918850\n",
      "Fail\n",
      "54: 881906580714921986\n",
      "Fail\n",
      "55: 881666595344535552\n",
      "Fail\n",
      "56: 881633300179243008\n",
      "Fail\n",
      "57: 881536004380872706\n",
      "Fail\n",
      "58: 881268444196462592\n",
      "Fail\n",
      "59: 880935762899988482\n",
      "Fail\n",
      "60: 880872448815771648\n",
      "Fail\n",
      "61: 880465832366813184\n",
      "Fail\n",
      "62: 880221127280381952\n",
      "Fail\n",
      "63: 880095782870896641\n",
      "Fail\n",
      "64: 879862464715927552\n",
      "Fail\n",
      "65: 879674319642796034\n",
      "Fail\n",
      "66: 879492040517615616\n",
      "Fail\n",
      "67: 879415818425184262\n",
      "Fail\n",
      "68: 879376492567855104\n",
      "Fail\n",
      "69: 879130579576475649\n",
      "Fail\n",
      "70: 879050749262655488\n",
      "Fail\n",
      "71: 879008229531029506\n",
      "Fail\n",
      "72: 878776093423087618\n",
      "Fail\n",
      "73: 878604707211726852\n",
      "Fail\n",
      "74: 878404777348136964\n",
      "Fail\n",
      "75: 878316110768087041\n",
      "Fail\n",
      "76: 878281511006478336\n",
      "Fail\n",
      "77: 878057613040115712\n",
      "Fail\n",
      "78: 877736472329191424\n",
      "Fail\n",
      "79: 877611172832227328\n",
      "Fail\n",
      "80: 877556246731214848\n",
      "Fail\n",
      "81: 877316821321428993\n",
      "Fail\n",
      "82: 877201837425926144\n",
      "Fail\n",
      "83: 876838120628539392\n",
      "Fail\n",
      "84: 876537666061221889\n",
      "Fail\n",
      "85: 876484053909872640\n",
      "Fail\n",
      "86: 876120275196170240\n",
      "Fail\n",
      "87: 875747767867523072\n",
      "Fail\n",
      "88: 875144289856114688\n",
      "Fail\n",
      "89: 875097192612077568\n",
      "Fail\n",
      "90: 875021211251597312\n",
      "Fail\n",
      "91: 874680097055178752\n",
      "Fail\n",
      "92: 874434818259525634\n",
      "Fail\n",
      "93: 874296783580663808\n",
      "Fail\n",
      "94: 874057562936811520\n"
     ]
    },
    {
     "ename": "KeyboardInterrupt",
     "evalue": "",
     "output_type": "error",
     "traceback": [
      "\u001b[1;31m---------------------------------------------------------------------------\u001b[0m",
      "\u001b[1;31mKeyboardInterrupt\u001b[0m                         Traceback (most recent call last)",
      "\u001b[1;32m<ipython-input-303-0787019b3c43>\u001b[0m in \u001b[0;36m<module>\u001b[1;34m\u001b[0m\n\u001b[0;32m     35\u001b[0m         \u001b[0mprint\u001b[0m\u001b[1;33m(\u001b[0m\u001b[0mstr\u001b[0m\u001b[1;33m(\u001b[0m\u001b[0mcount\u001b[0m\u001b[1;33m)\u001b[0m \u001b[1;33m+\u001b[0m \u001b[1;34m\": \"\u001b[0m \u001b[1;33m+\u001b[0m \u001b[0mstr\u001b[0m\u001b[1;33m(\u001b[0m\u001b[0mtweet_id\u001b[0m\u001b[1;33m)\u001b[0m\u001b[1;33m)\u001b[0m\u001b[1;33m\u001b[0m\u001b[1;33m\u001b[0m\u001b[0m\n\u001b[0;32m     36\u001b[0m         \u001b[1;32mtry\u001b[0m\u001b[1;33m:\u001b[0m\u001b[1;33m\u001b[0m\u001b[1;33m\u001b[0m\u001b[0m\n\u001b[1;32m---> 37\u001b[1;33m             \u001b[0mtweet\u001b[0m \u001b[1;33m=\u001b[0m \u001b[0mapi\u001b[0m\u001b[1;33m.\u001b[0m\u001b[0mget_status\u001b[0m\u001b[1;33m(\u001b[0m\u001b[0mtweet_id\u001b[0m\u001b[1;33m,\u001b[0m \u001b[0mtweet_mode\u001b[0m\u001b[1;33m=\u001b[0m\u001b[1;34m'extended'\u001b[0m\u001b[1;33m)\u001b[0m\u001b[1;33m\u001b[0m\u001b[1;33m\u001b[0m\u001b[0m\n\u001b[0m\u001b[0;32m     38\u001b[0m             \u001b[0mprint\u001b[0m\u001b[1;33m(\u001b[0m\u001b[1;34m\"Success\"\u001b[0m\u001b[1;33m)\u001b[0m\u001b[1;33m\u001b[0m\u001b[1;33m\u001b[0m\u001b[0m\n\u001b[0;32m     39\u001b[0m             \u001b[0mjson\u001b[0m\u001b[1;33m.\u001b[0m\u001b[0mdump\u001b[0m\u001b[1;33m(\u001b[0m\u001b[0mtweet\u001b[0m\u001b[1;33m.\u001b[0m\u001b[0m_json\u001b[0m\u001b[1;33m,\u001b[0m \u001b[0moutfile\u001b[0m\u001b[1;33m)\u001b[0m\u001b[1;33m\u001b[0m\u001b[1;33m\u001b[0m\u001b[0m\n",
      "\u001b[1;32m~\\anaconda3\\lib\\site-packages\\tweepy\\binder.py\u001b[0m in \u001b[0;36m_call\u001b[1;34m(*args, **kwargs)\u001b[0m\n\u001b[0;32m    248\u001b[0m                 \u001b[1;32mreturn\u001b[0m \u001b[0mmethod\u001b[0m\u001b[1;33m\u001b[0m\u001b[1;33m\u001b[0m\u001b[0m\n\u001b[0;32m    249\u001b[0m             \u001b[1;32melse\u001b[0m\u001b[1;33m:\u001b[0m\u001b[1;33m\u001b[0m\u001b[1;33m\u001b[0m\u001b[0m\n\u001b[1;32m--> 250\u001b[1;33m                 \u001b[1;32mreturn\u001b[0m \u001b[0mmethod\u001b[0m\u001b[1;33m.\u001b[0m\u001b[0mexecute\u001b[0m\u001b[1;33m(\u001b[0m\u001b[1;33m)\u001b[0m\u001b[1;33m\u001b[0m\u001b[1;33m\u001b[0m\u001b[0m\n\u001b[0m\u001b[0;32m    251\u001b[0m         \u001b[1;32mfinally\u001b[0m\u001b[1;33m:\u001b[0m\u001b[1;33m\u001b[0m\u001b[1;33m\u001b[0m\u001b[0m\n\u001b[0;32m    252\u001b[0m             \u001b[0mmethod\u001b[0m\u001b[1;33m.\u001b[0m\u001b[0msession\u001b[0m\u001b[1;33m.\u001b[0m\u001b[0mclose\u001b[0m\u001b[1;33m(\u001b[0m\u001b[1;33m)\u001b[0m\u001b[1;33m\u001b[0m\u001b[1;33m\u001b[0m\u001b[0m\n",
      "\u001b[1;32m~\\anaconda3\\lib\\site-packages\\tweepy\\binder.py\u001b[0m in \u001b[0;36mexecute\u001b[1;34m(self)\u001b[0m\n\u001b[0;32m    187\u001b[0m                                                 \u001b[0mtimeout\u001b[0m\u001b[1;33m=\u001b[0m\u001b[0mself\u001b[0m\u001b[1;33m.\u001b[0m\u001b[0mapi\u001b[0m\u001b[1;33m.\u001b[0m\u001b[0mtimeout\u001b[0m\u001b[1;33m,\u001b[0m\u001b[1;33m\u001b[0m\u001b[1;33m\u001b[0m\u001b[0m\n\u001b[0;32m    188\u001b[0m                                                 \u001b[0mauth\u001b[0m\u001b[1;33m=\u001b[0m\u001b[0mauth\u001b[0m\u001b[1;33m,\u001b[0m\u001b[1;33m\u001b[0m\u001b[1;33m\u001b[0m\u001b[0m\n\u001b[1;32m--> 189\u001b[1;33m                                                 proxies=self.api.proxy)\n\u001b[0m\u001b[0;32m    190\u001b[0m                 \u001b[1;32mexcept\u001b[0m \u001b[0mException\u001b[0m \u001b[1;32mas\u001b[0m \u001b[0me\u001b[0m\u001b[1;33m:\u001b[0m\u001b[1;33m\u001b[0m\u001b[1;33m\u001b[0m\u001b[0m\n\u001b[0;32m    191\u001b[0m                     \u001b[0msix\u001b[0m\u001b[1;33m.\u001b[0m\u001b[0mreraise\u001b[0m\u001b[1;33m(\u001b[0m\u001b[0mTweepError\u001b[0m\u001b[1;33m,\u001b[0m \u001b[0mTweepError\u001b[0m\u001b[1;33m(\u001b[0m\u001b[1;34m'Failed to send request: %s'\u001b[0m \u001b[1;33m%\u001b[0m \u001b[0me\u001b[0m\u001b[1;33m)\u001b[0m\u001b[1;33m,\u001b[0m \u001b[0msys\u001b[0m\u001b[1;33m.\u001b[0m\u001b[0mexc_info\u001b[0m\u001b[1;33m(\u001b[0m\u001b[1;33m)\u001b[0m\u001b[1;33m[\u001b[0m\u001b[1;36m2\u001b[0m\u001b[1;33m]\u001b[0m\u001b[1;33m)\u001b[0m\u001b[1;33m\u001b[0m\u001b[1;33m\u001b[0m\u001b[0m\n",
      "\u001b[1;32m~\\anaconda3\\lib\\site-packages\\requests\\sessions.py\u001b[0m in \u001b[0;36mrequest\u001b[1;34m(self, method, url, params, data, headers, cookies, files, auth, timeout, allow_redirects, proxies, hooks, stream, verify, cert, json)\u001b[0m\n\u001b[0;32m    528\u001b[0m         }\n\u001b[0;32m    529\u001b[0m         \u001b[0msend_kwargs\u001b[0m\u001b[1;33m.\u001b[0m\u001b[0mupdate\u001b[0m\u001b[1;33m(\u001b[0m\u001b[0msettings\u001b[0m\u001b[1;33m)\u001b[0m\u001b[1;33m\u001b[0m\u001b[1;33m\u001b[0m\u001b[0m\n\u001b[1;32m--> 530\u001b[1;33m         \u001b[0mresp\u001b[0m \u001b[1;33m=\u001b[0m \u001b[0mself\u001b[0m\u001b[1;33m.\u001b[0m\u001b[0msend\u001b[0m\u001b[1;33m(\u001b[0m\u001b[0mprep\u001b[0m\u001b[1;33m,\u001b[0m \u001b[1;33m**\u001b[0m\u001b[0msend_kwargs\u001b[0m\u001b[1;33m)\u001b[0m\u001b[1;33m\u001b[0m\u001b[1;33m\u001b[0m\u001b[0m\n\u001b[0m\u001b[0;32m    531\u001b[0m \u001b[1;33m\u001b[0m\u001b[0m\n\u001b[0;32m    532\u001b[0m         \u001b[1;32mreturn\u001b[0m \u001b[0mresp\u001b[0m\u001b[1;33m\u001b[0m\u001b[1;33m\u001b[0m\u001b[0m\n",
      "\u001b[1;32m~\\anaconda3\\lib\\site-packages\\requests\\sessions.py\u001b[0m in \u001b[0;36msend\u001b[1;34m(self, request, **kwargs)\u001b[0m\n\u001b[0;32m    641\u001b[0m \u001b[1;33m\u001b[0m\u001b[0m\n\u001b[0;32m    642\u001b[0m         \u001b[1;31m# Send the request\u001b[0m\u001b[1;33m\u001b[0m\u001b[1;33m\u001b[0m\u001b[1;33m\u001b[0m\u001b[0m\n\u001b[1;32m--> 643\u001b[1;33m         \u001b[0mr\u001b[0m \u001b[1;33m=\u001b[0m \u001b[0madapter\u001b[0m\u001b[1;33m.\u001b[0m\u001b[0msend\u001b[0m\u001b[1;33m(\u001b[0m\u001b[0mrequest\u001b[0m\u001b[1;33m,\u001b[0m \u001b[1;33m**\u001b[0m\u001b[0mkwargs\u001b[0m\u001b[1;33m)\u001b[0m\u001b[1;33m\u001b[0m\u001b[1;33m\u001b[0m\u001b[0m\n\u001b[0m\u001b[0;32m    644\u001b[0m \u001b[1;33m\u001b[0m\u001b[0m\n\u001b[0;32m    645\u001b[0m         \u001b[1;31m# Total elapsed time of the request (approximately)\u001b[0m\u001b[1;33m\u001b[0m\u001b[1;33m\u001b[0m\u001b[1;33m\u001b[0m\u001b[0m\n",
      "\u001b[1;32m~\\anaconda3\\lib\\site-packages\\requests\\adapters.py\u001b[0m in \u001b[0;36msend\u001b[1;34m(self, request, stream, timeout, verify, cert, proxies)\u001b[0m\n\u001b[0;32m    447\u001b[0m                     \u001b[0mdecode_content\u001b[0m\u001b[1;33m=\u001b[0m\u001b[1;32mFalse\u001b[0m\u001b[1;33m,\u001b[0m\u001b[1;33m\u001b[0m\u001b[1;33m\u001b[0m\u001b[0m\n\u001b[0;32m    448\u001b[0m                     \u001b[0mretries\u001b[0m\u001b[1;33m=\u001b[0m\u001b[0mself\u001b[0m\u001b[1;33m.\u001b[0m\u001b[0mmax_retries\u001b[0m\u001b[1;33m,\u001b[0m\u001b[1;33m\u001b[0m\u001b[1;33m\u001b[0m\u001b[0m\n\u001b[1;32m--> 449\u001b[1;33m                     \u001b[0mtimeout\u001b[0m\u001b[1;33m=\u001b[0m\u001b[0mtimeout\u001b[0m\u001b[1;33m\u001b[0m\u001b[1;33m\u001b[0m\u001b[0m\n\u001b[0m\u001b[0;32m    450\u001b[0m                 )\n\u001b[0;32m    451\u001b[0m \u001b[1;33m\u001b[0m\u001b[0m\n",
      "\u001b[1;32m~\\anaconda3\\lib\\site-packages\\urllib3\\connectionpool.py\u001b[0m in \u001b[0;36murlopen\u001b[1;34m(self, method, url, body, headers, retries, redirect, assert_same_host, timeout, pool_timeout, release_conn, chunked, body_pos, **response_kw)\u001b[0m\n\u001b[0;32m    670\u001b[0m                 \u001b[0mbody\u001b[0m\u001b[1;33m=\u001b[0m\u001b[0mbody\u001b[0m\u001b[1;33m,\u001b[0m\u001b[1;33m\u001b[0m\u001b[1;33m\u001b[0m\u001b[0m\n\u001b[0;32m    671\u001b[0m                 \u001b[0mheaders\u001b[0m\u001b[1;33m=\u001b[0m\u001b[0mheaders\u001b[0m\u001b[1;33m,\u001b[0m\u001b[1;33m\u001b[0m\u001b[1;33m\u001b[0m\u001b[0m\n\u001b[1;32m--> 672\u001b[1;33m                 \u001b[0mchunked\u001b[0m\u001b[1;33m=\u001b[0m\u001b[0mchunked\u001b[0m\u001b[1;33m,\u001b[0m\u001b[1;33m\u001b[0m\u001b[1;33m\u001b[0m\u001b[0m\n\u001b[0m\u001b[0;32m    673\u001b[0m             )\n\u001b[0;32m    674\u001b[0m \u001b[1;33m\u001b[0m\u001b[0m\n",
      "\u001b[1;32m~\\anaconda3\\lib\\site-packages\\urllib3\\connectionpool.py\u001b[0m in \u001b[0;36m_make_request\u001b[1;34m(self, conn, method, url, timeout, chunked, **httplib_request_kw)\u001b[0m\n\u001b[0;32m    374\u001b[0m         \u001b[1;31m# Trigger any extra validation we need to do.\u001b[0m\u001b[1;33m\u001b[0m\u001b[1;33m\u001b[0m\u001b[1;33m\u001b[0m\u001b[0m\n\u001b[0;32m    375\u001b[0m         \u001b[1;32mtry\u001b[0m\u001b[1;33m:\u001b[0m\u001b[1;33m\u001b[0m\u001b[1;33m\u001b[0m\u001b[0m\n\u001b[1;32m--> 376\u001b[1;33m             \u001b[0mself\u001b[0m\u001b[1;33m.\u001b[0m\u001b[0m_validate_conn\u001b[0m\u001b[1;33m(\u001b[0m\u001b[0mconn\u001b[0m\u001b[1;33m)\u001b[0m\u001b[1;33m\u001b[0m\u001b[1;33m\u001b[0m\u001b[0m\n\u001b[0m\u001b[0;32m    377\u001b[0m         \u001b[1;32mexcept\u001b[0m \u001b[1;33m(\u001b[0m\u001b[0mSocketTimeout\u001b[0m\u001b[1;33m,\u001b[0m \u001b[0mBaseSSLError\u001b[0m\u001b[1;33m)\u001b[0m \u001b[1;32mas\u001b[0m \u001b[0me\u001b[0m\u001b[1;33m:\u001b[0m\u001b[1;33m\u001b[0m\u001b[1;33m\u001b[0m\u001b[0m\n\u001b[0;32m    378\u001b[0m             \u001b[1;31m# Py2 raises this as a BaseSSLError, Py3 raises it as socket timeout.\u001b[0m\u001b[1;33m\u001b[0m\u001b[1;33m\u001b[0m\u001b[1;33m\u001b[0m\u001b[0m\n",
      "\u001b[1;32m~\\anaconda3\\lib\\site-packages\\urllib3\\connectionpool.py\u001b[0m in \u001b[0;36m_validate_conn\u001b[1;34m(self, conn)\u001b[0m\n\u001b[0;32m    992\u001b[0m         \u001b[1;31m# Force connect early to allow us to validate the connection.\u001b[0m\u001b[1;33m\u001b[0m\u001b[1;33m\u001b[0m\u001b[1;33m\u001b[0m\u001b[0m\n\u001b[0;32m    993\u001b[0m         \u001b[1;32mif\u001b[0m \u001b[1;32mnot\u001b[0m \u001b[0mgetattr\u001b[0m\u001b[1;33m(\u001b[0m\u001b[0mconn\u001b[0m\u001b[1;33m,\u001b[0m \u001b[1;34m\"sock\"\u001b[0m\u001b[1;33m,\u001b[0m \u001b[1;32mNone\u001b[0m\u001b[1;33m)\u001b[0m\u001b[1;33m:\u001b[0m  \u001b[1;31m# AppEngine might not have  `.sock`\u001b[0m\u001b[1;33m\u001b[0m\u001b[1;33m\u001b[0m\u001b[0m\n\u001b[1;32m--> 994\u001b[1;33m             \u001b[0mconn\u001b[0m\u001b[1;33m.\u001b[0m\u001b[0mconnect\u001b[0m\u001b[1;33m(\u001b[0m\u001b[1;33m)\u001b[0m\u001b[1;33m\u001b[0m\u001b[1;33m\u001b[0m\u001b[0m\n\u001b[0m\u001b[0;32m    995\u001b[0m \u001b[1;33m\u001b[0m\u001b[0m\n\u001b[0;32m    996\u001b[0m         \u001b[1;32mif\u001b[0m \u001b[1;32mnot\u001b[0m \u001b[0mconn\u001b[0m\u001b[1;33m.\u001b[0m\u001b[0mis_verified\u001b[0m\u001b[1;33m:\u001b[0m\u001b[1;33m\u001b[0m\u001b[1;33m\u001b[0m\u001b[0m\n",
      "\u001b[1;32m~\\anaconda3\\lib\\site-packages\\urllib3\\connection.py\u001b[0m in \u001b[0;36mconnect\u001b[1;34m(self)\u001b[0m\n\u001b[0;32m    298\u001b[0m     \u001b[1;32mdef\u001b[0m \u001b[0mconnect\u001b[0m\u001b[1;33m(\u001b[0m\u001b[0mself\u001b[0m\u001b[1;33m)\u001b[0m\u001b[1;33m:\u001b[0m\u001b[1;33m\u001b[0m\u001b[1;33m\u001b[0m\u001b[0m\n\u001b[0;32m    299\u001b[0m         \u001b[1;31m# Add certificate verification\u001b[0m\u001b[1;33m\u001b[0m\u001b[1;33m\u001b[0m\u001b[1;33m\u001b[0m\u001b[0m\n\u001b[1;32m--> 300\u001b[1;33m         \u001b[0mconn\u001b[0m \u001b[1;33m=\u001b[0m \u001b[0mself\u001b[0m\u001b[1;33m.\u001b[0m\u001b[0m_new_conn\u001b[0m\u001b[1;33m(\u001b[0m\u001b[1;33m)\u001b[0m\u001b[1;33m\u001b[0m\u001b[1;33m\u001b[0m\u001b[0m\n\u001b[0m\u001b[0;32m    301\u001b[0m         \u001b[0mhostname\u001b[0m \u001b[1;33m=\u001b[0m \u001b[0mself\u001b[0m\u001b[1;33m.\u001b[0m\u001b[0mhost\u001b[0m\u001b[1;33m\u001b[0m\u001b[1;33m\u001b[0m\u001b[0m\n\u001b[0;32m    302\u001b[0m \u001b[1;33m\u001b[0m\u001b[0m\n",
      "\u001b[1;32m~\\anaconda3\\lib\\site-packages\\urllib3\\connection.py\u001b[0m in \u001b[0;36m_new_conn\u001b[1;34m(self)\u001b[0m\n\u001b[0;32m    155\u001b[0m         \u001b[1;32mtry\u001b[0m\u001b[1;33m:\u001b[0m\u001b[1;33m\u001b[0m\u001b[1;33m\u001b[0m\u001b[0m\n\u001b[0;32m    156\u001b[0m             conn = connection.create_connection(\n\u001b[1;32m--> 157\u001b[1;33m                 \u001b[1;33m(\u001b[0m\u001b[0mself\u001b[0m\u001b[1;33m.\u001b[0m\u001b[0m_dns_host\u001b[0m\u001b[1;33m,\u001b[0m \u001b[0mself\u001b[0m\u001b[1;33m.\u001b[0m\u001b[0mport\u001b[0m\u001b[1;33m)\u001b[0m\u001b[1;33m,\u001b[0m \u001b[0mself\u001b[0m\u001b[1;33m.\u001b[0m\u001b[0mtimeout\u001b[0m\u001b[1;33m,\u001b[0m \u001b[1;33m**\u001b[0m\u001b[0mextra_kw\u001b[0m\u001b[1;33m\u001b[0m\u001b[1;33m\u001b[0m\u001b[0m\n\u001b[0m\u001b[0;32m    158\u001b[0m             )\n\u001b[0;32m    159\u001b[0m \u001b[1;33m\u001b[0m\u001b[0m\n",
      "\u001b[1;32m~\\anaconda3\\lib\\site-packages\\urllib3\\util\\connection.py\u001b[0m in \u001b[0;36mcreate_connection\u001b[1;34m(address, timeout, source_address, socket_options)\u001b[0m\n\u001b[0;32m     72\u001b[0m             \u001b[1;32mif\u001b[0m \u001b[0msource_address\u001b[0m\u001b[1;33m:\u001b[0m\u001b[1;33m\u001b[0m\u001b[1;33m\u001b[0m\u001b[0m\n\u001b[0;32m     73\u001b[0m                 \u001b[0msock\u001b[0m\u001b[1;33m.\u001b[0m\u001b[0mbind\u001b[0m\u001b[1;33m(\u001b[0m\u001b[0msource_address\u001b[0m\u001b[1;33m)\u001b[0m\u001b[1;33m\u001b[0m\u001b[1;33m\u001b[0m\u001b[0m\n\u001b[1;32m---> 74\u001b[1;33m             \u001b[0msock\u001b[0m\u001b[1;33m.\u001b[0m\u001b[0mconnect\u001b[0m\u001b[1;33m(\u001b[0m\u001b[0msa\u001b[0m\u001b[1;33m)\u001b[0m\u001b[1;33m\u001b[0m\u001b[1;33m\u001b[0m\u001b[0m\n\u001b[0m\u001b[0;32m     75\u001b[0m             \u001b[1;32mreturn\u001b[0m \u001b[0msock\u001b[0m\u001b[1;33m\u001b[0m\u001b[1;33m\u001b[0m\u001b[0m\n\u001b[0;32m     76\u001b[0m \u001b[1;33m\u001b[0m\u001b[0m\n",
      "\u001b[1;31mKeyboardInterrupt\u001b[0m: "
     ]
    }
   ],
   "source": [
    "import tweepy\n",
    "from tweepy import OAuthHandler\n",
    "from timeit import default_timer as timer\n",
    "\n",
    "# Query Twitter API for each tweet in the Twitter archive and save JSON in a text file\n",
    "# These are hidden to comply with Twitter's API terms and conditions\n",
    "consumer_key = 'HIDDEN'\n",
    "consumer_secret = 'HIDDEN'\n",
    "access_token = 'HIDDEN'\n",
    "access_secret = 'HIDDEN'\n",
    "\n",
    "auth = OAuthHandler(consumer_key, consumer_secret)\n",
    "auth.set_access_token(access_token, access_secret)\n",
    "\n",
    "api = tweepy.API(auth, wait_on_rate_limit=True)\n",
    "\n",
    "# NOTE TO STUDENT WITH MOBILE VERIFICATION ISSUES:\n",
    "# df_1 is a DataFrame with the twitter_archive_enhanced.csv file. You may have to\n",
    "# change line 17 to match the name of your DataFrame with twitter_archive_enhanced.csv\n",
    "# NOTE TO REVIEWER: this student had mobile verification issues so the following\n",
    "# Twitter API code was sent to this student from a Udacity instructor\n",
    "# Tweet IDs for which to gather additional data via Twitter's API\n",
    "tweet_ids = twitter_data.tweet_id.values\n",
    "len(tweet_ids)\n",
    "\n",
    "# Query Twitter's API for JSON data for each tweet ID in the Twitter archive\n",
    "count = 0\n",
    "fails_dict = {}\n",
    "start = timer()\n",
    "# Save each tweet's returned JSON as a new line in a .txt file\n",
    "with open('tweet_json.txt', 'w') as outfile:\n",
    "    # This loop will likely take 20-30 minutes to run because of Twitter's rate limit\n",
    "    for tweet_id in tweet_ids:\n",
    "        count += 1\n",
    "        print(str(count) + \": \" + str(tweet_id))\n",
    "        try:\n",
    "            tweet = api.get_status(tweet_id, tweet_mode='extended')\n",
    "            print(\"Success\")\n",
    "            json.dump(tweet._json, outfile)\n",
    "            outfile.write('\\n')\n",
    "        except tweepy.TweepError as e:\n",
    "            print(\"Fail\")\n",
    "            fails_dict[tweet_id] = e\n",
    "            pass\n",
    "end = timer()\n",
    "print(end - start)\n",
    "print(fails_dict)"
   ]
  },
  {
   "cell_type": "code",
   "execution_count": 540,
   "metadata": {},
   "outputs": [],
   "source": [
    "#reading text file as json\n",
    "tweet_file = open('tweet_json.txt', \"r\")\n",
    "\n",
    "data = []\n",
    "for line in tweet_file:\n",
    "    try:\n",
    "        tweet = json.loads(line)\n",
    "        data.append(tweet)\n",
    "    except:\n",
    "        continue\n",
    "        \n",
    "tweet_file.close()"
   ]
  },
  {
   "cell_type": "code",
   "execution_count": 541,
   "metadata": {},
   "outputs": [],
   "source": [
    "# Only adding id, retweets and favourites to the new dataframe\n",
    "tweet_info_list = []\n",
    "\n",
    "for entry in data:\n",
    "    tweet_info_list.append({\n",
    "        'tweet_id': entry['id'],\n",
    "        'retweets': entry['retweet_count'],\n",
    "        'favorites': entry['favorite_count']\n",
    "    })\n",
    "\n",
    "tweet_info = pd.DataFrame(tweet_info_list, columns=['tweet_id', 'retweets', 'favorites'])"
   ]
  },
  {
   "cell_type": "markdown",
   "metadata": {},
   "source": [
    "## Assess\n",
    "- All the issues are documented at the end "
   ]
  },
  {
   "cell_type": "markdown",
   "metadata": {},
   "source": [
    "### Visual Assessment "
   ]
  },
  {
   "cell_type": "code",
   "execution_count": 542,
   "metadata": {},
   "outputs": [
    {
     "data": {
      "text/html": [
       "<div>\n",
       "<style scoped>\n",
       "    .dataframe tbody tr th:only-of-type {\n",
       "        vertical-align: middle;\n",
       "    }\n",
       "\n",
       "    .dataframe tbody tr th {\n",
       "        vertical-align: top;\n",
       "    }\n",
       "\n",
       "    .dataframe thead th {\n",
       "        text-align: right;\n",
       "    }\n",
       "</style>\n",
       "<table border=\"1\" class=\"dataframe\">\n",
       "  <thead>\n",
       "    <tr style=\"text-align: right;\">\n",
       "      <th></th>\n",
       "      <th>tweet_id</th>\n",
       "      <th>in_reply_to_status_id</th>\n",
       "      <th>in_reply_to_user_id</th>\n",
       "      <th>timestamp</th>\n",
       "      <th>source</th>\n",
       "      <th>text</th>\n",
       "      <th>retweeted_status_id</th>\n",
       "      <th>retweeted_status_user_id</th>\n",
       "      <th>retweeted_status_timestamp</th>\n",
       "      <th>expanded_urls</th>\n",
       "      <th>rating_numerator</th>\n",
       "      <th>rating_denominator</th>\n",
       "      <th>name</th>\n",
       "      <th>doggo</th>\n",
       "      <th>floofer</th>\n",
       "      <th>pupper</th>\n",
       "      <th>puppo</th>\n",
       "    </tr>\n",
       "  </thead>\n",
       "  <tbody>\n",
       "    <tr>\n",
       "      <th>0</th>\n",
       "      <td>892420643555336193</td>\n",
       "      <td>NaN</td>\n",
       "      <td>NaN</td>\n",
       "      <td>2017-08-01 16:23:56 +0000</td>\n",
       "      <td>&lt;a href=\"http://twitter.com/download/iphone\" rel=\"nofollow\"&gt;Twitter for iPhone&lt;/a&gt;</td>\n",
       "      <td>This is Phineas. He's a mystical boy. Only ever appears in the hole of a donut. 13/10 https://t.co/MgUWQ76dJU</td>\n",
       "      <td>NaN</td>\n",
       "      <td>NaN</td>\n",
       "      <td>NaN</td>\n",
       "      <td>https://twitter.com/dog_rates/status/892420643555336193/photo/1</td>\n",
       "      <td>13</td>\n",
       "      <td>10</td>\n",
       "      <td>Phineas</td>\n",
       "      <td>None</td>\n",
       "      <td>None</td>\n",
       "      <td>None</td>\n",
       "      <td>None</td>\n",
       "    </tr>\n",
       "    <tr>\n",
       "      <th>1</th>\n",
       "      <td>892177421306343426</td>\n",
       "      <td>NaN</td>\n",
       "      <td>NaN</td>\n",
       "      <td>2017-08-01 00:17:27 +0000</td>\n",
       "      <td>&lt;a href=\"http://twitter.com/download/iphone\" rel=\"nofollow\"&gt;Twitter for iPhone&lt;/a&gt;</td>\n",
       "      <td>This is Tilly. She's just checking pup on you. Hopes you're doing ok. If not, she's available for pats, snugs, boops, the whole bit. 13/10 https://t.co/0Xxu71qeIV</td>\n",
       "      <td>NaN</td>\n",
       "      <td>NaN</td>\n",
       "      <td>NaN</td>\n",
       "      <td>https://twitter.com/dog_rates/status/892177421306343426/photo/1</td>\n",
       "      <td>13</td>\n",
       "      <td>10</td>\n",
       "      <td>Tilly</td>\n",
       "      <td>None</td>\n",
       "      <td>None</td>\n",
       "      <td>None</td>\n",
       "      <td>None</td>\n",
       "    </tr>\n",
       "    <tr>\n",
       "      <th>2</th>\n",
       "      <td>891815181378084864</td>\n",
       "      <td>NaN</td>\n",
       "      <td>NaN</td>\n",
       "      <td>2017-07-31 00:18:03 +0000</td>\n",
       "      <td>&lt;a href=\"http://twitter.com/download/iphone\" rel=\"nofollow\"&gt;Twitter for iPhone&lt;/a&gt;</td>\n",
       "      <td>This is Archie. He is a rare Norwegian Pouncing Corgo. Lives in the tall grass. You never know when one may strike. 12/10 https://t.co/wUnZnhtVJB</td>\n",
       "      <td>NaN</td>\n",
       "      <td>NaN</td>\n",
       "      <td>NaN</td>\n",
       "      <td>https://twitter.com/dog_rates/status/891815181378084864/photo/1</td>\n",
       "      <td>12</td>\n",
       "      <td>10</td>\n",
       "      <td>Archie</td>\n",
       "      <td>None</td>\n",
       "      <td>None</td>\n",
       "      <td>None</td>\n",
       "      <td>None</td>\n",
       "    </tr>\n",
       "    <tr>\n",
       "      <th>3</th>\n",
       "      <td>891689557279858688</td>\n",
       "      <td>NaN</td>\n",
       "      <td>NaN</td>\n",
       "      <td>2017-07-30 15:58:51 +0000</td>\n",
       "      <td>&lt;a href=\"http://twitter.com/download/iphone\" rel=\"nofollow\"&gt;Twitter for iPhone&lt;/a&gt;</td>\n",
       "      <td>This is Darla. She commenced a snooze mid meal. 13/10 happens to the best of us https://t.co/tD36da7qLQ</td>\n",
       "      <td>NaN</td>\n",
       "      <td>NaN</td>\n",
       "      <td>NaN</td>\n",
       "      <td>https://twitter.com/dog_rates/status/891689557279858688/photo/1</td>\n",
       "      <td>13</td>\n",
       "      <td>10</td>\n",
       "      <td>Darla</td>\n",
       "      <td>None</td>\n",
       "      <td>None</td>\n",
       "      <td>None</td>\n",
       "      <td>None</td>\n",
       "    </tr>\n",
       "    <tr>\n",
       "      <th>4</th>\n",
       "      <td>891327558926688256</td>\n",
       "      <td>NaN</td>\n",
       "      <td>NaN</td>\n",
       "      <td>2017-07-29 16:00:24 +0000</td>\n",
       "      <td>&lt;a href=\"http://twitter.com/download/iphone\" rel=\"nofollow\"&gt;Twitter for iPhone&lt;/a&gt;</td>\n",
       "      <td>This is Franklin. He would like you to stop calling him \"cute.\" He is a very fierce shark and should be respected as such. 12/10 #BarkWeek https://t.co/AtUZn91f7f</td>\n",
       "      <td>NaN</td>\n",
       "      <td>NaN</td>\n",
       "      <td>NaN</td>\n",
       "      <td>https://twitter.com/dog_rates/status/891327558926688256/photo/1,https://twitter.com/dog_rates/status/891327558926688256/photo/1</td>\n",
       "      <td>12</td>\n",
       "      <td>10</td>\n",
       "      <td>Franklin</td>\n",
       "      <td>None</td>\n",
       "      <td>None</td>\n",
       "      <td>None</td>\n",
       "      <td>None</td>\n",
       "    </tr>\n",
       "  </tbody>\n",
       "</table>\n",
       "</div>"
      ],
      "text/plain": [
       "             tweet_id  in_reply_to_status_id  in_reply_to_user_id  \\\n",
       "0  892420643555336193 NaN                    NaN                    \n",
       "1  892177421306343426 NaN                    NaN                    \n",
       "2  891815181378084864 NaN                    NaN                    \n",
       "3  891689557279858688 NaN                    NaN                    \n",
       "4  891327558926688256 NaN                    NaN                    \n",
       "\n",
       "                   timestamp  \\\n",
       "0  2017-08-01 16:23:56 +0000   \n",
       "1  2017-08-01 00:17:27 +0000   \n",
       "2  2017-07-31 00:18:03 +0000   \n",
       "3  2017-07-30 15:58:51 +0000   \n",
       "4  2017-07-29 16:00:24 +0000   \n",
       "\n",
       "                                                                               source  \\\n",
       "0  <a href=\"http://twitter.com/download/iphone\" rel=\"nofollow\">Twitter for iPhone</a>   \n",
       "1  <a href=\"http://twitter.com/download/iphone\" rel=\"nofollow\">Twitter for iPhone</a>   \n",
       "2  <a href=\"http://twitter.com/download/iphone\" rel=\"nofollow\">Twitter for iPhone</a>   \n",
       "3  <a href=\"http://twitter.com/download/iphone\" rel=\"nofollow\">Twitter for iPhone</a>   \n",
       "4  <a href=\"http://twitter.com/download/iphone\" rel=\"nofollow\">Twitter for iPhone</a>   \n",
       "\n",
       "                                                                                                                                                                 text  \\\n",
       "0  This is Phineas. He's a mystical boy. Only ever appears in the hole of a donut. 13/10 https://t.co/MgUWQ76dJU                                                        \n",
       "1  This is Tilly. She's just checking pup on you. Hopes you're doing ok. If not, she's available for pats, snugs, boops, the whole bit. 13/10 https://t.co/0Xxu71qeIV   \n",
       "2  This is Archie. He is a rare Norwegian Pouncing Corgo. Lives in the tall grass. You never know when one may strike. 12/10 https://t.co/wUnZnhtVJB                    \n",
       "3  This is Darla. She commenced a snooze mid meal. 13/10 happens to the best of us https://t.co/tD36da7qLQ                                                              \n",
       "4  This is Franklin. He would like you to stop calling him \"cute.\" He is a very fierce shark and should be respected as such. 12/10 #BarkWeek https://t.co/AtUZn91f7f   \n",
       "\n",
       "   retweeted_status_id  retweeted_status_user_id retweeted_status_timestamp  \\\n",
       "0 NaN                  NaN                        NaN                         \n",
       "1 NaN                  NaN                        NaN                         \n",
       "2 NaN                  NaN                        NaN                         \n",
       "3 NaN                  NaN                        NaN                         \n",
       "4 NaN                  NaN                        NaN                         \n",
       "\n",
       "                                                                                                                     expanded_urls  \\\n",
       "0  https://twitter.com/dog_rates/status/892420643555336193/photo/1                                                                   \n",
       "1  https://twitter.com/dog_rates/status/892177421306343426/photo/1                                                                   \n",
       "2  https://twitter.com/dog_rates/status/891815181378084864/photo/1                                                                   \n",
       "3  https://twitter.com/dog_rates/status/891689557279858688/photo/1                                                                   \n",
       "4  https://twitter.com/dog_rates/status/891327558926688256/photo/1,https://twitter.com/dog_rates/status/891327558926688256/photo/1   \n",
       "\n",
       "   rating_numerator  rating_denominator      name doggo floofer pupper puppo  \n",
       "0  13                10                  Phineas   None  None    None   None  \n",
       "1  13                10                  Tilly     None  None    None   None  \n",
       "2  12                10                  Archie    None  None    None   None  \n",
       "3  13                10                  Darla     None  None    None   None  \n",
       "4  12                10                  Franklin  None  None    None   None  "
      ]
     },
     "execution_count": 542,
     "metadata": {},
     "output_type": "execute_result"
    }
   ],
   "source": [
    "twitter_data.head()"
   ]
  },
  {
   "cell_type": "code",
   "execution_count": 543,
   "metadata": {},
   "outputs": [
    {
     "data": {
      "text/html": [
       "<div>\n",
       "<style scoped>\n",
       "    .dataframe tbody tr th:only-of-type {\n",
       "        vertical-align: middle;\n",
       "    }\n",
       "\n",
       "    .dataframe tbody tr th {\n",
       "        vertical-align: top;\n",
       "    }\n",
       "\n",
       "    .dataframe thead th {\n",
       "        text-align: right;\n",
       "    }\n",
       "</style>\n",
       "<table border=\"1\" class=\"dataframe\">\n",
       "  <thead>\n",
       "    <tr style=\"text-align: right;\">\n",
       "      <th></th>\n",
       "      <th>tweet_id</th>\n",
       "      <th>in_reply_to_status_id</th>\n",
       "      <th>in_reply_to_user_id</th>\n",
       "      <th>timestamp</th>\n",
       "      <th>source</th>\n",
       "      <th>text</th>\n",
       "      <th>retweeted_status_id</th>\n",
       "      <th>retweeted_status_user_id</th>\n",
       "      <th>retweeted_status_timestamp</th>\n",
       "      <th>expanded_urls</th>\n",
       "      <th>rating_numerator</th>\n",
       "      <th>rating_denominator</th>\n",
       "      <th>name</th>\n",
       "      <th>doggo</th>\n",
       "      <th>floofer</th>\n",
       "      <th>pupper</th>\n",
       "      <th>puppo</th>\n",
       "    </tr>\n",
       "  </thead>\n",
       "  <tbody>\n",
       "    <tr>\n",
       "      <th>2351</th>\n",
       "      <td>666049248165822465</td>\n",
       "      <td>NaN</td>\n",
       "      <td>NaN</td>\n",
       "      <td>2015-11-16 00:24:50 +0000</td>\n",
       "      <td>&lt;a href=\"http://twitter.com/download/iphone\" rel=\"nofollow\"&gt;Twitter for iPhone&lt;/a&gt;</td>\n",
       "      <td>Here we have a 1949 1st generation vulpix. Enjoys sweat tea and Fox News. Cannot be phased. 5/10 https://t.co/4B7cOc1EDq</td>\n",
       "      <td>NaN</td>\n",
       "      <td>NaN</td>\n",
       "      <td>NaN</td>\n",
       "      <td>https://twitter.com/dog_rates/status/666049248165822465/photo/1</td>\n",
       "      <td>5</td>\n",
       "      <td>10</td>\n",
       "      <td>None</td>\n",
       "      <td>None</td>\n",
       "      <td>None</td>\n",
       "      <td>None</td>\n",
       "      <td>None</td>\n",
       "    </tr>\n",
       "    <tr>\n",
       "      <th>2352</th>\n",
       "      <td>666044226329800704</td>\n",
       "      <td>NaN</td>\n",
       "      <td>NaN</td>\n",
       "      <td>2015-11-16 00:04:52 +0000</td>\n",
       "      <td>&lt;a href=\"http://twitter.com/download/iphone\" rel=\"nofollow\"&gt;Twitter for iPhone&lt;/a&gt;</td>\n",
       "      <td>This is a purebred Piers Morgan. Loves to Netflix and chill. Always looks like he forgot to unplug the iron. 6/10 https://t.co/DWnyCjf2mx</td>\n",
       "      <td>NaN</td>\n",
       "      <td>NaN</td>\n",
       "      <td>NaN</td>\n",
       "      <td>https://twitter.com/dog_rates/status/666044226329800704/photo/1</td>\n",
       "      <td>6</td>\n",
       "      <td>10</td>\n",
       "      <td>a</td>\n",
       "      <td>None</td>\n",
       "      <td>None</td>\n",
       "      <td>None</td>\n",
       "      <td>None</td>\n",
       "    </tr>\n",
       "    <tr>\n",
       "      <th>2353</th>\n",
       "      <td>666033412701032449</td>\n",
       "      <td>NaN</td>\n",
       "      <td>NaN</td>\n",
       "      <td>2015-11-15 23:21:54 +0000</td>\n",
       "      <td>&lt;a href=\"http://twitter.com/download/iphone\" rel=\"nofollow\"&gt;Twitter for iPhone&lt;/a&gt;</td>\n",
       "      <td>Here is a very happy pup. Big fan of well-maintained decks. Just look at that tongue. 9/10 would cuddle af https://t.co/y671yMhoiR</td>\n",
       "      <td>NaN</td>\n",
       "      <td>NaN</td>\n",
       "      <td>NaN</td>\n",
       "      <td>https://twitter.com/dog_rates/status/666033412701032449/photo/1</td>\n",
       "      <td>9</td>\n",
       "      <td>10</td>\n",
       "      <td>a</td>\n",
       "      <td>None</td>\n",
       "      <td>None</td>\n",
       "      <td>None</td>\n",
       "      <td>None</td>\n",
       "    </tr>\n",
       "    <tr>\n",
       "      <th>2354</th>\n",
       "      <td>666029285002620928</td>\n",
       "      <td>NaN</td>\n",
       "      <td>NaN</td>\n",
       "      <td>2015-11-15 23:05:30 +0000</td>\n",
       "      <td>&lt;a href=\"http://twitter.com/download/iphone\" rel=\"nofollow\"&gt;Twitter for iPhone&lt;/a&gt;</td>\n",
       "      <td>This is a western brown Mitsubishi terrier. Upset about leaf. Actually 2 dogs here. 7/10 would walk the shit out of https://t.co/r7mOb2m0UI</td>\n",
       "      <td>NaN</td>\n",
       "      <td>NaN</td>\n",
       "      <td>NaN</td>\n",
       "      <td>https://twitter.com/dog_rates/status/666029285002620928/photo/1</td>\n",
       "      <td>7</td>\n",
       "      <td>10</td>\n",
       "      <td>a</td>\n",
       "      <td>None</td>\n",
       "      <td>None</td>\n",
       "      <td>None</td>\n",
       "      <td>None</td>\n",
       "    </tr>\n",
       "    <tr>\n",
       "      <th>2355</th>\n",
       "      <td>666020888022790149</td>\n",
       "      <td>NaN</td>\n",
       "      <td>NaN</td>\n",
       "      <td>2015-11-15 22:32:08 +0000</td>\n",
       "      <td>&lt;a href=\"http://twitter.com/download/iphone\" rel=\"nofollow\"&gt;Twitter for iPhone&lt;/a&gt;</td>\n",
       "      <td>Here we have a Japanese Irish Setter. Lost eye in Vietnam (?). Big fan of relaxing on stair. 8/10 would pet https://t.co/BLDqew2Ijj</td>\n",
       "      <td>NaN</td>\n",
       "      <td>NaN</td>\n",
       "      <td>NaN</td>\n",
       "      <td>https://twitter.com/dog_rates/status/666020888022790149/photo/1</td>\n",
       "      <td>8</td>\n",
       "      <td>10</td>\n",
       "      <td>None</td>\n",
       "      <td>None</td>\n",
       "      <td>None</td>\n",
       "      <td>None</td>\n",
       "      <td>None</td>\n",
       "    </tr>\n",
       "  </tbody>\n",
       "</table>\n",
       "</div>"
      ],
      "text/plain": [
       "                tweet_id  in_reply_to_status_id  in_reply_to_user_id  \\\n",
       "2351  666049248165822465 NaN                    NaN                    \n",
       "2352  666044226329800704 NaN                    NaN                    \n",
       "2353  666033412701032449 NaN                    NaN                    \n",
       "2354  666029285002620928 NaN                    NaN                    \n",
       "2355  666020888022790149 NaN                    NaN                    \n",
       "\n",
       "                      timestamp  \\\n",
       "2351  2015-11-16 00:24:50 +0000   \n",
       "2352  2015-11-16 00:04:52 +0000   \n",
       "2353  2015-11-15 23:21:54 +0000   \n",
       "2354  2015-11-15 23:05:30 +0000   \n",
       "2355  2015-11-15 22:32:08 +0000   \n",
       "\n",
       "                                                                                  source  \\\n",
       "2351  <a href=\"http://twitter.com/download/iphone\" rel=\"nofollow\">Twitter for iPhone</a>   \n",
       "2352  <a href=\"http://twitter.com/download/iphone\" rel=\"nofollow\">Twitter for iPhone</a>   \n",
       "2353  <a href=\"http://twitter.com/download/iphone\" rel=\"nofollow\">Twitter for iPhone</a>   \n",
       "2354  <a href=\"http://twitter.com/download/iphone\" rel=\"nofollow\">Twitter for iPhone</a>   \n",
       "2355  <a href=\"http://twitter.com/download/iphone\" rel=\"nofollow\">Twitter for iPhone</a>   \n",
       "\n",
       "                                                                                                                                             text  \\\n",
       "2351  Here we have a 1949 1st generation vulpix. Enjoys sweat tea and Fox News. Cannot be phased. 5/10 https://t.co/4B7cOc1EDq                      \n",
       "2352  This is a purebred Piers Morgan. Loves to Netflix and chill. Always looks like he forgot to unplug the iron. 6/10 https://t.co/DWnyCjf2mx     \n",
       "2353  Here is a very happy pup. Big fan of well-maintained decks. Just look at that tongue. 9/10 would cuddle af https://t.co/y671yMhoiR            \n",
       "2354  This is a western brown Mitsubishi terrier. Upset about leaf. Actually 2 dogs here. 7/10 would walk the shit out of https://t.co/r7mOb2m0UI   \n",
       "2355  Here we have a Japanese Irish Setter. Lost eye in Vietnam (?). Big fan of relaxing on stair. 8/10 would pet https://t.co/BLDqew2Ijj           \n",
       "\n",
       "      retweeted_status_id  retweeted_status_user_id  \\\n",
       "2351 NaN                  NaN                         \n",
       "2352 NaN                  NaN                         \n",
       "2353 NaN                  NaN                         \n",
       "2354 NaN                  NaN                         \n",
       "2355 NaN                  NaN                         \n",
       "\n",
       "     retweeted_status_timestamp  \\\n",
       "2351  NaN                         \n",
       "2352  NaN                         \n",
       "2353  NaN                         \n",
       "2354  NaN                         \n",
       "2355  NaN                         \n",
       "\n",
       "                                                        expanded_urls  \\\n",
       "2351  https://twitter.com/dog_rates/status/666049248165822465/photo/1   \n",
       "2352  https://twitter.com/dog_rates/status/666044226329800704/photo/1   \n",
       "2353  https://twitter.com/dog_rates/status/666033412701032449/photo/1   \n",
       "2354  https://twitter.com/dog_rates/status/666029285002620928/photo/1   \n",
       "2355  https://twitter.com/dog_rates/status/666020888022790149/photo/1   \n",
       "\n",
       "      rating_numerator  rating_denominator  name doggo floofer pupper puppo  \n",
       "2351  5                 10                  None  None  None    None   None  \n",
       "2352  6                 10                  a     None  None    None   None  \n",
       "2353  9                 10                  a     None  None    None   None  \n",
       "2354  7                 10                  a     None  None    None   None  \n",
       "2355  8                 10                  None  None  None    None   None  "
      ]
     },
     "execution_count": 543,
     "metadata": {},
     "output_type": "execute_result"
    }
   ],
   "source": [
    "twitter_data.tail()"
   ]
  },
  {
   "cell_type": "code",
   "execution_count": 544,
   "metadata": {},
   "outputs": [
    {
     "data": {
      "text/plain": [
       "(2356, 17)"
      ]
     },
     "execution_count": 544,
     "metadata": {},
     "output_type": "execute_result"
    }
   ],
   "source": [
    "twitter_data.shape"
   ]
  },
  {
   "cell_type": "code",
   "execution_count": 545,
   "metadata": {},
   "outputs": [
    {
     "data": {
      "text/html": [
       "<div>\n",
       "<style scoped>\n",
       "    .dataframe tbody tr th:only-of-type {\n",
       "        vertical-align: middle;\n",
       "    }\n",
       "\n",
       "    .dataframe tbody tr th {\n",
       "        vertical-align: top;\n",
       "    }\n",
       "\n",
       "    .dataframe thead th {\n",
       "        text-align: right;\n",
       "    }\n",
       "</style>\n",
       "<table border=\"1\" class=\"dataframe\">\n",
       "  <thead>\n",
       "    <tr style=\"text-align: right;\">\n",
       "      <th></th>\n",
       "      <th>tweet_id</th>\n",
       "      <th>jpg_url</th>\n",
       "      <th>img_num</th>\n",
       "      <th>p1</th>\n",
       "      <th>p1_conf</th>\n",
       "      <th>p1_dog</th>\n",
       "      <th>p2</th>\n",
       "      <th>p2_conf</th>\n",
       "      <th>p2_dog</th>\n",
       "      <th>p3</th>\n",
       "      <th>p3_conf</th>\n",
       "      <th>p3_dog</th>\n",
       "    </tr>\n",
       "  </thead>\n",
       "  <tbody>\n",
       "    <tr>\n",
       "      <th>0</th>\n",
       "      <td>666020888022790149</td>\n",
       "      <td>https://pbs.twimg.com/media/CT4udn0WwAA0aMy.jpg</td>\n",
       "      <td>1</td>\n",
       "      <td>Welsh_springer_spaniel</td>\n",
       "      <td>0.465074</td>\n",
       "      <td>True</td>\n",
       "      <td>collie</td>\n",
       "      <td>0.156665</td>\n",
       "      <td>True</td>\n",
       "      <td>Shetland_sheepdog</td>\n",
       "      <td>0.061428</td>\n",
       "      <td>True</td>\n",
       "    </tr>\n",
       "    <tr>\n",
       "      <th>1</th>\n",
       "      <td>666029285002620928</td>\n",
       "      <td>https://pbs.twimg.com/media/CT42GRgUYAA5iDo.jpg</td>\n",
       "      <td>1</td>\n",
       "      <td>redbone</td>\n",
       "      <td>0.506826</td>\n",
       "      <td>True</td>\n",
       "      <td>miniature_pinscher</td>\n",
       "      <td>0.074192</td>\n",
       "      <td>True</td>\n",
       "      <td>Rhodesian_ridgeback</td>\n",
       "      <td>0.072010</td>\n",
       "      <td>True</td>\n",
       "    </tr>\n",
       "    <tr>\n",
       "      <th>2</th>\n",
       "      <td>666033412701032449</td>\n",
       "      <td>https://pbs.twimg.com/media/CT4521TWwAEvMyu.jpg</td>\n",
       "      <td>1</td>\n",
       "      <td>German_shepherd</td>\n",
       "      <td>0.596461</td>\n",
       "      <td>True</td>\n",
       "      <td>malinois</td>\n",
       "      <td>0.138584</td>\n",
       "      <td>True</td>\n",
       "      <td>bloodhound</td>\n",
       "      <td>0.116197</td>\n",
       "      <td>True</td>\n",
       "    </tr>\n",
       "    <tr>\n",
       "      <th>3</th>\n",
       "      <td>666044226329800704</td>\n",
       "      <td>https://pbs.twimg.com/media/CT5Dr8HUEAA-lEu.jpg</td>\n",
       "      <td>1</td>\n",
       "      <td>Rhodesian_ridgeback</td>\n",
       "      <td>0.408143</td>\n",
       "      <td>True</td>\n",
       "      <td>redbone</td>\n",
       "      <td>0.360687</td>\n",
       "      <td>True</td>\n",
       "      <td>miniature_pinscher</td>\n",
       "      <td>0.222752</td>\n",
       "      <td>True</td>\n",
       "    </tr>\n",
       "    <tr>\n",
       "      <th>4</th>\n",
       "      <td>666049248165822465</td>\n",
       "      <td>https://pbs.twimg.com/media/CT5IQmsXIAAKY4A.jpg</td>\n",
       "      <td>1</td>\n",
       "      <td>miniature_pinscher</td>\n",
       "      <td>0.560311</td>\n",
       "      <td>True</td>\n",
       "      <td>Rottweiler</td>\n",
       "      <td>0.243682</td>\n",
       "      <td>True</td>\n",
       "      <td>Doberman</td>\n",
       "      <td>0.154629</td>\n",
       "      <td>True</td>\n",
       "    </tr>\n",
       "  </tbody>\n",
       "</table>\n",
       "</div>"
      ],
      "text/plain": [
       "             tweet_id                                          jpg_url  \\\n",
       "0  666020888022790149  https://pbs.twimg.com/media/CT4udn0WwAA0aMy.jpg   \n",
       "1  666029285002620928  https://pbs.twimg.com/media/CT42GRgUYAA5iDo.jpg   \n",
       "2  666033412701032449  https://pbs.twimg.com/media/CT4521TWwAEvMyu.jpg   \n",
       "3  666044226329800704  https://pbs.twimg.com/media/CT5Dr8HUEAA-lEu.jpg   \n",
       "4  666049248165822465  https://pbs.twimg.com/media/CT5IQmsXIAAKY4A.jpg   \n",
       "\n",
       "   img_num                      p1   p1_conf  p1_dog                  p2  \\\n",
       "0  1        Welsh_springer_spaniel  0.465074  True    collie               \n",
       "1  1        redbone                 0.506826  True    miniature_pinscher   \n",
       "2  1        German_shepherd         0.596461  True    malinois             \n",
       "3  1        Rhodesian_ridgeback     0.408143  True    redbone              \n",
       "4  1        miniature_pinscher      0.560311  True    Rottweiler           \n",
       "\n",
       "    p2_conf  p2_dog                   p3   p3_conf  p3_dog  \n",
       "0  0.156665  True    Shetland_sheepdog    0.061428  True    \n",
       "1  0.074192  True    Rhodesian_ridgeback  0.072010  True    \n",
       "2  0.138584  True    bloodhound           0.116197  True    \n",
       "3  0.360687  True    miniature_pinscher   0.222752  True    \n",
       "4  0.243682  True    Doberman             0.154629  True    "
      ]
     },
     "execution_count": 545,
     "metadata": {},
     "output_type": "execute_result"
    }
   ],
   "source": [
    "image_predictions.head()"
   ]
  },
  {
   "cell_type": "code",
   "execution_count": 546,
   "metadata": {},
   "outputs": [
    {
     "data": {
      "text/html": [
       "<div>\n",
       "<style scoped>\n",
       "    .dataframe tbody tr th:only-of-type {\n",
       "        vertical-align: middle;\n",
       "    }\n",
       "\n",
       "    .dataframe tbody tr th {\n",
       "        vertical-align: top;\n",
       "    }\n",
       "\n",
       "    .dataframe thead th {\n",
       "        text-align: right;\n",
       "    }\n",
       "</style>\n",
       "<table border=\"1\" class=\"dataframe\">\n",
       "  <thead>\n",
       "    <tr style=\"text-align: right;\">\n",
       "      <th></th>\n",
       "      <th>tweet_id</th>\n",
       "      <th>jpg_url</th>\n",
       "      <th>img_num</th>\n",
       "      <th>p1</th>\n",
       "      <th>p1_conf</th>\n",
       "      <th>p1_dog</th>\n",
       "      <th>p2</th>\n",
       "      <th>p2_conf</th>\n",
       "      <th>p2_dog</th>\n",
       "      <th>p3</th>\n",
       "      <th>p3_conf</th>\n",
       "      <th>p3_dog</th>\n",
       "    </tr>\n",
       "  </thead>\n",
       "  <tbody>\n",
       "    <tr>\n",
       "      <th>2070</th>\n",
       "      <td>891327558926688256</td>\n",
       "      <td>https://pbs.twimg.com/media/DF6hr6BUMAAzZgT.jpg</td>\n",
       "      <td>2</td>\n",
       "      <td>basset</td>\n",
       "      <td>0.555712</td>\n",
       "      <td>True</td>\n",
       "      <td>English_springer</td>\n",
       "      <td>0.225770</td>\n",
       "      <td>True</td>\n",
       "      <td>German_short-haired_pointer</td>\n",
       "      <td>0.175219</td>\n",
       "      <td>True</td>\n",
       "    </tr>\n",
       "    <tr>\n",
       "      <th>2071</th>\n",
       "      <td>891689557279858688</td>\n",
       "      <td>https://pbs.twimg.com/media/DF_q7IAWsAEuuN8.jpg</td>\n",
       "      <td>1</td>\n",
       "      <td>paper_towel</td>\n",
       "      <td>0.170278</td>\n",
       "      <td>False</td>\n",
       "      <td>Labrador_retriever</td>\n",
       "      <td>0.168086</td>\n",
       "      <td>True</td>\n",
       "      <td>spatula</td>\n",
       "      <td>0.040836</td>\n",
       "      <td>False</td>\n",
       "    </tr>\n",
       "    <tr>\n",
       "      <th>2072</th>\n",
       "      <td>891815181378084864</td>\n",
       "      <td>https://pbs.twimg.com/media/DGBdLU1WsAANxJ9.jpg</td>\n",
       "      <td>1</td>\n",
       "      <td>Chihuahua</td>\n",
       "      <td>0.716012</td>\n",
       "      <td>True</td>\n",
       "      <td>malamute</td>\n",
       "      <td>0.078253</td>\n",
       "      <td>True</td>\n",
       "      <td>kelpie</td>\n",
       "      <td>0.031379</td>\n",
       "      <td>True</td>\n",
       "    </tr>\n",
       "    <tr>\n",
       "      <th>2073</th>\n",
       "      <td>892177421306343426</td>\n",
       "      <td>https://pbs.twimg.com/media/DGGmoV4XsAAUL6n.jpg</td>\n",
       "      <td>1</td>\n",
       "      <td>Chihuahua</td>\n",
       "      <td>0.323581</td>\n",
       "      <td>True</td>\n",
       "      <td>Pekinese</td>\n",
       "      <td>0.090647</td>\n",
       "      <td>True</td>\n",
       "      <td>papillon</td>\n",
       "      <td>0.068957</td>\n",
       "      <td>True</td>\n",
       "    </tr>\n",
       "    <tr>\n",
       "      <th>2074</th>\n",
       "      <td>892420643555336193</td>\n",
       "      <td>https://pbs.twimg.com/media/DGKD1-bXoAAIAUK.jpg</td>\n",
       "      <td>1</td>\n",
       "      <td>orange</td>\n",
       "      <td>0.097049</td>\n",
       "      <td>False</td>\n",
       "      <td>bagel</td>\n",
       "      <td>0.085851</td>\n",
       "      <td>False</td>\n",
       "      <td>banana</td>\n",
       "      <td>0.076110</td>\n",
       "      <td>False</td>\n",
       "    </tr>\n",
       "  </tbody>\n",
       "</table>\n",
       "</div>"
      ],
      "text/plain": [
       "                tweet_id                                          jpg_url  \\\n",
       "2070  891327558926688256  https://pbs.twimg.com/media/DF6hr6BUMAAzZgT.jpg   \n",
       "2071  891689557279858688  https://pbs.twimg.com/media/DF_q7IAWsAEuuN8.jpg   \n",
       "2072  891815181378084864  https://pbs.twimg.com/media/DGBdLU1WsAANxJ9.jpg   \n",
       "2073  892177421306343426  https://pbs.twimg.com/media/DGGmoV4XsAAUL6n.jpg   \n",
       "2074  892420643555336193  https://pbs.twimg.com/media/DGKD1-bXoAAIAUK.jpg   \n",
       "\n",
       "      img_num           p1   p1_conf  p1_dog                  p2   p2_conf  \\\n",
       "2070  2        basset       0.555712  True    English_springer    0.225770   \n",
       "2071  1        paper_towel  0.170278  False   Labrador_retriever  0.168086   \n",
       "2072  1        Chihuahua    0.716012  True    malamute            0.078253   \n",
       "2073  1        Chihuahua    0.323581  True    Pekinese            0.090647   \n",
       "2074  1        orange       0.097049  False   bagel               0.085851   \n",
       "\n",
       "      p2_dog                           p3   p3_conf  p3_dog  \n",
       "2070  True    German_short-haired_pointer  0.175219  True    \n",
       "2071  True    spatula                      0.040836  False   \n",
       "2072  True    kelpie                       0.031379  True    \n",
       "2073  True    papillon                     0.068957  True    \n",
       "2074  False   banana                       0.076110  False   "
      ]
     },
     "execution_count": 546,
     "metadata": {},
     "output_type": "execute_result"
    }
   ],
   "source": [
    "image_predictions.tail()"
   ]
  },
  {
   "cell_type": "code",
   "execution_count": 547,
   "metadata": {},
   "outputs": [
    {
     "data": {
      "text/plain": [
       "(2075, 12)"
      ]
     },
     "execution_count": 547,
     "metadata": {},
     "output_type": "execute_result"
    }
   ],
   "source": [
    "image_predictions.shape"
   ]
  },
  {
   "cell_type": "code",
   "execution_count": 548,
   "metadata": {},
   "outputs": [
    {
     "data": {
      "text/html": [
       "<div>\n",
       "<style scoped>\n",
       "    .dataframe tbody tr th:only-of-type {\n",
       "        vertical-align: middle;\n",
       "    }\n",
       "\n",
       "    .dataframe tbody tr th {\n",
       "        vertical-align: top;\n",
       "    }\n",
       "\n",
       "    .dataframe thead th {\n",
       "        text-align: right;\n",
       "    }\n",
       "</style>\n",
       "<table border=\"1\" class=\"dataframe\">\n",
       "  <thead>\n",
       "    <tr style=\"text-align: right;\">\n",
       "      <th></th>\n",
       "      <th>tweet_id</th>\n",
       "      <th>retweets</th>\n",
       "      <th>favorites</th>\n",
       "    </tr>\n",
       "  </thead>\n",
       "  <tbody>\n",
       "    <tr>\n",
       "      <th>0</th>\n",
       "      <td>892420643555336193</td>\n",
       "      <td>8853</td>\n",
       "      <td>39467</td>\n",
       "    </tr>\n",
       "    <tr>\n",
       "      <th>1</th>\n",
       "      <td>892177421306343426</td>\n",
       "      <td>6514</td>\n",
       "      <td>33819</td>\n",
       "    </tr>\n",
       "    <tr>\n",
       "      <th>2</th>\n",
       "      <td>891815181378084864</td>\n",
       "      <td>4328</td>\n",
       "      <td>25461</td>\n",
       "    </tr>\n",
       "    <tr>\n",
       "      <th>3</th>\n",
       "      <td>891689557279858688</td>\n",
       "      <td>8964</td>\n",
       "      <td>42908</td>\n",
       "    </tr>\n",
       "    <tr>\n",
       "      <th>4</th>\n",
       "      <td>891327558926688256</td>\n",
       "      <td>9774</td>\n",
       "      <td>41048</td>\n",
       "    </tr>\n",
       "  </tbody>\n",
       "</table>\n",
       "</div>"
      ],
      "text/plain": [
       "             tweet_id  retweets  favorites\n",
       "0  892420643555336193  8853      39467    \n",
       "1  892177421306343426  6514      33819    \n",
       "2  891815181378084864  4328      25461    \n",
       "3  891689557279858688  8964      42908    \n",
       "4  891327558926688256  9774      41048    "
      ]
     },
     "execution_count": 548,
     "metadata": {},
     "output_type": "execute_result"
    }
   ],
   "source": [
    "tweet_info.head()\n"
   ]
  },
  {
   "cell_type": "code",
   "execution_count": 549,
   "metadata": {},
   "outputs": [
    {
     "data": {
      "text/html": [
       "<div>\n",
       "<style scoped>\n",
       "    .dataframe tbody tr th:only-of-type {\n",
       "        vertical-align: middle;\n",
       "    }\n",
       "\n",
       "    .dataframe tbody tr th {\n",
       "        vertical-align: top;\n",
       "    }\n",
       "\n",
       "    .dataframe thead th {\n",
       "        text-align: right;\n",
       "    }\n",
       "</style>\n",
       "<table border=\"1\" class=\"dataframe\">\n",
       "  <thead>\n",
       "    <tr style=\"text-align: right;\">\n",
       "      <th></th>\n",
       "      <th>tweet_id</th>\n",
       "      <th>retweets</th>\n",
       "      <th>favorites</th>\n",
       "    </tr>\n",
       "  </thead>\n",
       "  <tbody>\n",
       "    <tr>\n",
       "      <th>2349</th>\n",
       "      <td>666049248165822465</td>\n",
       "      <td>41</td>\n",
       "      <td>111</td>\n",
       "    </tr>\n",
       "    <tr>\n",
       "      <th>2350</th>\n",
       "      <td>666044226329800704</td>\n",
       "      <td>147</td>\n",
       "      <td>311</td>\n",
       "    </tr>\n",
       "    <tr>\n",
       "      <th>2351</th>\n",
       "      <td>666033412701032449</td>\n",
       "      <td>47</td>\n",
       "      <td>128</td>\n",
       "    </tr>\n",
       "    <tr>\n",
       "      <th>2352</th>\n",
       "      <td>666029285002620928</td>\n",
       "      <td>48</td>\n",
       "      <td>132</td>\n",
       "    </tr>\n",
       "    <tr>\n",
       "      <th>2353</th>\n",
       "      <td>666020888022790149</td>\n",
       "      <td>532</td>\n",
       "      <td>2535</td>\n",
       "    </tr>\n",
       "  </tbody>\n",
       "</table>\n",
       "</div>"
      ],
      "text/plain": [
       "                tweet_id  retweets  favorites\n",
       "2349  666049248165822465  41        111      \n",
       "2350  666044226329800704  147       311      \n",
       "2351  666033412701032449  47        128      \n",
       "2352  666029285002620928  48        132      \n",
       "2353  666020888022790149  532       2535     "
      ]
     },
     "execution_count": 549,
     "metadata": {},
     "output_type": "execute_result"
    }
   ],
   "source": [
    "tweet_info.tail()"
   ]
  },
  {
   "cell_type": "code",
   "execution_count": 550,
   "metadata": {},
   "outputs": [
    {
     "data": {
      "text/plain": [
       "(2354, 3)"
      ]
     },
     "execution_count": 550,
     "metadata": {},
     "output_type": "execute_result"
    }
   ],
   "source": [
    "tweet_info.shape"
   ]
  },
  {
   "cell_type": "markdown",
   "metadata": {},
   "source": [
    "### Programmatic Assessment "
   ]
  },
  {
   "cell_type": "markdown",
   "metadata": {},
   "source": [
    "##### Programmatic assessment of  twitter_data dataframe"
   ]
  },
  {
   "cell_type": "code",
   "execution_count": 551,
   "metadata": {},
   "outputs": [
    {
     "name": "stdout",
     "output_type": "stream",
     "text": [
      "<class 'pandas.core.frame.DataFrame'>\n",
      "RangeIndex: 2356 entries, 0 to 2355\n",
      "Data columns (total 17 columns):\n",
      " #   Column                      Non-Null Count  Dtype  \n",
      "---  ------                      --------------  -----  \n",
      " 0   tweet_id                    2356 non-null   int64  \n",
      " 1   in_reply_to_status_id       78 non-null     float64\n",
      " 2   in_reply_to_user_id         78 non-null     float64\n",
      " 3   timestamp                   2356 non-null   object \n",
      " 4   source                      2356 non-null   object \n",
      " 5   text                        2356 non-null   object \n",
      " 6   retweeted_status_id         181 non-null    float64\n",
      " 7   retweeted_status_user_id    181 non-null    float64\n",
      " 8   retweeted_status_timestamp  181 non-null    object \n",
      " 9   expanded_urls               2297 non-null   object \n",
      " 10  rating_numerator            2356 non-null   int64  \n",
      " 11  rating_denominator          2356 non-null   int64  \n",
      " 12  name                        2356 non-null   object \n",
      " 13  doggo                       2356 non-null   object \n",
      " 14  floofer                     2356 non-null   object \n",
      " 15  pupper                      2356 non-null   object \n",
      " 16  puppo                       2356 non-null   object \n",
      "dtypes: float64(4), int64(3), object(10)\n",
      "memory usage: 313.0+ KB\n"
     ]
    }
   ],
   "source": [
    "twitter_data.info()"
   ]
  },
  {
   "cell_type": "code",
   "execution_count": 552,
   "metadata": {},
   "outputs": [
    {
     "data": {
      "text/plain": [
       "12      558\n",
       "11      464\n",
       "10      461\n",
       "13      351\n",
       "9       158\n",
       "8       102\n",
       "7       55 \n",
       "14      54 \n",
       "5       37 \n",
       "6       32 \n",
       "3       19 \n",
       "4       17 \n",
       "1       9  \n",
       "2       9  \n",
       "420     2  \n",
       "0       2  \n",
       "15      2  \n",
       "75      2  \n",
       "80      1  \n",
       "20      1  \n",
       "24      1  \n",
       "26      1  \n",
       "44      1  \n",
       "50      1  \n",
       "60      1  \n",
       "165     1  \n",
       "84      1  \n",
       "88      1  \n",
       "144     1  \n",
       "182     1  \n",
       "143     1  \n",
       "666     1  \n",
       "960     1  \n",
       "1776    1  \n",
       "17      1  \n",
       "27      1  \n",
       "45      1  \n",
       "99      1  \n",
       "121     1  \n",
       "204     1  \n",
       "Name: rating_numerator, dtype: int64"
      ]
     },
     "execution_count": 552,
     "metadata": {},
     "output_type": "execute_result"
    }
   ],
   "source": [
    "twitter_data.rating_numerator.value_counts()"
   ]
  },
  {
   "cell_type": "code",
   "execution_count": 553,
   "metadata": {},
   "outputs": [
    {
     "data": {
      "text/plain": [
       "45      This is Bella. She hopes her smile made you smile. If not, she is also offering you her favorite monkey. 13.5/10 https://t.co/qjrljjt948        \n",
       "730     Who keeps sending in pictures without dogs in them? This needs to stop. 5/10 for the mediocre road https://t.co/ELqelxWMrC                      \n",
       "956     Please stop sending it pictures that don't even have a doggo or pupper in them. Churlish af. 5/10 neat couch tho https://t.co/u2c9c7qSg8        \n",
       "1399    This is Dave. He's a tropical pup. Short lil legs (dachshund mix?) Excels underwater, but refuses to eat kibble 5/10 https://t.co/ZJnCxlIf62    \n",
       "1461    Please only send in dogs. This t-rex is very scary. 5/10 ...might still pet (vid by @helizabethmicha) https://t.co/Vn6w5w8TO2                   \n",
       "1508    When bae says they can't go out but you see them with someone else that same night. 5/10 &amp; 10/10 for heartbroken pup https://t.co/aenk0KpoWM\n",
       "1583    Army of water dogs here. None of them know where they're going. Have no real purpose. Aggressive barks. 5/10 for all https://t.co/A88x73TwMN    \n",
       "1618    For those who claim this is a goat, u are wrong. It is not the Greatest Of All Time. The rating of 5/10 should have made that clear. Thank u    \n",
       "1619    This is Jerry. He's a neat dog. No legs (tragic). Has more horns than a dog usually does. Bark is unique af. 5/10 https://t.co/85q7xlplsJ       \n",
       "1624    Here we have a basking dino pupper. Looks powerful. Occasionally shits eggs. Doesn't want the holidays to end. 5/10 https://t.co/DnNweb5eTO     \n",
       "1645    This is Jiminy. He's not the brightest dog. Needs to lay off the kibble. 5/10 still petable https://t.co/omln4LOy1x                             \n",
       "1680    Unique dog here. Wrinkly as hell. Weird segmented neck. Finger on fire. Doesn't seem to notice. 5/10 might still pet https://t.co/Hy9La4xNX3    \n",
       "1689    I've been told there's a slight possibility he's checking his mirror. We'll bump to 9.5/10. Still a menace                                      \n",
       "1727    Meet Penelope. She's a bacon frise. Total babe (lol get it like the movie). Doesn't bark tho. 5/10 very average dog https://t.co/SDcQYg0HSZ     \n",
       "1796    This is Juckson. He's totally on his way to a nascar race. 5/10 for Juckson https://t.co/IoLRvF0Kak                                             \n",
       "1808    Exotic handheld dog here. Appears unathletic. Feet look deadly. Can be thrown a great distance. 5/10 might pet idk https://t.co/Avq4awulqk      \n",
       "1820    This is Bubbles. He kinda resembles a fish. Always makes eye contact with u no matter what. Sneaky tongue slip. 5/10 https://t.co/Nrhvc5tLFT    \n",
       "1861    Rare shielded battle dog here. Very happy about abundance of lettuce. Painfully slow fetcher. Still petable. 5/10 https://t.co/C3tlKVq7eO       \n",
       "1874    This is Steven. He got locked outside. Damn it Steven. 5/10 nice grill tho https://t.co/zf7Sxxjfp3                                              \n",
       "1901    Two gorgeous dogs here. Little waddling dog is a rebel. Refuses to look at camera. Must be a preteen. 5/10 &amp; 8/10 https://t.co/YPfw7oahbD   \n",
       "1904    Rare submerged pup here. Holds breath for a long time. Frowning because that spoon ignores him. 5/10 would still pet https://t.co/EJzzNHE8bE    \n",
       "1925    This is Earl. Earl is lost. Someone help Earl. He has no tags. Just trying to get home. 5/10 hang in there Earl https://t.co/1ZbfqAVDg6         \n",
       "1979    Extraordinary dog here. Looks large. Just a head. No body. Rather intrusive. 5/10 would still pet https://t.co/ufHWUFA9Pu                       \n",
       "2013    Exotic underwater dog here. Very shy. Wont return tennis balls I toss him. Never been petted. 5/10 I bet he's soft https://t.co/WH7Nzc5IBA      \n",
       "2026    This is Brad. He's a chubby lil pup. Doesn't really need the food he's trying to reach. 5/10 you've had enough Brad https://t.co/vPXKSaNsbE     \n",
       "2063    This is Anthony. He just finished up his masters at Harvard. Unprofessional tattoos. Always looks perturbed. 5/10 https://t.co/iHLo9rGay1       \n",
       "2092    This dude slaps your girl's ass what do you do?\\n5/10 https://t.co/6dioUL6gcP                                                                   \n",
       "2109    Vibrant dog here. Fabulous tail. Only 2 legs tho. Has wings but can barely fly (lame). Rather elusive. 5/10 okay pup https://t.co/cixC0M3P1e    \n",
       "2134    This is Randall. He's from Chernobyl. Built playground himself. Has been stuck up there quite a while. 5/10 good dog https://t.co/pzrvc7wKGd    \n",
       "2139    Awesome dog here. Not sure where it is tho. Spectacular camouflage. Enjoys leaves. Not very soft. 5/10 still petable https://t.co/rOTOteKx4q    \n",
       "2153    This is a brave dog. Excellent free climber. Trying to get closer to God. Not very loyal though. Doesn't bark. 5/10 https://t.co/ODnILTr4QM     \n",
       "2181    Two gorgeous pups here. Both have cute fake horns(adorable). Barn in the back looks on fire. 5/10 would pet rly well https://t.co/w5oYFXi0uh    \n",
       "2206    Meet Zeek. He is a grey Cumulonimbus. Zeek is hungry. Someone should feed Zeek asap. 5/10 absolutely terrifying https://t.co/fvVNScw8VH         \n",
       "2242    Wow. Armored dog here. Ready for battle. Face looks dangerous. Not very loyal. Lil dog on back havin a blast. 5/10 https://t.co/SyMoWrp368      \n",
       "2260    RT @dogratingrating: Unoriginal idea. Blatant plagiarism. Curious grammar. -5/10 https://t.co/r7XzeQZWzb                                        \n",
       "2312    This is Josep. He is a Rye Manganese mix. Can drive w eyes closed. Very irresponsible. Menace on the roadways. 5/10 https://t.co/XNGeDwrtYH     \n",
       "2351    Here we have a 1949 1st generation vulpix. Enjoys sweat tea and Fox News. Cannot be phased. 5/10 https://t.co/4B7cOc1EDq                        \n",
       "Name: text, dtype: object"
      ]
     },
     "execution_count": 553,
     "metadata": {},
     "output_type": "execute_result"
    }
   ],
   "source": [
    "twitter_data.query('rating_numerator == 5')['text']"
   ]
  },
  {
   "cell_type": "code",
   "execution_count": 554,
   "metadata": {},
   "outputs": [
    {
     "data": {
      "text/plain": [
       "10     2333\n",
       "11     3   \n",
       "50     3   \n",
       "80     2   \n",
       "20     2   \n",
       "2      1   \n",
       "16     1   \n",
       "40     1   \n",
       "70     1   \n",
       "15     1   \n",
       "90     1   \n",
       "110    1   \n",
       "120    1   \n",
       "130    1   \n",
       "150    1   \n",
       "170    1   \n",
       "7      1   \n",
       "0      1   \n",
       "Name: rating_denominator, dtype: int64"
      ]
     },
     "execution_count": 554,
     "metadata": {},
     "output_type": "execute_result"
    }
   ],
   "source": [
    "twitter_data.rating_denominator.value_counts()"
   ]
  },
  {
   "cell_type": "code",
   "execution_count": 555,
   "metadata": {},
   "outputs": [
    {
     "data": {
      "text/plain": [
       "0"
      ]
     },
     "execution_count": 555,
     "metadata": {},
     "output_type": "execute_result"
    }
   ],
   "source": [
    "twitter_data.tweet_id.duplicated().sum()"
   ]
  },
  {
   "cell_type": "code",
   "execution_count": 556,
   "metadata": {},
   "outputs": [
    {
     "data": {
      "text/plain": [
       "<a href=\"http://twitter.com/download/iphone\" rel=\"nofollow\">Twitter for iPhone</a>     2221\n",
       "<a href=\"http://vine.co\" rel=\"nofollow\">Vine - Make a Scene</a>                        91  \n",
       "<a href=\"http://twitter.com\" rel=\"nofollow\">Twitter Web Client</a>                     33  \n",
       "<a href=\"https://about.twitter.com/products/tweetdeck\" rel=\"nofollow\">TweetDeck</a>    11  \n",
       "Name: source, dtype: int64"
      ]
     },
     "execution_count": 556,
     "metadata": {},
     "output_type": "execute_result"
    }
   ],
   "source": [
    "twitter_data.source.value_counts()"
   ]
  },
  {
   "cell_type": "code",
   "execution_count": 557,
   "metadata": {},
   "outputs": [
    {
     "data": {
      "text/plain": [
       "None        745\n",
       "a           55 \n",
       "Charlie     12 \n",
       "Cooper      11 \n",
       "Oliver      11 \n",
       "            .. \n",
       "Luther      1  \n",
       "Gin         1  \n",
       "Karl        1  \n",
       "Terrenth    1  \n",
       "Clarkus     1  \n",
       "Name: name, Length: 957, dtype: int64"
      ]
     },
     "execution_count": 557,
     "metadata": {},
     "output_type": "execute_result"
    }
   ],
   "source": [
    "twitter_data.name.value_counts()"
   ]
  },
  {
   "cell_type": "code",
   "execution_count": 558,
   "metadata": {},
   "outputs": [
    {
     "data": {
      "text/plain": [
       "59"
      ]
     },
     "execution_count": 558,
     "metadata": {},
     "output_type": "execute_result"
    }
   ],
   "source": [
    "twitter_data.expanded_urls.isnull().sum()"
   ]
  },
  {
   "cell_type": "markdown",
   "metadata": {},
   "source": [
    "##### Programmatic assessment of  image_predictions dataframe"
   ]
  },
  {
   "cell_type": "code",
   "execution_count": 559,
   "metadata": {},
   "outputs": [
    {
     "name": "stdout",
     "output_type": "stream",
     "text": [
      "<class 'pandas.core.frame.DataFrame'>\n",
      "RangeIndex: 2075 entries, 0 to 2074\n",
      "Data columns (total 12 columns):\n",
      " #   Column    Non-Null Count  Dtype  \n",
      "---  ------    --------------  -----  \n",
      " 0   tweet_id  2075 non-null   int64  \n",
      " 1   jpg_url   2075 non-null   object \n",
      " 2   img_num   2075 non-null   int64  \n",
      " 3   p1        2075 non-null   object \n",
      " 4   p1_conf   2075 non-null   float64\n",
      " 5   p1_dog    2075 non-null   bool   \n",
      " 6   p2        2075 non-null   object \n",
      " 7   p2_conf   2075 non-null   float64\n",
      " 8   p2_dog    2075 non-null   bool   \n",
      " 9   p3        2075 non-null   object \n",
      " 10  p3_conf   2075 non-null   float64\n",
      " 11  p3_dog    2075 non-null   bool   \n",
      "dtypes: bool(3), float64(3), int64(2), object(4)\n",
      "memory usage: 152.1+ KB\n"
     ]
    }
   ],
   "source": [
    "image_predictions.info()"
   ]
  },
  {
   "cell_type": "code",
   "execution_count": 560,
   "metadata": {},
   "outputs": [
    {
     "data": {
      "text/plain": [
       "0"
      ]
     },
     "execution_count": 560,
     "metadata": {},
     "output_type": "execute_result"
    }
   ],
   "source": [
    "image_predictions.tweet_id.duplicated().sum()"
   ]
  },
  {
   "cell_type": "code",
   "execution_count": 561,
   "metadata": {},
   "outputs": [
    {
     "data": {
      "text/plain": [
       "golden_retriever      150\n",
       "Labrador_retriever    100\n",
       "Pembroke              89 \n",
       "Chihuahua             83 \n",
       "pug                   57 \n",
       "                      .. \n",
       "rain_barrel           1  \n",
       "pitcher               1  \n",
       "sandbar               1  \n",
       "EntleBucher           1  \n",
       "mortarboard           1  \n",
       "Name: p1, Length: 378, dtype: int64"
      ]
     },
     "execution_count": 561,
     "metadata": {},
     "output_type": "execute_result"
    }
   ],
   "source": [
    "image_predictions.p1.value_counts()"
   ]
  },
  {
   "cell_type": "markdown",
   "metadata": {},
   "source": [
    "##### Programmatic assessment of tweet_info dataframe"
   ]
  },
  {
   "cell_type": "code",
   "execution_count": 562,
   "metadata": {},
   "outputs": [
    {
     "name": "stdout",
     "output_type": "stream",
     "text": [
      "<class 'pandas.core.frame.DataFrame'>\n",
      "RangeIndex: 2354 entries, 0 to 2353\n",
      "Data columns (total 3 columns):\n",
      " #   Column     Non-Null Count  Dtype\n",
      "---  ------     --------------  -----\n",
      " 0   tweet_id   2354 non-null   int64\n",
      " 1   retweets   2354 non-null   int64\n",
      " 2   favorites  2354 non-null   int64\n",
      "dtypes: int64(3)\n",
      "memory usage: 55.3 KB\n"
     ]
    }
   ],
   "source": [
    "tweet_info.info()"
   ]
  },
  {
   "cell_type": "code",
   "execution_count": 563,
   "metadata": {},
   "outputs": [
    {
     "data": {
      "text/plain": [
       "0"
      ]
     },
     "execution_count": 563,
     "metadata": {},
     "output_type": "execute_result"
    }
   ],
   "source": [
    "tweet_info.tweet_id.duplicated().sum()"
   ]
  },
  {
   "cell_type": "code",
   "execution_count": 564,
   "metadata": {},
   "outputs": [
    {
     "data": {
      "text/plain": [
       "1972     5\n",
       "3652     5\n",
       "83       5\n",
       "146      4\n",
       "61       4\n",
       "        ..\n",
       "8209     1\n",
       "19       1\n",
       "2068     1\n",
       "30742    1\n",
       "0        1\n",
       "Name: retweets, Length: 1724, dtype: int64"
      ]
     },
     "execution_count": 564,
     "metadata": {},
     "output_type": "execute_result"
    }
   ],
   "source": [
    "tweet_info.retweets.value_counts()"
   ]
  },
  {
   "cell_type": "code",
   "execution_count": 565,
   "metadata": {},
   "outputs": [
    {
     "data": {
      "text/plain": [
       "0        179\n",
       "610      3  \n",
       "345      3  \n",
       "2918     3  \n",
       "1691     3  \n",
       "        ..  \n",
       "33345    1  \n",
       "814      1  \n",
       "23108    1  \n",
       "2630     1  \n",
       "8143     1  \n",
       "Name: favorites, Length: 2007, dtype: int64"
      ]
     },
     "execution_count": 565,
     "metadata": {},
     "output_type": "execute_result"
    }
   ],
   "source": [
    "tweet_info.favorites.value_counts()"
   ]
  },
  {
   "cell_type": "markdown",
   "metadata": {},
   "source": [
    "## Addressing Issues \n",
    "\n",
    "### **Tidiness Issue** \n",
    "1. The three dataframes can be merged together into one dataframe on tweet_id column\n",
    "2. There are four columns for dog stages when one column is sufficient \n",
    "\n",
    "### **Quality issues**\n",
    "1. doggo floofer pupper puppo columns have None instead of NaN \n",
    "2. There are some retweets in the dataframe as evident from the retweeted_status_id \n",
    "3. tweet_id column is not a string type \n",
    "4. timestamp column is a string type instead of datetime object \n",
    "5. Many names in the 'name' column are invalid and also have 'None' instead of NaN\n",
    "6. Source has extra text making it unreadable \n",
    "7. numerator ratings columns has missing decimal values and was incorrectly extracted\n",
    "8. extended_urls column has some missing values"
   ]
  },
  {
   "cell_type": "markdown",
   "metadata": {},
   "source": [
    "## Clean"
   ]
  },
  {
   "cell_type": "code",
   "execution_count": 566,
   "metadata": {},
   "outputs": [],
   "source": [
    "# Make a copy of the three dataframes\n",
    "twitter_data_clean = twitter_data.copy()\n",
    "image_predictions_clean = image_predictions.copy()\n",
    "tweet_info_clean = tweet_info.copy()"
   ]
  },
  {
   "cell_type": "markdown",
   "metadata": {},
   "source": [
    "## **Tidiness issue 1**\n",
    "**The three dataframes can be merged together into one dataframe on tweet_id column**\n"
   ]
  },
  {
   "cell_type": "markdown",
   "metadata": {},
   "source": [
    "**Define**\n",
    "- Merge the 3 dataframes on tweet_id\n"
   ]
  },
  {
   "cell_type": "markdown",
   "metadata": {},
   "source": [
    "**Code**"
   ]
  },
  {
   "cell_type": "code",
   "execution_count": 567,
   "metadata": {},
   "outputs": [],
   "source": [
    "# Merging using left join\n",
    "twitter_data_clean = pd.merge(twitter_data,image_predictions,how = 'left', on = 'tweet_id' )\n"
   ]
  },
  {
   "cell_type": "code",
   "execution_count": 568,
   "metadata": {},
   "outputs": [],
   "source": [
    "twitter_data_clean = pd.merge(twitter_data_clean,tweet_info,how = 'left', on = 'tweet_id' )\n"
   ]
  },
  {
   "cell_type": "markdown",
   "metadata": {},
   "source": [
    "**Test**"
   ]
  },
  {
   "cell_type": "code",
   "execution_count": 569,
   "metadata": {},
   "outputs": [
    {
     "data": {
      "text/plain": [
       "Index(['tweet_id', 'in_reply_to_status_id', 'in_reply_to_user_id', 'timestamp',\n",
       "       'source', 'text', 'retweeted_status_id', 'retweeted_status_user_id',\n",
       "       'retweeted_status_timestamp', 'expanded_urls', 'rating_numerator',\n",
       "       'rating_denominator', 'name', 'doggo', 'floofer', 'pupper', 'puppo',\n",
       "       'jpg_url', 'img_num', 'p1', 'p1_conf', 'p1_dog', 'p2', 'p2_conf',\n",
       "       'p2_dog', 'p3', 'p3_conf', 'p3_dog', 'retweets', 'favorites'],\n",
       "      dtype='object')"
      ]
     },
     "execution_count": 569,
     "metadata": {},
     "output_type": "execute_result"
    }
   ],
   "source": [
    "twitter_data_clean.columns"
   ]
  },
  {
   "cell_type": "markdown",
   "metadata": {},
   "source": [
    "As we can see, columns from image_predictions dataframe (such as p1,p1_conf,etc) and tweet_info dataframe (retweets, favorites) have been merged with twitter_data"
   ]
  },
  {
   "cell_type": "code",
   "execution_count": 570,
   "metadata": {},
   "outputs": [
    {
     "name": "stdout",
     "output_type": "stream",
     "text": [
      "<class 'pandas.core.frame.DataFrame'>\n",
      "Int64Index: 2356 entries, 0 to 2355\n",
      "Data columns (total 30 columns):\n",
      " #   Column                      Non-Null Count  Dtype  \n",
      "---  ------                      --------------  -----  \n",
      " 0   tweet_id                    2356 non-null   int64  \n",
      " 1   in_reply_to_status_id       78 non-null     float64\n",
      " 2   in_reply_to_user_id         78 non-null     float64\n",
      " 3   timestamp                   2356 non-null   object \n",
      " 4   source                      2356 non-null   object \n",
      " 5   text                        2356 non-null   object \n",
      " 6   retweeted_status_id         181 non-null    float64\n",
      " 7   retweeted_status_user_id    181 non-null    float64\n",
      " 8   retweeted_status_timestamp  181 non-null    object \n",
      " 9   expanded_urls               2297 non-null   object \n",
      " 10  rating_numerator            2356 non-null   int64  \n",
      " 11  rating_denominator          2356 non-null   int64  \n",
      " 12  name                        2356 non-null   object \n",
      " 13  doggo                       2356 non-null   object \n",
      " 14  floofer                     2356 non-null   object \n",
      " 15  pupper                      2356 non-null   object \n",
      " 16  puppo                       2356 non-null   object \n",
      " 17  jpg_url                     2075 non-null   object \n",
      " 18  img_num                     2075 non-null   float64\n",
      " 19  p1                          2075 non-null   object \n",
      " 20  p1_conf                     2075 non-null   float64\n",
      " 21  p1_dog                      2075 non-null   object \n",
      " 22  p2                          2075 non-null   object \n",
      " 23  p2_conf                     2075 non-null   float64\n",
      " 24  p2_dog                      2075 non-null   object \n",
      " 25  p3                          2075 non-null   object \n",
      " 26  p3_conf                     2075 non-null   float64\n",
      " 27  p3_dog                      2075 non-null   object \n",
      " 28  retweets                    2354 non-null   float64\n",
      " 29  favorites                   2354 non-null   float64\n",
      "dtypes: float64(10), int64(3), object(17)\n",
      "memory usage: 570.6+ KB\n"
     ]
    }
   ],
   "source": [
    "# Getting info of our new dataset\n",
    "twitter_data_clean.info()"
   ]
  },
  {
   "cell_type": "markdown",
   "metadata": {},
   "source": [
    "As expected all the entries are retained in the new dataset. That is 2075 entries from image_predictions and 2354 entries from tweet_data and 2356 entries from twitter_data"
   ]
  },
  {
   "cell_type": "markdown",
   "metadata": {},
   "source": [
    "## **Tidiness issue 2**\n",
    "**There are four columns for dog stages when one column is sufficient (Tidiness Issue)**\n"
   ]
  },
  {
   "cell_type": "markdown",
   "metadata": {},
   "source": [
    "**Define**\n",
    "\n",
    "- Transform 4 columns of the dog stages ('doggo', 'floofer', 'pupper', 'puppo') into 1 column"
   ]
  },
  {
   "cell_type": "markdown",
   "metadata": {},
   "source": [
    "**Code**"
   ]
  },
  {
   "cell_type": "code",
   "execution_count": 571,
   "metadata": {},
   "outputs": [],
   "source": [
    "#Replacing none with empty string\n",
    "twitter_data_clean.doggo.replace('None', '', inplace=True)\n",
    "twitter_data_clean.floofer.replace('None', '', inplace=True)\n",
    "twitter_data_clean.pupper.replace('None', '', inplace=True)\n",
    "twitter_data_clean.puppo.replace('None', '', inplace=True)\n",
    "\n",
    "# Merge into one column \n",
    "twitter_data_clean['dog_stage'] = twitter_data_clean.doggo + twitter_data_clean.floofer + twitter_data_clean.pupper + twitter_data_clean.puppo\n"
   ]
  },
  {
   "cell_type": "code",
   "execution_count": 572,
   "metadata": {},
   "outputs": [
    {
     "data": {
      "text/html": [
       "<div>\n",
       "<style scoped>\n",
       "    .dataframe tbody tr th:only-of-type {\n",
       "        vertical-align: middle;\n",
       "    }\n",
       "\n",
       "    .dataframe tbody tr th {\n",
       "        vertical-align: top;\n",
       "    }\n",
       "\n",
       "    .dataframe thead th {\n",
       "        text-align: right;\n",
       "    }\n",
       "</style>\n",
       "<table border=\"1\" class=\"dataframe\">\n",
       "  <thead>\n",
       "    <tr style=\"text-align: right;\">\n",
       "      <th></th>\n",
       "      <th>dog_stage</th>\n",
       "      <th>doggo</th>\n",
       "      <th>floofer</th>\n",
       "      <th>pupper</th>\n",
       "      <th>puppo</th>\n",
       "    </tr>\n",
       "  </thead>\n",
       "  <tbody>\n",
       "    <tr>\n",
       "      <th>0</th>\n",
       "      <td></td>\n",
       "      <td></td>\n",
       "      <td></td>\n",
       "      <td></td>\n",
       "      <td></td>\n",
       "    </tr>\n",
       "    <tr>\n",
       "      <th>1</th>\n",
       "      <td></td>\n",
       "      <td></td>\n",
       "      <td></td>\n",
       "      <td></td>\n",
       "      <td></td>\n",
       "    </tr>\n",
       "    <tr>\n",
       "      <th>2</th>\n",
       "      <td></td>\n",
       "      <td></td>\n",
       "      <td></td>\n",
       "      <td></td>\n",
       "      <td></td>\n",
       "    </tr>\n",
       "    <tr>\n",
       "      <th>3</th>\n",
       "      <td></td>\n",
       "      <td></td>\n",
       "      <td></td>\n",
       "      <td></td>\n",
       "      <td></td>\n",
       "    </tr>\n",
       "    <tr>\n",
       "      <th>4</th>\n",
       "      <td></td>\n",
       "      <td></td>\n",
       "      <td></td>\n",
       "      <td></td>\n",
       "      <td></td>\n",
       "    </tr>\n",
       "    <tr>\n",
       "      <th>5</th>\n",
       "      <td></td>\n",
       "      <td></td>\n",
       "      <td></td>\n",
       "      <td></td>\n",
       "      <td></td>\n",
       "    </tr>\n",
       "    <tr>\n",
       "      <th>6</th>\n",
       "      <td></td>\n",
       "      <td></td>\n",
       "      <td></td>\n",
       "      <td></td>\n",
       "      <td></td>\n",
       "    </tr>\n",
       "    <tr>\n",
       "      <th>7</th>\n",
       "      <td></td>\n",
       "      <td></td>\n",
       "      <td></td>\n",
       "      <td></td>\n",
       "      <td></td>\n",
       "    </tr>\n",
       "    <tr>\n",
       "      <th>8</th>\n",
       "      <td></td>\n",
       "      <td></td>\n",
       "      <td></td>\n",
       "      <td></td>\n",
       "      <td></td>\n",
       "    </tr>\n",
       "    <tr>\n",
       "      <th>9</th>\n",
       "      <td>doggo</td>\n",
       "      <td>doggo</td>\n",
       "      <td></td>\n",
       "      <td></td>\n",
       "      <td></td>\n",
       "    </tr>\n",
       "  </tbody>\n",
       "</table>\n",
       "</div>"
      ],
      "text/plain": [
       "  dog_stage  doggo floofer pupper puppo\n",
       "0                                      \n",
       "1                                      \n",
       "2                                      \n",
       "3                                      \n",
       "4                                      \n",
       "5                                      \n",
       "6                                      \n",
       "7                                      \n",
       "8                                      \n",
       "9  doggo     doggo                     "
      ]
     },
     "execution_count": 572,
     "metadata": {},
     "output_type": "execute_result"
    }
   ],
   "source": [
    "# Check to see if the values match\n",
    "twitter_data_clean[['dog_stage', 'doggo', 'floofer', 'pupper', 'puppo']].head(10)"
   ]
  },
  {
   "cell_type": "code",
   "execution_count": 573,
   "metadata": {},
   "outputs": [
    {
     "data": {
      "text/html": [
       "<div>\n",
       "<style scoped>\n",
       "    .dataframe tbody tr th:only-of-type {\n",
       "        vertical-align: middle;\n",
       "    }\n",
       "\n",
       "    .dataframe tbody tr th {\n",
       "        vertical-align: top;\n",
       "    }\n",
       "\n",
       "    .dataframe thead th {\n",
       "        text-align: right;\n",
       "    }\n",
       "</style>\n",
       "<table border=\"1\" class=\"dataframe\">\n",
       "  <thead>\n",
       "    <tr style=\"text-align: right;\">\n",
       "      <th></th>\n",
       "      <th>dog_stage</th>\n",
       "      <th>doggo</th>\n",
       "      <th>floofer</th>\n",
       "      <th>pupper</th>\n",
       "      <th>puppo</th>\n",
       "    </tr>\n",
       "  </thead>\n",
       "  <tbody>\n",
       "    <tr>\n",
       "      <th>717</th>\n",
       "      <td></td>\n",
       "      <td></td>\n",
       "      <td></td>\n",
       "      <td></td>\n",
       "      <td></td>\n",
       "    </tr>\n",
       "    <tr>\n",
       "      <th>1851</th>\n",
       "      <td></td>\n",
       "      <td></td>\n",
       "      <td></td>\n",
       "      <td></td>\n",
       "      <td></td>\n",
       "    </tr>\n",
       "    <tr>\n",
       "      <th>919</th>\n",
       "      <td>doggo</td>\n",
       "      <td>doggo</td>\n",
       "      <td></td>\n",
       "      <td></td>\n",
       "      <td></td>\n",
       "    </tr>\n",
       "    <tr>\n",
       "      <th>2193</th>\n",
       "      <td></td>\n",
       "      <td></td>\n",
       "      <td></td>\n",
       "      <td></td>\n",
       "      <td></td>\n",
       "    </tr>\n",
       "    <tr>\n",
       "      <th>540</th>\n",
       "      <td></td>\n",
       "      <td></td>\n",
       "      <td></td>\n",
       "      <td></td>\n",
       "      <td></td>\n",
       "    </tr>\n",
       "    <tr>\n",
       "      <th>95</th>\n",
       "      <td></td>\n",
       "      <td></td>\n",
       "      <td></td>\n",
       "      <td></td>\n",
       "      <td></td>\n",
       "    </tr>\n",
       "    <tr>\n",
       "      <th>1738</th>\n",
       "      <td>pupper</td>\n",
       "      <td></td>\n",
       "      <td></td>\n",
       "      <td>pupper</td>\n",
       "      <td></td>\n",
       "    </tr>\n",
       "    <tr>\n",
       "      <th>2352</th>\n",
       "      <td></td>\n",
       "      <td></td>\n",
       "      <td></td>\n",
       "      <td></td>\n",
       "      <td></td>\n",
       "    </tr>\n",
       "    <tr>\n",
       "      <th>490</th>\n",
       "      <td></td>\n",
       "      <td></td>\n",
       "      <td></td>\n",
       "      <td></td>\n",
       "      <td></td>\n",
       "    </tr>\n",
       "    <tr>\n",
       "      <th>2034</th>\n",
       "      <td></td>\n",
       "      <td></td>\n",
       "      <td></td>\n",
       "      <td></td>\n",
       "      <td></td>\n",
       "    </tr>\n",
       "    <tr>\n",
       "      <th>2355</th>\n",
       "      <td></td>\n",
       "      <td></td>\n",
       "      <td></td>\n",
       "      <td></td>\n",
       "      <td></td>\n",
       "    </tr>\n",
       "    <tr>\n",
       "      <th>299</th>\n",
       "      <td></td>\n",
       "      <td></td>\n",
       "      <td></td>\n",
       "      <td></td>\n",
       "      <td></td>\n",
       "    </tr>\n",
       "    <tr>\n",
       "      <th>1792</th>\n",
       "      <td></td>\n",
       "      <td></td>\n",
       "      <td></td>\n",
       "      <td></td>\n",
       "      <td></td>\n",
       "    </tr>\n",
       "    <tr>\n",
       "      <th>1902</th>\n",
       "      <td></td>\n",
       "      <td></td>\n",
       "      <td></td>\n",
       "      <td></td>\n",
       "      <td></td>\n",
       "    </tr>\n",
       "    <tr>\n",
       "      <th>1714</th>\n",
       "      <td></td>\n",
       "      <td></td>\n",
       "      <td></td>\n",
       "      <td></td>\n",
       "      <td></td>\n",
       "    </tr>\n",
       "    <tr>\n",
       "      <th>1455</th>\n",
       "      <td></td>\n",
       "      <td></td>\n",
       "      <td></td>\n",
       "      <td></td>\n",
       "      <td></td>\n",
       "    </tr>\n",
       "    <tr>\n",
       "      <th>1069</th>\n",
       "      <td></td>\n",
       "      <td></td>\n",
       "      <td></td>\n",
       "      <td></td>\n",
       "      <td></td>\n",
       "    </tr>\n",
       "    <tr>\n",
       "      <th>1128</th>\n",
       "      <td></td>\n",
       "      <td></td>\n",
       "      <td></td>\n",
       "      <td></td>\n",
       "      <td></td>\n",
       "    </tr>\n",
       "    <tr>\n",
       "      <th>2244</th>\n",
       "      <td></td>\n",
       "      <td></td>\n",
       "      <td></td>\n",
       "      <td></td>\n",
       "      <td></td>\n",
       "    </tr>\n",
       "    <tr>\n",
       "      <th>184</th>\n",
       "      <td></td>\n",
       "      <td></td>\n",
       "      <td></td>\n",
       "      <td></td>\n",
       "      <td></td>\n",
       "    </tr>\n",
       "    <tr>\n",
       "      <th>165</th>\n",
       "      <td></td>\n",
       "      <td></td>\n",
       "      <td></td>\n",
       "      <td></td>\n",
       "      <td></td>\n",
       "    </tr>\n",
       "    <tr>\n",
       "      <th>1633</th>\n",
       "      <td></td>\n",
       "      <td></td>\n",
       "      <td></td>\n",
       "      <td></td>\n",
       "      <td></td>\n",
       "    </tr>\n",
       "    <tr>\n",
       "      <th>1884</th>\n",
       "      <td></td>\n",
       "      <td></td>\n",
       "      <td></td>\n",
       "      <td></td>\n",
       "      <td></td>\n",
       "    </tr>\n",
       "    <tr>\n",
       "      <th>1293</th>\n",
       "      <td></td>\n",
       "      <td></td>\n",
       "      <td></td>\n",
       "      <td></td>\n",
       "      <td></td>\n",
       "    </tr>\n",
       "    <tr>\n",
       "      <th>340</th>\n",
       "      <td></td>\n",
       "      <td></td>\n",
       "      <td></td>\n",
       "      <td></td>\n",
       "      <td></td>\n",
       "    </tr>\n",
       "    <tr>\n",
       "      <th>1809</th>\n",
       "      <td></td>\n",
       "      <td></td>\n",
       "      <td></td>\n",
       "      <td></td>\n",
       "      <td></td>\n",
       "    </tr>\n",
       "    <tr>\n",
       "      <th>2053</th>\n",
       "      <td></td>\n",
       "      <td></td>\n",
       "      <td></td>\n",
       "      <td></td>\n",
       "      <td></td>\n",
       "    </tr>\n",
       "    <tr>\n",
       "      <th>2331</th>\n",
       "      <td></td>\n",
       "      <td></td>\n",
       "      <td></td>\n",
       "      <td></td>\n",
       "      <td></td>\n",
       "    </tr>\n",
       "    <tr>\n",
       "      <th>2071</th>\n",
       "      <td></td>\n",
       "      <td></td>\n",
       "      <td></td>\n",
       "      <td></td>\n",
       "      <td></td>\n",
       "    </tr>\n",
       "    <tr>\n",
       "      <th>952</th>\n",
       "      <td></td>\n",
       "      <td></td>\n",
       "      <td></td>\n",
       "      <td></td>\n",
       "      <td></td>\n",
       "    </tr>\n",
       "  </tbody>\n",
       "</table>\n",
       "</div>"
      ],
      "text/plain": [
       "     dog_stage  doggo floofer  pupper puppo\n",
       "717                                        \n",
       "1851                                       \n",
       "919   doggo     doggo                      \n",
       "2193                                       \n",
       "540                                        \n",
       "95                                         \n",
       "1738  pupper                   pupper      \n",
       "2352                                       \n",
       "490                                        \n",
       "2034                                       \n",
       "2355                                       \n",
       "299                                        \n",
       "1792                                       \n",
       "1902                                       \n",
       "1714                                       \n",
       "1455                                       \n",
       "1069                                       \n",
       "1128                                       \n",
       "2244                                       \n",
       "184                                        \n",
       "165                                        \n",
       "1633                                       \n",
       "1884                                       \n",
       "1293                                       \n",
       "340                                        \n",
       "1809                                       \n",
       "2053                                       \n",
       "2331                                       \n",
       "2071                                       \n",
       "952                                        "
      ]
     },
     "execution_count": 573,
     "metadata": {},
     "output_type": "execute_result"
    }
   ],
   "source": [
    "# Taking a sample of the dataframe \n",
    "twitter_data_clean[['dog_stage', 'doggo', 'floofer', 'pupper', 'puppo']].sample(30)"
   ]
  },
  {
   "cell_type": "markdown",
   "metadata": {},
   "source": [
    "The transformation is successful and the dog stages have been correctly updated in the new column. "
   ]
  },
  {
   "cell_type": "code",
   "execution_count": 574,
   "metadata": {},
   "outputs": [
    {
     "data": {
      "text/plain": [
       "                1976\n",
       "pupper          245 \n",
       "doggo           83  \n",
       "puppo           29  \n",
       "doggopupper     12  \n",
       "floofer         9   \n",
       "doggopuppo      1   \n",
       "doggofloofer    1   \n",
       "Name: dog_stage, dtype: int64"
      ]
     },
     "execution_count": 574,
     "metadata": {},
     "output_type": "execute_result"
    }
   ],
   "source": [
    "twitter_data_clean.dog_stage.value_counts()"
   ]
  },
  {
   "cell_type": "markdown",
   "metadata": {},
   "source": [
    "As it can be seen that there are values with two dog stages in the dog stage column. Let's look at the text for one of these values to see why this is the case "
   ]
  },
  {
   "cell_type": "code",
   "execution_count": 575,
   "metadata": {},
   "outputs": [
    {
     "name": "stderr",
     "output_type": "stream",
     "text": [
      "C:\\Users\\Administrator\\anaconda3\\lib\\site-packages\\ipykernel_launcher.py:2: FutureWarning: Passing a negative integer is deprecated in version 1.0 and will not be supported in future version. Instead, use None to not limit the column width.\n",
      "  \n"
     ]
    },
    {
     "data": {
      "text/plain": [
       "460     This is Dido. She's playing the lead role in \"Pupper Stops to Catch Snow Before Resuming Shadow Box with Dried Apple.\" 13/10 (IG: didodoggo) https://t.co/m7isZrOBX7\n",
       "531     Here we have Burke (pupper) and Dexter (doggo). Pupper wants to be exactly like doggo. Both 12/10 would pet at same time https://t.co/ANBpEYHaho                    \n",
       "565     Like doggo, like pupper version 2. Both 11/10 https://t.co/9IxWAXFqze                                                                                               \n",
       "575     This is Bones. He's being haunted by another doggo of roughly the same size. 12/10 deep breaths pupper everything's fine https://t.co/55Dqe0SJNj                    \n",
       "705     This is Pinot. He's a sophisticated doggo. You can tell by the hat. Also pointier than your average pupper. Still 10/10 would pet cautiously https://t.co/f2wmLZTPHd\n",
       "733     Pupper butt 1, Doggo 0. Both 12/10 https://t.co/WQvcPEpH2u                                                                                                          \n",
       "778     RT @dog_rates: Like father (doggo), like son (pupper). Both 12/10 https://t.co/pG2inLaOda                                                                           \n",
       "822     RT @dog_rates: This is just downright precious af. 12/10 for both pupper and doggo https://t.co/o5J479bZUC                                                          \n",
       "889     Meet Maggie &amp; Lila. Maggie is the doggo, Lila is the pupper. They are sisters. Both 12/10 would pet at the same time https://t.co/MYwR4DQKll                    \n",
       "956     Please stop sending it pictures that don't even have a doggo or pupper in them. Churlish af. 5/10 neat couch tho https://t.co/u2c9c7qSg8                            \n",
       "1063    This is just downright precious af. 12/10 for both pupper and doggo https://t.co/o5J479bZUC                                                                         \n",
       "1113    Like father (doggo), like son (pupper). Both 12/10 https://t.co/pG2inLaOda                                                                                          \n",
       "Name: text, dtype: object"
      ]
     },
     "execution_count": 575,
     "metadata": {},
     "output_type": "execute_result"
    }
   ],
   "source": [
    "# Looking at the doggopupper text\n",
    "pd.set_option('display.max_colwidth', -1)\n",
    "twitter_data_clean.query('dog_stage == \"doggopupper\"')['text']"
   ]
  },
  {
   "cell_type": "markdown",
   "metadata": {},
   "source": [
    "As we can see from the text or by clicking on the image url that there are two dogs in the above text. That's the reason why there are two stages in the dog stage column for some values. We are going to handle these multiple stage values by seperating the two values by a comma"
   ]
  },
  {
   "cell_type": "code",
   "execution_count": 576,
   "metadata": {},
   "outputs": [],
   "source": [
    "# handle multiple stages\n",
    "twitter_data_clean.loc[twitter_data_clean.dog_stage == 'doggopupper', 'dog_stage'] = 'doggo, pupper'\n",
    "twitter_data_clean.loc[twitter_data_clean.dog_stage == 'doggopuppo', 'dog_stage'] = 'doggo, puppo'\n",
    "twitter_data_clean.loc[twitter_data_clean.dog_stage == 'doggofloofer', 'dog_stage'] = 'doggo, floofer'"
   ]
  },
  {
   "cell_type": "code",
   "execution_count": 577,
   "metadata": {},
   "outputs": [],
   "source": [
    "#drop the columns 'doggo', 'floofer', 'pupper', 'puppo'\n",
    "twitter_data_clean.drop(['doggo', 'floofer', 'pupper', 'puppo'], axis=1, inplace = True)"
   ]
  },
  {
   "cell_type": "markdown",
   "metadata": {},
   "source": [
    "**Test**"
   ]
  },
  {
   "cell_type": "code",
   "execution_count": 578,
   "metadata": {},
   "outputs": [
    {
     "data": {
      "text/plain": [
       "                  1976\n",
       "pupper            245 \n",
       "doggo             83  \n",
       "puppo             29  \n",
       "doggo, pupper     12  \n",
       "floofer           9   \n",
       "doggo, floofer    1   \n",
       "doggo, puppo      1   \n",
       "Name: dog_stage, dtype: int64"
      ]
     },
     "execution_count": 578,
     "metadata": {},
     "output_type": "execute_result"
    }
   ],
   "source": [
    "# Looking at the values \n",
    "twitter_data_clean.dog_stage.value_counts()"
   ]
  },
  {
   "cell_type": "code",
   "execution_count": 579,
   "metadata": {},
   "outputs": [
    {
     "data": {
      "text/plain": [
       "1978          \n",
       "1449    pupper\n",
       "217           \n",
       "1797    pupper\n",
       "909           \n",
       "284           \n",
       "1748          \n",
       "1518          \n",
       "1385          \n",
       "2051          \n",
       "2326          \n",
       "566           \n",
       "1174          \n",
       "1386          \n",
       "241           \n",
       "598           \n",
       "1391    pupper\n",
       "2261          \n",
       "637           \n",
       "452           \n",
       "Name: dog_stage, dtype: object"
      ]
     },
     "execution_count": 579,
     "metadata": {},
     "output_type": "execute_result"
    }
   ],
   "source": [
    "#inspect the new dataframe\n",
    "twitter_data_clean.dog_stage.sample(20)"
   ]
  },
  {
   "cell_type": "markdown",
   "metadata": {},
   "source": [
    "## **Quality Issue 1**\n",
    "**Dog stage column has missing values instead of NaN**"
   ]
  },
  {
   "cell_type": "markdown",
   "metadata": {},
   "source": [
    "Above we transformed the 4 columns into a single dog stage column but it has many missing values which needs to be replaced with NaN"
   ]
  },
  {
   "cell_type": "markdown",
   "metadata": {},
   "source": [
    "**Code**"
   ]
  },
  {
   "cell_type": "code",
   "execution_count": 580,
   "metadata": {},
   "outputs": [],
   "source": [
    "# handle missing values\n",
    "twitter_data_clean.loc[twitter_data_clean.dog_stage == '', 'dog_stage'] = np.nan"
   ]
  },
  {
   "cell_type": "markdown",
   "metadata": {},
   "source": [
    "**Test**"
   ]
  },
  {
   "cell_type": "code",
   "execution_count": 581,
   "metadata": {},
   "outputs": [
    {
     "data": {
      "text/plain": [
       "pupper            245\n",
       "doggo             83 \n",
       "puppo             29 \n",
       "doggo, pupper     12 \n",
       "floofer           9  \n",
       "doggo, floofer    1  \n",
       "doggo, puppo      1  \n",
       "Name: dog_stage, dtype: int64"
      ]
     },
     "execution_count": 581,
     "metadata": {},
     "output_type": "execute_result"
    }
   ],
   "source": [
    "twitter_data_clean.dog_stage.value_counts()"
   ]
  },
  {
   "cell_type": "code",
   "execution_count": 582,
   "metadata": {},
   "outputs": [
    {
     "data": {
      "text/plain": [
       "849     NaN  \n",
       "938     NaN  \n",
       "344     doggo\n",
       "1750    NaN  \n",
       "2240    NaN  \n",
       "1484    NaN  \n",
       "1674    NaN  \n",
       "1422    NaN  \n",
       "2106    NaN  \n",
       "847     NaN  \n",
       "Name: dog_stage, dtype: object"
      ]
     },
     "execution_count": 582,
     "metadata": {},
     "output_type": "execute_result"
    }
   ],
   "source": [
    "twitter_data_clean.dog_stage.sample(10)"
   ]
  },
  {
   "cell_type": "markdown",
   "metadata": {},
   "source": [
    "We can see that the empty strings have been replaced with NaNs"
   ]
  },
  {
   "cell_type": "markdown",
   "metadata": {},
   "source": [
    "## **Quality Issue 2**\n",
    "\n",
    "**There are some retweets in the dataframe as evident from the retweeted_status_id**\n"
   ]
  },
  {
   "cell_type": "markdown",
   "metadata": {},
   "source": [
    "**Define**\n",
    "- Remove retweets and only keep the rows where the retweeted_status_id column is NaN"
   ]
  },
  {
   "cell_type": "code",
   "execution_count": 583,
   "metadata": {},
   "outputs": [
    {
     "data": {
      "text/plain": [
       "181"
      ]
     },
     "execution_count": 583,
     "metadata": {},
     "output_type": "execute_result"
    }
   ],
   "source": [
    "# check for total number of non null entries  \n",
    "twitter_data_clean.retweeted_status_id.notnull().sum()"
   ]
  },
  {
   "cell_type": "markdown",
   "metadata": {},
   "source": [
    "Hence these 181 entries will be dropped from our dataframe \n"
   ]
  },
  {
   "cell_type": "markdown",
   "metadata": {},
   "source": [
    "**Code**"
   ]
  },
  {
   "cell_type": "code",
   "execution_count": 584,
   "metadata": {},
   "outputs": [],
   "source": [
    "# only keep the rows where retweeted_status_id is null\n",
    "twitter_data_clean = twitter_data_clean[twitter_data_clean['retweeted_status_id'].isna()]"
   ]
  },
  {
   "cell_type": "markdown",
   "metadata": {},
   "source": [
    "**Test**"
   ]
  },
  {
   "cell_type": "code",
   "execution_count": 585,
   "metadata": {},
   "outputs": [
    {
     "data": {
      "text/plain": [
       "0"
      ]
     },
     "execution_count": 585,
     "metadata": {},
     "output_type": "execute_result"
    }
   ],
   "source": [
    "# check for total number of non null entries  \n",
    "twitter_data_clean.retweeted_status_id.notnull().sum()"
   ]
  },
  {
   "cell_type": "code",
   "execution_count": 586,
   "metadata": {},
   "outputs": [
    {
     "name": "stdout",
     "output_type": "stream",
     "text": [
      "<class 'pandas.core.frame.DataFrame'>\n",
      "Int64Index: 2175 entries, 0 to 2355\n",
      "Data columns (total 27 columns):\n",
      " #   Column                      Non-Null Count  Dtype  \n",
      "---  ------                      --------------  -----  \n",
      " 0   tweet_id                    2175 non-null   int64  \n",
      " 1   in_reply_to_status_id       78 non-null     float64\n",
      " 2   in_reply_to_user_id         78 non-null     float64\n",
      " 3   timestamp                   2175 non-null   object \n",
      " 4   source                      2175 non-null   object \n",
      " 5   text                        2175 non-null   object \n",
      " 6   retweeted_status_id         0 non-null      float64\n",
      " 7   retweeted_status_user_id    0 non-null      float64\n",
      " 8   retweeted_status_timestamp  0 non-null      object \n",
      " 9   expanded_urls               2117 non-null   object \n",
      " 10  rating_numerator            2175 non-null   int64  \n",
      " 11  rating_denominator          2175 non-null   int64  \n",
      " 12  name                        2175 non-null   object \n",
      " 13  jpg_url                     1994 non-null   object \n",
      " 14  img_num                     1994 non-null   float64\n",
      " 15  p1                          1994 non-null   object \n",
      " 16  p1_conf                     1994 non-null   float64\n",
      " 17  p1_dog                      1994 non-null   object \n",
      " 18  p2                          1994 non-null   object \n",
      " 19  p2_conf                     1994 non-null   float64\n",
      " 20  p2_dog                      1994 non-null   object \n",
      " 21  p3                          1994 non-null   object \n",
      " 22  p3_conf                     1994 non-null   float64\n",
      " 23  p3_dog                      1994 non-null   object \n",
      " 24  retweets                    2175 non-null   float64\n",
      " 25  favorites                   2175 non-null   float64\n",
      " 26  dog_stage                   344 non-null    object \n",
      "dtypes: float64(10), int64(3), object(14)\n",
      "memory usage: 475.8+ KB\n"
     ]
    }
   ],
   "source": [
    "twitter_data_clean.info()"
   ]
  },
  {
   "cell_type": "markdown",
   "metadata": {},
   "source": [
    "Now our dataframe contains no retweets"
   ]
  },
  {
   "cell_type": "markdown",
   "metadata": {},
   "source": [
    "## **Quality Issue 3**\n",
    "\n",
    "**tweet_id column is not a string type**\n"
   ]
  },
  {
   "cell_type": "markdown",
   "metadata": {},
   "source": [
    "**Define** \n",
    "- Make tweet_id into an object datatype "
   ]
  },
  {
   "cell_type": "markdown",
   "metadata": {},
   "source": [
    "**Code**"
   ]
  },
  {
   "cell_type": "code",
   "execution_count": 587,
   "metadata": {},
   "outputs": [],
   "source": [
    "# Using astpye() method on tweet_id\n",
    "twitter_data_clean.tweet_id = twitter_data_clean.tweet_id.astype('str')"
   ]
  },
  {
   "cell_type": "markdown",
   "metadata": {},
   "source": [
    "**Test**"
   ]
  },
  {
   "cell_type": "code",
   "execution_count": 588,
   "metadata": {},
   "outputs": [
    {
     "data": {
      "text/plain": [
       "dtype('O')"
      ]
     },
     "execution_count": 588,
     "metadata": {},
     "output_type": "execute_result"
    }
   ],
   "source": [
    "twitter_data_clean.tweet_id.dtype"
   ]
  },
  {
   "cell_type": "markdown",
   "metadata": {},
   "source": [
    "As we can see that the dtype of tweet_id has been changed to an ('O') which is string type in pandas.\n",
    "Technically we should be changing all the id columns that are any other dtype other than object but all the other columns that contain ids will be dropped later to make our data quality better, hence it is not needed for our purpose"
   ]
  },
  {
   "cell_type": "markdown",
   "metadata": {},
   "source": [
    "## **Quality Issue 4**\n",
    "**timestamp column is a string type instead of datetime object**\n"
   ]
  },
  {
   "cell_type": "markdown",
   "metadata": {},
   "source": [
    "**Define**\n",
    "- Change timestamp column into a datetime object using pd.to_datetime function"
   ]
  },
  {
   "cell_type": "markdown",
   "metadata": {},
   "source": [
    "**Code**"
   ]
  },
  {
   "cell_type": "code",
   "execution_count": 589,
   "metadata": {},
   "outputs": [
    {
     "data": {
      "text/plain": [
       "1519    2016-01-23 03:20:44 +0000\n",
       "1057    2016-06-13 00:22:53 +0000\n",
       "313     2017-02-24 21:54:03 +0000\n",
       "1298    2016-03-10 01:35:01 +0000\n",
       "2034    2015-12-01 17:30:22 +0000\n",
       "665     2016-10-24 23:37:28 +0000\n",
       "1854    2015-12-12 04:35:48 +0000\n",
       "377     2017-02-04 22:45:42 +0000\n",
       "114     2017-06-02 15:00:16 +0000\n",
       "18      2017-07-22 00:23:06 +0000\n",
       "Name: timestamp, dtype: object"
      ]
     },
     "execution_count": 589,
     "metadata": {},
     "output_type": "execute_result"
    }
   ],
   "source": [
    "# Taking a look at few value of the timestamp column \n",
    "twitter_data_clean.timestamp.sample(10)"
   ]
  },
  {
   "cell_type": "markdown",
   "metadata": {},
   "source": [
    "When we look at the sample, we can see that it has +0000 at the end including a white space. We can remove this before converting the column in a datetime object"
   ]
  },
  {
   "cell_type": "code",
   "execution_count": 590,
   "metadata": {},
   "outputs": [],
   "source": [
    "#slice the last 6 characters from the timestamp column\n",
    "twitter_data_clean.timestamp = twitter_data_clean.timestamp.str[:-6]"
   ]
  },
  {
   "cell_type": "code",
   "execution_count": 591,
   "metadata": {},
   "outputs": [
    {
     "data": {
      "text/plain": [
       "534     2016-12-09 06:17:20\n",
       "2159    2015-11-25 17:40:53\n",
       "99      2017-06-09 00:02:31\n",
       "1122    2016-05-12 01:40:42\n",
       "680     2016-10-20 01:03:11\n",
       "924     2016-07-19 01:04:16\n",
       "2237    2015-11-21 19:02:04\n",
       "1524    2016-01-22 18:09:28\n",
       "2082    2015-11-29 04:04:12\n",
       "345     2017-02-15 18:54:34\n",
       "Name: timestamp, dtype: object"
      ]
     },
     "execution_count": 591,
     "metadata": {},
     "output_type": "execute_result"
    }
   ],
   "source": [
    "#inspect a sample\n",
    "twitter_data_clean.timestamp.sample(10)"
   ]
  },
  {
   "cell_type": "code",
   "execution_count": 592,
   "metadata": {},
   "outputs": [],
   "source": [
    "twitter_data_clean.timestamp = pd.to_datetime(twitter_data_clean.timestamp, format = \"%Y-%m-%d %H:%M:%S\")"
   ]
  },
  {
   "cell_type": "markdown",
   "metadata": {},
   "source": [
    "**Test**"
   ]
  },
  {
   "cell_type": "code",
   "execution_count": 593,
   "metadata": {},
   "outputs": [
    {
     "data": {
      "text/plain": [
       "1700   2015-12-27 03:51:18\n",
       "1650   2016-01-03 05:11:12\n",
       "1816   2015-12-15 03:36:42\n",
       "287    2017-03-06 01:26:54\n",
       "1468   2016-02-01 17:11:59\n",
       "1218   2016-03-29 23:29:14\n",
       "1798   2015-12-16 20:48:40\n",
       "528    2016-12-13 02:39:32\n",
       "1686   2015-12-28 23:00:52\n",
       "1951   2015-12-07 02:13:55\n",
       "Name: timestamp, dtype: datetime64[ns]"
      ]
     },
     "execution_count": 593,
     "metadata": {},
     "output_type": "execute_result"
    }
   ],
   "source": [
    "twitter_data_clean.timestamp.sample(10)"
   ]
  },
  {
   "cell_type": "code",
   "execution_count": 594,
   "metadata": {},
   "outputs": [
    {
     "name": "stdout",
     "output_type": "stream",
     "text": [
      "<class 'pandas.core.frame.DataFrame'>\n",
      "Int64Index: 2175 entries, 0 to 2355\n",
      "Data columns (total 27 columns):\n",
      " #   Column                      Non-Null Count  Dtype         \n",
      "---  ------                      --------------  -----         \n",
      " 0   tweet_id                    2175 non-null   object        \n",
      " 1   in_reply_to_status_id       78 non-null     float64       \n",
      " 2   in_reply_to_user_id         78 non-null     float64       \n",
      " 3   timestamp                   2175 non-null   datetime64[ns]\n",
      " 4   source                      2175 non-null   object        \n",
      " 5   text                        2175 non-null   object        \n",
      " 6   retweeted_status_id         0 non-null      float64       \n",
      " 7   retweeted_status_user_id    0 non-null      float64       \n",
      " 8   retweeted_status_timestamp  0 non-null      object        \n",
      " 9   expanded_urls               2117 non-null   object        \n",
      " 10  rating_numerator            2175 non-null   int64         \n",
      " 11  rating_denominator          2175 non-null   int64         \n",
      " 12  name                        2175 non-null   object        \n",
      " 13  jpg_url                     1994 non-null   object        \n",
      " 14  img_num                     1994 non-null   float64       \n",
      " 15  p1                          1994 non-null   object        \n",
      " 16  p1_conf                     1994 non-null   float64       \n",
      " 17  p1_dog                      1994 non-null   object        \n",
      " 18  p2                          1994 non-null   object        \n",
      " 19  p2_conf                     1994 non-null   float64       \n",
      " 20  p2_dog                      1994 non-null   object        \n",
      " 21  p3                          1994 non-null   object        \n",
      " 22  p3_conf                     1994 non-null   float64       \n",
      " 23  p3_dog                      1994 non-null   object        \n",
      " 24  retweets                    2175 non-null   float64       \n",
      " 25  favorites                   2175 non-null   float64       \n",
      " 26  dog_stage                   344 non-null    object        \n",
      "dtypes: datetime64[ns](1), float64(10), int64(2), object(14)\n",
      "memory usage: 475.8+ KB\n"
     ]
    }
   ],
   "source": [
    "twitter_data_clean.info()"
   ]
  },
  {
   "cell_type": "markdown",
   "metadata": {},
   "source": [
    "As we can see that our timestamp column is not a datetime object. Technically we could also convert retweeted_status_timestamp into a datetime object but since it only has null values and will be dropped later, it's kind of redundant to do so"
   ]
  },
  {
   "cell_type": "markdown",
   "metadata": {},
   "source": [
    "## **Quality Issue 5**\n",
    "**Many names in the 'name' column are invalid and also have 'None' instead of NaN**\n"
   ]
  },
  {
   "cell_type": "markdown",
   "metadata": {},
   "source": [
    "**Define**\n",
    "- Convert all invalid names to NaN including names that have 'None' as a value"
   ]
  },
  {
   "cell_type": "markdown",
   "metadata": {},
   "source": [
    "**Code**"
   ]
  },
  {
   "cell_type": "code",
   "execution_count": 595,
   "metadata": {},
   "outputs": [
    {
     "name": "stdout",
     "output_type": "stream",
     "text": [
      "['such', 'a', 'quite', 'not', 'one', 'incredibly', 'very', 'my', 'his', 'an', 'actually', 'just', 'getting', 'mad', 'this', 'unacceptable', 'all', 'old', 'infuriating', 'the', 'by', 'officially', 'life', 'light', 'space']\n"
     ]
    }
   ],
   "source": [
    "# Find all names that start with a lowercase letter\n",
    "invalid_names = []\n",
    "for name in twitter_data_clean['name']:\n",
    "    if name[0].islower() and name not in invalid_names:\n",
    "       invalid_names.append(name)\n",
    "print (invalid_names)"
   ]
  },
  {
   "cell_type": "code",
   "execution_count": 596,
   "metadata": {},
   "outputs": [],
   "source": [
    "# replace all the values in the invalid_names list with NaN\n",
    "twitter_data_clean = twitter_data_clean.replace(invalid_names, np.nan)"
   ]
  },
  {
   "cell_type": "code",
   "execution_count": 597,
   "metadata": {},
   "outputs": [],
   "source": [
    "# replace all 'None' entries with NaN\n",
    "twitter_data_clean = twitter_data_clean.replace('None', np.nan)"
   ]
  },
  {
   "cell_type": "markdown",
   "metadata": {},
   "source": [
    "**Test**"
   ]
  },
  {
   "cell_type": "code",
   "execution_count": 598,
   "metadata": {},
   "outputs": [
    {
     "data": {
      "text/plain": [
       "Charlie      11\n",
       "Lucy         11\n",
       "Cooper       10\n",
       "Oliver       10\n",
       "Penny        9 \n",
       "            .. \n",
       "Brat         1 \n",
       "Hubertson    1 \n",
       "Jay          1 \n",
       "Huck         1 \n",
       "Blue         1 \n",
       "Name: name, Length: 930, dtype: int64"
      ]
     },
     "execution_count": 598,
     "metadata": {},
     "output_type": "execute_result"
    }
   ],
   "source": [
    "twitter_data_clean.name.value_counts()"
   ]
  },
  {
   "cell_type": "code",
   "execution_count": 599,
   "metadata": {},
   "outputs": [
    {
     "data": {
      "text/plain": [
       "False"
      ]
     },
     "execution_count": 599,
     "metadata": {},
     "output_type": "execute_result"
    }
   ],
   "source": [
    "# Check to see if any name starts with a lowercase letter\n",
    "twitter_data_clean.name[0].islower()"
   ]
  },
  {
   "cell_type": "markdown",
   "metadata": {},
   "source": [
    "As we can see all the names with 'none' as a value have been removed and all the invalid names that started with a lowercase letter have also been removed"
   ]
  },
  {
   "cell_type": "markdown",
   "metadata": {},
   "source": [
    "## **Quality Issue 6**\n",
    "**Source has extra text making it unreadable**\n"
   ]
  },
  {
   "cell_type": "markdown",
   "metadata": {},
   "source": [
    "**Define**\n",
    "- Extract the relevant information from the source column"
   ]
  },
  {
   "cell_type": "markdown",
   "metadata": {},
   "source": [
    "**Code**"
   ]
  },
  {
   "cell_type": "code",
   "execution_count": 600,
   "metadata": {},
   "outputs": [
    {
     "data": {
      "text/plain": [
       "<a href=\"http://twitter.com/download/iphone\" rel=\"nofollow\">Twitter for iPhone</a>     2042\n",
       "<a href=\"http://vine.co\" rel=\"nofollow\">Vine - Make a Scene</a>                        91  \n",
       "<a href=\"http://twitter.com\" rel=\"nofollow\">Twitter Web Client</a>                     31  \n",
       "<a href=\"https://about.twitter.com/products/tweetdeck\" rel=\"nofollow\">TweetDeck</a>    11  \n",
       "Name: source, dtype: int64"
      ]
     },
     "execution_count": 600,
     "metadata": {},
     "output_type": "execute_result"
    }
   ],
   "source": [
    "twitter_data_clean.source.value_counts()"
   ]
  },
  {
   "cell_type": "markdown",
   "metadata": {},
   "source": [
    "As we can see, we only need the names of the source i.e. 'Twitter for iPhone', 'TweetDeck' etc. \n",
    "We can replace these string to get the source information that we want"
   ]
  },
  {
   "cell_type": "code",
   "execution_count": 601,
   "metadata": {},
   "outputs": [],
   "source": [
    "twitter_data_clean['source'] = twitter_data_clean['source'].str.replace('<a href=\"http://twitter.com/download/iphone\" rel=\"nofollow\">Twitter for iPhone</a>','Twitter for iPhone')\n",
    "twitter_data_clean['source'] = twitter_data_clean['source'].str.replace('<a href=\"http://vine.co\" rel=\"nofollow\">Vine - Make a Scene</a>','Vine - Make a Scene')\n",
    "twitter_data_clean['source'] = twitter_data_clean['source'].str.replace('<a href=\"http://twitter.com\" rel=\"nofollow\">Twitter Web Client</a>','Twitter Web Client')\n",
    "twitter_data_clean['source'] = twitter_data_clean['source'].str.replace('<a href=\"https://about.twitter.com/products/tweetdeck\" rel=\"nofollow\">TweetDeck</a>','Tweetdeck')\n"
   ]
  },
  {
   "cell_type": "markdown",
   "metadata": {},
   "source": [
    "**Test**"
   ]
  },
  {
   "cell_type": "code",
   "execution_count": 602,
   "metadata": {},
   "outputs": [
    {
     "data": {
      "text/plain": [
       "Twitter for iPhone     2042\n",
       "Vine - Make a Scene    91  \n",
       "Twitter Web Client     31  \n",
       "Tweetdeck              11  \n",
       "Name: source, dtype: int64"
      ]
     },
     "execution_count": 602,
     "metadata": {},
     "output_type": "execute_result"
    }
   ],
   "source": [
    "twitter_data_clean.source.value_counts()"
   ]
  },
  {
   "cell_type": "markdown",
   "metadata": {},
   "source": [
    "Hence we can see that we have successfully replaced the strings in the 'source' column"
   ]
  },
  {
   "cell_type": "markdown",
   "metadata": {},
   "source": [
    "## **Quality Issue 7**\n",
    "**numerator ratings column has missing decimal values and was incorrectly extracted**\n"
   ]
  },
  {
   "cell_type": "markdown",
   "metadata": {},
   "source": [
    "Examining the dataframe above, or by examining it in excel, we can see that the decimal values were not properly extracted for the ratings. Lets extract the ratings from the text and save it into a new dataframe"
   ]
  },
  {
   "cell_type": "markdown",
   "metadata": {},
   "source": [
    "**Define**\n",
    "- Create new columns for rating numerator and denominator and store the rating extracted from text into it"
   ]
  },
  {
   "cell_type": "markdown",
   "metadata": {},
   "source": [
    "**Code**"
   ]
  },
  {
   "cell_type": "code",
   "execution_count": 603,
   "metadata": {},
   "outputs": [],
   "source": [
    "#Extract ratings into columns rating_num and rating_den\n",
    "twitter_data_clean[['rating_num','rating_den']] = twitter_data_clean.text.str.extract('((?:\\d+\\.)?\\d+)\\/(\\d+)', expand=True)"
   ]
  },
  {
   "cell_type": "code",
   "execution_count": 604,
   "metadata": {},
   "outputs": [],
   "source": [
    "#drop the columns rating_numerator and rating_denominator\n",
    "twitter_data_clean.drop(['rating_numerator', 'rating_denominator'], axis = 1, inplace =True)"
   ]
  },
  {
   "cell_type": "code",
   "execution_count": 605,
   "metadata": {},
   "outputs": [],
   "source": [
    "#Rename the new columns \n",
    "twitter_data_clean.rename(columns={\"rating_num\": \"rating_numerator\", \"rating_den\": \"rating_denominator\"}, inplace =True)"
   ]
  },
  {
   "cell_type": "markdown",
   "metadata": {},
   "source": [
    "**Test**"
   ]
  },
  {
   "cell_type": "code",
   "execution_count": 606,
   "metadata": {},
   "outputs": [
    {
     "name": "stdout",
     "output_type": "stream",
     "text": [
      "<class 'pandas.core.frame.DataFrame'>\n",
      "Int64Index: 2175 entries, 0 to 2355\n",
      "Data columns (total 27 columns):\n",
      " #   Column                      Non-Null Count  Dtype         \n",
      "---  ------                      --------------  -----         \n",
      " 0   tweet_id                    2175 non-null   object        \n",
      " 1   in_reply_to_status_id       78 non-null     float64       \n",
      " 2   in_reply_to_user_id         78 non-null     float64       \n",
      " 3   timestamp                   2175 non-null   datetime64[ns]\n",
      " 4   source                      2175 non-null   object        \n",
      " 5   text                        2175 non-null   object        \n",
      " 6   retweeted_status_id         0 non-null      float64       \n",
      " 7   retweeted_status_user_id    0 non-null      float64       \n",
      " 8   retweeted_status_timestamp  0 non-null      float64       \n",
      " 9   expanded_urls               2117 non-null   object        \n",
      " 10  name                        1391 non-null   object        \n",
      " 11  jpg_url                     1994 non-null   object        \n",
      " 12  img_num                     1994 non-null   float64       \n",
      " 13  p1                          1994 non-null   object        \n",
      " 14  p1_conf                     1994 non-null   float64       \n",
      " 15  p1_dog                      1994 non-null   object        \n",
      " 16  p2                          1994 non-null   object        \n",
      " 17  p2_conf                     1994 non-null   float64       \n",
      " 18  p2_dog                      1994 non-null   object        \n",
      " 19  p3                          1994 non-null   object        \n",
      " 20  p3_conf                     1994 non-null   float64       \n",
      " 21  p3_dog                      1994 non-null   object        \n",
      " 22  retweets                    2175 non-null   float64       \n",
      " 23  favorites                   2175 non-null   float64       \n",
      " 24  dog_stage                   344 non-null    object        \n",
      " 25  rating_numerator            2175 non-null   object        \n",
      " 26  rating_denominator          2175 non-null   object        \n",
      "dtypes: datetime64[ns](1), float64(11), object(15)\n",
      "memory usage: 475.8+ KB\n"
     ]
    }
   ],
   "source": [
    "twitter_data_clean.info()"
   ]
  },
  {
   "cell_type": "code",
   "execution_count": 607,
   "metadata": {},
   "outputs": [
    {
     "data": {
      "text/plain": [
       "12       500\n",
       "10       442\n",
       "11       426\n",
       "13       307\n",
       "9        156\n",
       "8        98 \n",
       "7        53 \n",
       "14       43 \n",
       "5        34 \n",
       "6        32 \n",
       "3        19 \n",
       "4        17 \n",
       "2        9  \n",
       "1        8  \n",
       "420      2  \n",
       "0        2  \n",
       "9.75     1  \n",
       "182      1  \n",
       "007      1  \n",
       "24       1  \n",
       "11.26    1  \n",
       "84       1  \n",
       "143      1  \n",
       "165      1  \n",
       "9.5      1  \n",
       "121      1  \n",
       "99       1  \n",
       "80       1  \n",
       "50       1  \n",
       "44       1  \n",
       "45       1  \n",
       "204      1  \n",
       "1776     1  \n",
       "666      1  \n",
       "13.5     1  \n",
       "144      1  \n",
       "17       1  \n",
       "960      1  \n",
       "60       1  \n",
       "88       1  \n",
       "15       1  \n",
       "11.27    1  \n",
       "20       1  \n",
       "Name: rating_numerator, dtype: int64"
      ]
     },
     "execution_count": 607,
     "metadata": {},
     "output_type": "execute_result"
    }
   ],
   "source": [
    "twitter_data_clean.rating_numerator.value_counts()"
   ]
  },
  {
   "cell_type": "code",
   "execution_count": 608,
   "metadata": {},
   "outputs": [
    {
     "data": {
      "text/plain": [
       "10     2153\n",
       "50     3   \n",
       "20     2   \n",
       "11     2   \n",
       "80     2   \n",
       "40     1   \n",
       "110    1   \n",
       "00     1   \n",
       "130    1   \n",
       "170    1   \n",
       "16     1   \n",
       "2      1   \n",
       "15     1   \n",
       "90     1   \n",
       "120    1   \n",
       "70     1   \n",
       "150    1   \n",
       "7      1   \n",
       "Name: rating_denominator, dtype: int64"
      ]
     },
     "execution_count": 608,
     "metadata": {},
     "output_type": "execute_result"
    }
   ],
   "source": [
    "twitter_data_clean.rating_denominator.value_counts()"
   ]
  },
  {
   "cell_type": "markdown",
   "metadata": {},
   "source": [
    "We can see that the values for ratings are properly extracted but the two columns are object types. We are going to convert these into float and int respectively "
   ]
  },
  {
   "cell_type": "code",
   "execution_count": 609,
   "metadata": {},
   "outputs": [],
   "source": [
    "#Convert rating_numerator to a float type\n",
    "twitter_data_clean.rating_numerator = twitter_data_clean.rating_numerator.astype('float')"
   ]
  },
  {
   "cell_type": "code",
   "execution_count": 610,
   "metadata": {},
   "outputs": [],
   "source": [
    "#Convert rating_denominator to an int type \n",
    "twitter_data_clean.rating_denominator = twitter_data_clean.rating_denominator.astype('int')"
   ]
  },
  {
   "cell_type": "code",
   "execution_count": 611,
   "metadata": {},
   "outputs": [
    {
     "name": "stdout",
     "output_type": "stream",
     "text": [
      "<class 'pandas.core.frame.DataFrame'>\n",
      "Int64Index: 2175 entries, 0 to 2355\n",
      "Data columns (total 27 columns):\n",
      " #   Column                      Non-Null Count  Dtype         \n",
      "---  ------                      --------------  -----         \n",
      " 0   tweet_id                    2175 non-null   object        \n",
      " 1   in_reply_to_status_id       78 non-null     float64       \n",
      " 2   in_reply_to_user_id         78 non-null     float64       \n",
      " 3   timestamp                   2175 non-null   datetime64[ns]\n",
      " 4   source                      2175 non-null   object        \n",
      " 5   text                        2175 non-null   object        \n",
      " 6   retweeted_status_id         0 non-null      float64       \n",
      " 7   retweeted_status_user_id    0 non-null      float64       \n",
      " 8   retweeted_status_timestamp  0 non-null      float64       \n",
      " 9   expanded_urls               2117 non-null   object        \n",
      " 10  name                        1391 non-null   object        \n",
      " 11  jpg_url                     1994 non-null   object        \n",
      " 12  img_num                     1994 non-null   float64       \n",
      " 13  p1                          1994 non-null   object        \n",
      " 14  p1_conf                     1994 non-null   float64       \n",
      " 15  p1_dog                      1994 non-null   object        \n",
      " 16  p2                          1994 non-null   object        \n",
      " 17  p2_conf                     1994 non-null   float64       \n",
      " 18  p2_dog                      1994 non-null   object        \n",
      " 19  p3                          1994 non-null   object        \n",
      " 20  p3_conf                     1994 non-null   float64       \n",
      " 21  p3_dog                      1994 non-null   object        \n",
      " 22  retweets                    2175 non-null   float64       \n",
      " 23  favorites                   2175 non-null   float64       \n",
      " 24  dog_stage                   344 non-null    object        \n",
      " 25  rating_numerator            2175 non-null   float64       \n",
      " 26  rating_denominator          2175 non-null   int32         \n",
      "dtypes: datetime64[ns](1), float64(12), int32(1), object(13)\n",
      "memory usage: 467.3+ KB\n"
     ]
    }
   ],
   "source": [
    "twitter_data_clean.info()"
   ]
  },
  {
   "cell_type": "markdown",
   "metadata": {},
   "source": [
    "## **Quality Issue 8**\n",
    "- **extended_urls column has some missing values**"
   ]
  },
  {
   "cell_type": "markdown",
   "metadata": {},
   "source": [
    "**Define**\n",
    "- Drop null values in the expanded_urls column using pandas dropna function "
   ]
  },
  {
   "cell_type": "code",
   "execution_count": 612,
   "metadata": {},
   "outputs": [
    {
     "data": {
      "text/plain": [
       "58"
      ]
     },
     "execution_count": 612,
     "metadata": {},
     "output_type": "execute_result"
    }
   ],
   "source": [
    "twitter_data_clean.expanded_urls.isna().sum()"
   ]
  },
  {
   "cell_type": "markdown",
   "metadata": {},
   "source": [
    "Since only 54 values are null, we can go ahead and drop these values"
   ]
  },
  {
   "cell_type": "markdown",
   "metadata": {},
   "source": [
    "**Code**"
   ]
  },
  {
   "cell_type": "code",
   "execution_count": 613,
   "metadata": {},
   "outputs": [],
   "source": [
    "twitter_data_clean.dropna(subset=['expanded_urls'], inplace=True)"
   ]
  },
  {
   "cell_type": "markdown",
   "metadata": {},
   "source": [
    "**Test**"
   ]
  },
  {
   "cell_type": "code",
   "execution_count": 614,
   "metadata": {},
   "outputs": [
    {
     "data": {
      "text/plain": [
       "0"
      ]
     },
     "execution_count": 614,
     "metadata": {},
     "output_type": "execute_result"
    }
   ],
   "source": [
    "twitter_data_clean.expanded_urls.isna().sum()"
   ]
  },
  {
   "cell_type": "markdown",
   "metadata": {},
   "source": [
    "## **Quality Issue 9**\n",
    "**Many unwanted columns in the dataframe that is not needed for the analysis**\n"
   ]
  },
  {
   "cell_type": "code",
   "execution_count": 615,
   "metadata": {},
   "outputs": [
    {
     "name": "stdout",
     "output_type": "stream",
     "text": [
      "<class 'pandas.core.frame.DataFrame'>\n",
      "Int64Index: 2117 entries, 0 to 2355\n",
      "Data columns (total 27 columns):\n",
      " #   Column                      Non-Null Count  Dtype         \n",
      "---  ------                      --------------  -----         \n",
      " 0   tweet_id                    2117 non-null   object        \n",
      " 1   in_reply_to_status_id       23 non-null     float64       \n",
      " 2   in_reply_to_user_id         23 non-null     float64       \n",
      " 3   timestamp                   2117 non-null   datetime64[ns]\n",
      " 4   source                      2117 non-null   object        \n",
      " 5   text                        2117 non-null   object        \n",
      " 6   retweeted_status_id         0 non-null      float64       \n",
      " 7   retweeted_status_user_id    0 non-null      float64       \n",
      " 8   retweeted_status_timestamp  0 non-null      float64       \n",
      " 9   expanded_urls               2117 non-null   object        \n",
      " 10  name                        1391 non-null   object        \n",
      " 11  jpg_url                     1994 non-null   object        \n",
      " 12  img_num                     1994 non-null   float64       \n",
      " 13  p1                          1994 non-null   object        \n",
      " 14  p1_conf                     1994 non-null   float64       \n",
      " 15  p1_dog                      1994 non-null   object        \n",
      " 16  p2                          1994 non-null   object        \n",
      " 17  p2_conf                     1994 non-null   float64       \n",
      " 18  p2_dog                      1994 non-null   object        \n",
      " 19  p3                          1994 non-null   object        \n",
      " 20  p3_conf                     1994 non-null   float64       \n",
      " 21  p3_dog                      1994 non-null   object        \n",
      " 22  retweets                    2117 non-null   float64       \n",
      " 23  favorites                   2117 non-null   float64       \n",
      " 24  dog_stage                   338 non-null    object        \n",
      " 25  rating_numerator            2117 non-null   float64       \n",
      " 26  rating_denominator          2117 non-null   int32         \n",
      "dtypes: datetime64[ns](1), float64(12), int32(1), object(13)\n",
      "memory usage: 454.8+ KB\n"
     ]
    }
   ],
   "source": [
    "twitter_data_clean.info()"
   ]
  },
  {
   "cell_type": "markdown",
   "metadata": {},
   "source": [
    "**Define**\n",
    "- Drop the columns 'in_reply_to_status_id' , 'in_reply_to_user_id' , 'retweeted_status_id' , 'retweeted_status_user_id' , 'retweeted_status_timestamp' to make the dataframe more readable"
   ]
  },
  {
   "cell_type": "markdown",
   "metadata": {},
   "source": [
    "**Code**"
   ]
  },
  {
   "cell_type": "code",
   "execution_count": 616,
   "metadata": {},
   "outputs": [],
   "source": [
    "twitter_data_clean.drop(['in_reply_to_status_id' , 'in_reply_to_user_id' , 'retweeted_status_id' , 'retweeted_status_user_id' , 'retweeted_status_timestamp','img_num'], axis=1,inplace = True)"
   ]
  },
  {
   "cell_type": "markdown",
   "metadata": {},
   "source": [
    "**Test**"
   ]
  },
  {
   "cell_type": "code",
   "execution_count": 617,
   "metadata": {},
   "outputs": [
    {
     "name": "stdout",
     "output_type": "stream",
     "text": [
      "<class 'pandas.core.frame.DataFrame'>\n",
      "Int64Index: 2117 entries, 0 to 2355\n",
      "Data columns (total 21 columns):\n",
      " #   Column              Non-Null Count  Dtype         \n",
      "---  ------              --------------  -----         \n",
      " 0   tweet_id            2117 non-null   object        \n",
      " 1   timestamp           2117 non-null   datetime64[ns]\n",
      " 2   source              2117 non-null   object        \n",
      " 3   text                2117 non-null   object        \n",
      " 4   expanded_urls       2117 non-null   object        \n",
      " 5   name                1391 non-null   object        \n",
      " 6   jpg_url             1994 non-null   object        \n",
      " 7   p1                  1994 non-null   object        \n",
      " 8   p1_conf             1994 non-null   float64       \n",
      " 9   p1_dog              1994 non-null   object        \n",
      " 10  p2                  1994 non-null   object        \n",
      " 11  p2_conf             1994 non-null   float64       \n",
      " 12  p2_dog              1994 non-null   object        \n",
      " 13  p3                  1994 non-null   object        \n",
      " 14  p3_conf             1994 non-null   float64       \n",
      " 15  p3_dog              1994 non-null   object        \n",
      " 16  retweets            2117 non-null   float64       \n",
      " 17  favorites           2117 non-null   float64       \n",
      " 18  dog_stage           338 non-null    object        \n",
      " 19  rating_numerator    2117 non-null   float64       \n",
      " 20  rating_denominator  2117 non-null   int32         \n",
      "dtypes: datetime64[ns](1), float64(6), int32(1), object(13)\n",
      "memory usage: 355.6+ KB\n"
     ]
    }
   ],
   "source": [
    "twitter_data_clean.info()"
   ]
  },
  {
   "cell_type": "code",
   "execution_count": 618,
   "metadata": {},
   "outputs": [
    {
     "data": {
      "text/html": [
       "<div>\n",
       "<style scoped>\n",
       "    .dataframe tbody tr th:only-of-type {\n",
       "        vertical-align: middle;\n",
       "    }\n",
       "\n",
       "    .dataframe tbody tr th {\n",
       "        vertical-align: top;\n",
       "    }\n",
       "\n",
       "    .dataframe thead th {\n",
       "        text-align: right;\n",
       "    }\n",
       "</style>\n",
       "<table border=\"1\" class=\"dataframe\">\n",
       "  <thead>\n",
       "    <tr style=\"text-align: right;\">\n",
       "      <th></th>\n",
       "      <th>tweet_id</th>\n",
       "      <th>timestamp</th>\n",
       "      <th>source</th>\n",
       "      <th>text</th>\n",
       "      <th>expanded_urls</th>\n",
       "      <th>name</th>\n",
       "      <th>jpg_url</th>\n",
       "      <th>p1</th>\n",
       "      <th>p1_conf</th>\n",
       "      <th>p1_dog</th>\n",
       "      <th>...</th>\n",
       "      <th>p2_conf</th>\n",
       "      <th>p2_dog</th>\n",
       "      <th>p3</th>\n",
       "      <th>p3_conf</th>\n",
       "      <th>p3_dog</th>\n",
       "      <th>retweets</th>\n",
       "      <th>favorites</th>\n",
       "      <th>dog_stage</th>\n",
       "      <th>rating_numerator</th>\n",
       "      <th>rating_denominator</th>\n",
       "    </tr>\n",
       "  </thead>\n",
       "  <tbody>\n",
       "    <tr>\n",
       "      <th>1436</th>\n",
       "      <td>697255105972801536</td>\n",
       "      <td>2016-02-10 03:05:46</td>\n",
       "      <td>Twitter for iPhone</td>\n",
       "      <td>Meet Charlie. He likes to kiss all the big milk dogs with the rad earrings. Passionate af. 10/10 just a great guy https://t.co/Oe0XSGmfoP</td>\n",
       "      <td>https://twitter.com/dog_rates/status/697255105972801536/photo/1</td>\n",
       "      <td>Charlie</td>\n",
       "      <td>https://pbs.twimg.com/media/Ca0lzzmWwAA5u56.jpg</td>\n",
       "      <td>Great_Dane</td>\n",
       "      <td>0.173989</td>\n",
       "      <td>True</td>\n",
       "      <td>...</td>\n",
       "      <td>0.165888</td>\n",
       "      <td>True</td>\n",
       "      <td>Doberman</td>\n",
       "      <td>0.119890</td>\n",
       "      <td>True</td>\n",
       "      <td>1315.0</td>\n",
       "      <td>3316.0</td>\n",
       "      <td>NaN</td>\n",
       "      <td>10.0</td>\n",
       "      <td>10</td>\n",
       "    </tr>\n",
       "    <tr>\n",
       "      <th>157</th>\n",
       "      <td>861288531465048066</td>\n",
       "      <td>2017-05-07 18:36:02</td>\n",
       "      <td>Twitter for iPhone</td>\n",
       "      <td>HI. MY. NAME. IS. BOOMER. AND. I. WANT. TO. SAY. IT'S. H*CKIN. RIDICULOUS. THAT. DOGS. CAN'T VOTE. ABSOLUTE. CODSWALLUP. THANK. YOU. 13/10 https://t.co/SqKJPwbQ2g</td>\n",
       "      <td>https://twitter.com/dog_rates/status/861288531465048066/video/1</td>\n",
       "      <td>NaN</td>\n",
       "      <td>https://pbs.twimg.com/ext_tw_video_thumb/861288473281437696/pu/img/RERGmRgPyaaaB-tB.jpg</td>\n",
       "      <td>syringe</td>\n",
       "      <td>0.144712</td>\n",
       "      <td>False</td>\n",
       "      <td>...</td>\n",
       "      <td>0.106684</td>\n",
       "      <td>False</td>\n",
       "      <td>Bouvier_des_Flandres</td>\n",
       "      <td>0.082610</td>\n",
       "      <td>True</td>\n",
       "      <td>4479.0</td>\n",
       "      <td>18032.0</td>\n",
       "      <td>NaN</td>\n",
       "      <td>13.0</td>\n",
       "      <td>10</td>\n",
       "    </tr>\n",
       "    <tr>\n",
       "      <th>1758</th>\n",
       "      <td>678755239630127104</td>\n",
       "      <td>2015-12-21 01:53:54</td>\n",
       "      <td>Twitter for iPhone</td>\n",
       "      <td>This is Dash. He didn't think the water would be that cold. Damn it Dash it's December. Think a little. 10/10 https://t.co/NqcOwG8pxW</td>\n",
       "      <td>https://twitter.com/dog_rates/status/678755239630127104/photo/1</td>\n",
       "      <td>Dash</td>\n",
       "      <td>https://pbs.twimg.com/media/CWtsSQAUkAAnWws.jpg</td>\n",
       "      <td>malamute</td>\n",
       "      <td>0.606654</td>\n",
       "      <td>True</td>\n",
       "      <td>...</td>\n",
       "      <td>0.193831</td>\n",
       "      <td>True</td>\n",
       "      <td>collie</td>\n",
       "      <td>0.048378</td>\n",
       "      <td>True</td>\n",
       "      <td>3741.0</td>\n",
       "      <td>7802.0</td>\n",
       "      <td>NaN</td>\n",
       "      <td>10.0</td>\n",
       "      <td>10</td>\n",
       "    </tr>\n",
       "    <tr>\n",
       "      <th>1958</th>\n",
       "      <td>673580926094458881</td>\n",
       "      <td>2015-12-06 19:13:01</td>\n",
       "      <td>Twitter for iPhone</td>\n",
       "      <td>When you ask your professor about extra credit on the last day of class. 8/10 https://t.co/H6rqZyE4NP</td>\n",
       "      <td>https://twitter.com/dog_rates/status/673580926094458881/photo/1</td>\n",
       "      <td>NaN</td>\n",
       "      <td>https://pbs.twimg.com/media/CVkKRqOXIAEX83-.jpg</td>\n",
       "      <td>beagle</td>\n",
       "      <td>0.985062</td>\n",
       "      <td>True</td>\n",
       "      <td>...</td>\n",
       "      <td>0.006418</td>\n",
       "      <td>True</td>\n",
       "      <td>Walker_hound</td>\n",
       "      <td>0.003533</td>\n",
       "      <td>True</td>\n",
       "      <td>297.0</td>\n",
       "      <td>882.0</td>\n",
       "      <td>NaN</td>\n",
       "      <td>8.0</td>\n",
       "      <td>10</td>\n",
       "    </tr>\n",
       "    <tr>\n",
       "      <th>738</th>\n",
       "      <td>780800785462489090</td>\n",
       "      <td>2016-09-27 16:06:28</td>\n",
       "      <td>Twitter for iPhone</td>\n",
       "      <td>This is Koda. He has a weird relationship with tall grass. Slightly concerning. 11/10 would def still pet https://t.co/KQzSR8eCsw</td>\n",
       "      <td>https://twitter.com/dog_rates/status/780800785462489090/photo/1,https://twitter.com/dog_rates/status/780800785462489090/photo/1,https://twitter.com/dog_rates/status/780800785462489090/photo/1</td>\n",
       "      <td>Koda</td>\n",
       "      <td>https://pbs.twimg.com/media/CtX2Kr9XYAAuxrM.jpg</td>\n",
       "      <td>Siberian_husky</td>\n",
       "      <td>0.951963</td>\n",
       "      <td>True</td>\n",
       "      <td>...</td>\n",
       "      <td>0.035346</td>\n",
       "      <td>True</td>\n",
       "      <td>Pembroke</td>\n",
       "      <td>0.008862</td>\n",
       "      <td>True</td>\n",
       "      <td>1505.0</td>\n",
       "      <td>6141.0</td>\n",
       "      <td>NaN</td>\n",
       "      <td>11.0</td>\n",
       "      <td>10</td>\n",
       "    </tr>\n",
       "    <tr>\n",
       "      <th>369</th>\n",
       "      <td>828650029636317184</td>\n",
       "      <td>2017-02-06 17:02:17</td>\n",
       "      <td>Twitter for iPhone</td>\n",
       "      <td>Occasionally, we're sent fantastic stories. This is one of them. 14/10 for Grace https://t.co/bZ4axuH6OK</td>\n",
       "      <td>https://twitter.com/dog_rates/status/828650029636317184/photo/1,https://twitter.com/dog_rates/status/828650029636317184/photo/1,https://twitter.com/dog_rates/status/828650029636317184/photo/1</td>\n",
       "      <td>NaN</td>\n",
       "      <td>https://pbs.twimg.com/media/C3_0yhCWEAETXj2.jpg</td>\n",
       "      <td>golden_retriever</td>\n",
       "      <td>0.649209</td>\n",
       "      <td>True</td>\n",
       "      <td>...</td>\n",
       "      <td>0.198560</td>\n",
       "      <td>True</td>\n",
       "      <td>vizsla</td>\n",
       "      <td>0.056200</td>\n",
       "      <td>True</td>\n",
       "      <td>1544.0</td>\n",
       "      <td>10467.0</td>\n",
       "      <td>NaN</td>\n",
       "      <td>14.0</td>\n",
       "      <td>10</td>\n",
       "    </tr>\n",
       "    <tr>\n",
       "      <th>1581</th>\n",
       "      <td>687124485711986689</td>\n",
       "      <td>2016-01-13 04:10:18</td>\n",
       "      <td>Twitter for iPhone</td>\n",
       "      <td>Say hello to Samson. He's a Firecracker Häagen-Dazs. 11/10 objects in mirror may be more petable than they appear https://t.co/03vR9dn7jy</td>\n",
       "      <td>https://twitter.com/dog_rates/status/687124485711986689/photo/1</td>\n",
       "      <td>Samson</td>\n",
       "      <td>https://pbs.twimg.com/media/CYkoE10WEAAWqxm.jpg</td>\n",
       "      <td>car_mirror</td>\n",
       "      <td>0.997121</td>\n",
       "      <td>False</td>\n",
       "      <td>...</td>\n",
       "      <td>0.000375</td>\n",
       "      <td>False</td>\n",
       "      <td>beagle</td>\n",
       "      <td>0.000216</td>\n",
       "      <td>True</td>\n",
       "      <td>577.0</td>\n",
       "      <td>2371.0</td>\n",
       "      <td>NaN</td>\n",
       "      <td>11.0</td>\n",
       "      <td>10</td>\n",
       "    </tr>\n",
       "    <tr>\n",
       "      <th>1723</th>\n",
       "      <td>680100725817409536</td>\n",
       "      <td>2015-12-24 19:00:23</td>\n",
       "      <td>Tweetdeck</td>\n",
       "      <td>This pupper is not coming inside until she catches a snowflake on her tongue. 11/10 the determination is palpable https://t.co/lvMYbmKq8H</td>\n",
       "      <td>https://twitter.com/dog_rates/status/680100725817409536/photo/1</td>\n",
       "      <td>NaN</td>\n",
       "      <td>https://pbs.twimg.com/media/CW-loUBWYAAn2Cb.jpg</td>\n",
       "      <td>golden_retriever</td>\n",
       "      <td>0.698961</td>\n",
       "      <td>True</td>\n",
       "      <td>...</td>\n",
       "      <td>0.145971</td>\n",
       "      <td>True</td>\n",
       "      <td>Pomeranian</td>\n",
       "      <td>0.034888</td>\n",
       "      <td>True</td>\n",
       "      <td>1554.0</td>\n",
       "      <td>3891.0</td>\n",
       "      <td>pupper</td>\n",
       "      <td>11.0</td>\n",
       "      <td>10</td>\n",
       "    </tr>\n",
       "    <tr>\n",
       "      <th>762</th>\n",
       "      <td>778039087836069888</td>\n",
       "      <td>2016-09-20 01:12:28</td>\n",
       "      <td>Twitter for iPhone</td>\n",
       "      <td>Evolution of a pupper yawn featuring Max. 12/10 groundbreaking stuff https://t.co/t8Y4x9DmVD</td>\n",
       "      <td>https://twitter.com/dog_rates/status/778039087836069888/photo/1,https://twitter.com/dog_rates/status/778039087836069888/photo/1,https://twitter.com/dog_rates/status/778039087836069888/photo/1,https://twitter.com/dog_rates/status/778039087836069888/photo/1</td>\n",
       "      <td>NaN</td>\n",
       "      <td>https://pbs.twimg.com/media/CswmaHmWAAAbdY9.jpg</td>\n",
       "      <td>German_shepherd</td>\n",
       "      <td>0.717776</td>\n",
       "      <td>True</td>\n",
       "      <td>...</td>\n",
       "      <td>0.111175</td>\n",
       "      <td>True</td>\n",
       "      <td>Norwegian_elkhound</td>\n",
       "      <td>0.058802</td>\n",
       "      <td>True</td>\n",
       "      <td>3065.0</td>\n",
       "      <td>9417.0</td>\n",
       "      <td>pupper</td>\n",
       "      <td>12.0</td>\n",
       "      <td>10</td>\n",
       "    </tr>\n",
       "    <tr>\n",
       "      <th>2158</th>\n",
       "      <td>669573570759163904</td>\n",
       "      <td>2015-11-25 17:49:14</td>\n",
       "      <td>Twitter for iPhone</td>\n",
       "      <td>This is Linda. She just looked up and saw you glancing at your neighboring classmate's test. 10/10 https://t.co/UpFFYhA1Id</td>\n",
       "      <td>https://twitter.com/dog_rates/status/669573570759163904/photo/1</td>\n",
       "      <td>Linda</td>\n",
       "      <td>https://pbs.twimg.com/media/CUrNmtFWoAAnWCD.jpg</td>\n",
       "      <td>West_Highland_white_terrier</td>\n",
       "      <td>0.946828</td>\n",
       "      <td>True</td>\n",
       "      <td>...</td>\n",
       "      <td>0.022344</td>\n",
       "      <td>True</td>\n",
       "      <td>cairn</td>\n",
       "      <td>0.009462</td>\n",
       "      <td>True</td>\n",
       "      <td>156.0</td>\n",
       "      <td>467.0</td>\n",
       "      <td>NaN</td>\n",
       "      <td>10.0</td>\n",
       "      <td>10</td>\n",
       "    </tr>\n",
       "  </tbody>\n",
       "</table>\n",
       "<p>10 rows × 21 columns</p>\n",
       "</div>"
      ],
      "text/plain": [
       "                tweet_id           timestamp              source  \\\n",
       "1436  697255105972801536 2016-02-10 03:05:46  Twitter for iPhone   \n",
       "157   861288531465048066 2017-05-07 18:36:02  Twitter for iPhone   \n",
       "1758  678755239630127104 2015-12-21 01:53:54  Twitter for iPhone   \n",
       "1958  673580926094458881 2015-12-06 19:13:01  Twitter for iPhone   \n",
       "738   780800785462489090 2016-09-27 16:06:28  Twitter for iPhone   \n",
       "369   828650029636317184 2017-02-06 17:02:17  Twitter for iPhone   \n",
       "1581  687124485711986689 2016-01-13 04:10:18  Twitter for iPhone   \n",
       "1723  680100725817409536 2015-12-24 19:00:23  Tweetdeck            \n",
       "762   778039087836069888 2016-09-20 01:12:28  Twitter for iPhone   \n",
       "2158  669573570759163904 2015-11-25 17:49:14  Twitter for iPhone   \n",
       "\n",
       "                                                                                                                                                                    text  \\\n",
       "1436  Meet Charlie. He likes to kiss all the big milk dogs with the rad earrings. Passionate af. 10/10 just a great guy https://t.co/Oe0XSGmfoP                            \n",
       "157   HI. MY. NAME. IS. BOOMER. AND. I. WANT. TO. SAY. IT'S. H*CKIN. RIDICULOUS. THAT. DOGS. CAN'T VOTE. ABSOLUTE. CODSWALLUP. THANK. YOU. 13/10 https://t.co/SqKJPwbQ2g   \n",
       "1758  This is Dash. He didn't think the water would be that cold. Damn it Dash it's December. Think a little. 10/10 https://t.co/NqcOwG8pxW                                \n",
       "1958  When you ask your professor about extra credit on the last day of class. 8/10 https://t.co/H6rqZyE4NP                                                                \n",
       "738   This is Koda. He has a weird relationship with tall grass. Slightly concerning. 11/10 would def still pet https://t.co/KQzSR8eCsw                                    \n",
       "369   Occasionally, we're sent fantastic stories. This is one of them. 14/10 for Grace https://t.co/bZ4axuH6OK                                                             \n",
       "1581  Say hello to Samson. He's a Firecracker Häagen-Dazs. 11/10 objects in mirror may be more petable than they appear https://t.co/03vR9dn7jy                            \n",
       "1723  This pupper is not coming inside until she catches a snowflake on her tongue. 11/10 the determination is palpable https://t.co/lvMYbmKq8H                            \n",
       "762   Evolution of a pupper yawn featuring Max. 12/10 groundbreaking stuff https://t.co/t8Y4x9DmVD                                                                         \n",
       "2158  This is Linda. She just looked up and saw you glancing at your neighboring classmate's test. 10/10 https://t.co/UpFFYhA1Id                                           \n",
       "\n",
       "                                                                                                                                                                                                                                                        expanded_urls  \\\n",
       "1436  https://twitter.com/dog_rates/status/697255105972801536/photo/1                                                                                                                                                                                                   \n",
       "157   https://twitter.com/dog_rates/status/861288531465048066/video/1                                                                                                                                                                                                   \n",
       "1758  https://twitter.com/dog_rates/status/678755239630127104/photo/1                                                                                                                                                                                                   \n",
       "1958  https://twitter.com/dog_rates/status/673580926094458881/photo/1                                                                                                                                                                                                   \n",
       "738   https://twitter.com/dog_rates/status/780800785462489090/photo/1,https://twitter.com/dog_rates/status/780800785462489090/photo/1,https://twitter.com/dog_rates/status/780800785462489090/photo/1                                                                   \n",
       "369   https://twitter.com/dog_rates/status/828650029636317184/photo/1,https://twitter.com/dog_rates/status/828650029636317184/photo/1,https://twitter.com/dog_rates/status/828650029636317184/photo/1                                                                   \n",
       "1581  https://twitter.com/dog_rates/status/687124485711986689/photo/1                                                                                                                                                                                                   \n",
       "1723  https://twitter.com/dog_rates/status/680100725817409536/photo/1                                                                                                                                                                                                   \n",
       "762   https://twitter.com/dog_rates/status/778039087836069888/photo/1,https://twitter.com/dog_rates/status/778039087836069888/photo/1,https://twitter.com/dog_rates/status/778039087836069888/photo/1,https://twitter.com/dog_rates/status/778039087836069888/photo/1   \n",
       "2158  https://twitter.com/dog_rates/status/669573570759163904/photo/1                                                                                                                                                                                                   \n",
       "\n",
       "         name  \\\n",
       "1436  Charlie   \n",
       "157   NaN       \n",
       "1758  Dash      \n",
       "1958  NaN       \n",
       "738   Koda      \n",
       "369   NaN       \n",
       "1581  Samson    \n",
       "1723  NaN       \n",
       "762   NaN       \n",
       "2158  Linda     \n",
       "\n",
       "                                                                                      jpg_url  \\\n",
       "1436  https://pbs.twimg.com/media/Ca0lzzmWwAA5u56.jpg                                           \n",
       "157   https://pbs.twimg.com/ext_tw_video_thumb/861288473281437696/pu/img/RERGmRgPyaaaB-tB.jpg   \n",
       "1758  https://pbs.twimg.com/media/CWtsSQAUkAAnWws.jpg                                           \n",
       "1958  https://pbs.twimg.com/media/CVkKRqOXIAEX83-.jpg                                           \n",
       "738   https://pbs.twimg.com/media/CtX2Kr9XYAAuxrM.jpg                                           \n",
       "369   https://pbs.twimg.com/media/C3_0yhCWEAETXj2.jpg                                           \n",
       "1581  https://pbs.twimg.com/media/CYkoE10WEAAWqxm.jpg                                           \n",
       "1723  https://pbs.twimg.com/media/CW-loUBWYAAn2Cb.jpg                                           \n",
       "762   https://pbs.twimg.com/media/CswmaHmWAAAbdY9.jpg                                           \n",
       "2158  https://pbs.twimg.com/media/CUrNmtFWoAAnWCD.jpg                                           \n",
       "\n",
       "                               p1   p1_conf p1_dog  ...   p2_conf  p2_dog  \\\n",
       "1436  Great_Dane                   0.173989  True   ...  0.165888  True     \n",
       "157   syringe                      0.144712  False  ...  0.106684  False    \n",
       "1758  malamute                     0.606654  True   ...  0.193831  True     \n",
       "1958  beagle                       0.985062  True   ...  0.006418  True     \n",
       "738   Siberian_husky               0.951963  True   ...  0.035346  True     \n",
       "369   golden_retriever             0.649209  True   ...  0.198560  True     \n",
       "1581  car_mirror                   0.997121  False  ...  0.000375  False    \n",
       "1723  golden_retriever             0.698961  True   ...  0.145971  True     \n",
       "762   German_shepherd              0.717776  True   ...  0.111175  True     \n",
       "2158  West_Highland_white_terrier  0.946828  True   ...  0.022344  True     \n",
       "\n",
       "                        p3   p3_conf  p3_dog retweets  favorites  dog_stage  \\\n",
       "1436  Doberman              0.119890  True    1315.0   3316.0     NaN         \n",
       "157   Bouvier_des_Flandres  0.082610  True    4479.0   18032.0    NaN         \n",
       "1758  collie                0.048378  True    3741.0   7802.0     NaN         \n",
       "1958  Walker_hound          0.003533  True    297.0    882.0      NaN         \n",
       "738   Pembroke              0.008862  True    1505.0   6141.0     NaN         \n",
       "369   vizsla                0.056200  True    1544.0   10467.0    NaN         \n",
       "1581  beagle                0.000216  True    577.0    2371.0     NaN         \n",
       "1723  Pomeranian            0.034888  True    1554.0   3891.0     pupper      \n",
       "762   Norwegian_elkhound    0.058802  True    3065.0   9417.0     pupper      \n",
       "2158  cairn                 0.009462  True    156.0    467.0      NaN         \n",
       "\n",
       "     rating_numerator  rating_denominator  \n",
       "1436  10.0             10                  \n",
       "157   13.0             10                  \n",
       "1758  10.0             10                  \n",
       "1958  8.0              10                  \n",
       "738   11.0             10                  \n",
       "369   14.0             10                  \n",
       "1581  11.0             10                  \n",
       "1723  11.0             10                  \n",
       "762   12.0             10                  \n",
       "2158  10.0             10                  \n",
       "\n",
       "[10 rows x 21 columns]"
      ]
     },
     "execution_count": 618,
     "metadata": {},
     "output_type": "execute_result"
    }
   ],
   "source": [
    "twitter_data_clean.sample(10)"
   ]
  },
  {
   "cell_type": "code",
   "execution_count": 619,
   "metadata": {},
   "outputs": [
    {
     "data": {
      "text/html": [
       "<div>\n",
       "<style scoped>\n",
       "    .dataframe tbody tr th:only-of-type {\n",
       "        vertical-align: middle;\n",
       "    }\n",
       "\n",
       "    .dataframe tbody tr th {\n",
       "        vertical-align: top;\n",
       "    }\n",
       "\n",
       "    .dataframe thead th {\n",
       "        text-align: right;\n",
       "    }\n",
       "</style>\n",
       "<table border=\"1\" class=\"dataframe\">\n",
       "  <thead>\n",
       "    <tr style=\"text-align: right;\">\n",
       "      <th></th>\n",
       "      <th>tweet_id</th>\n",
       "      <th>timestamp</th>\n",
       "      <th>source</th>\n",
       "      <th>text</th>\n",
       "      <th>expanded_urls</th>\n",
       "      <th>name</th>\n",
       "      <th>jpg_url</th>\n",
       "      <th>p1</th>\n",
       "      <th>p1_conf</th>\n",
       "      <th>p1_dog</th>\n",
       "      <th>...</th>\n",
       "      <th>p2_conf</th>\n",
       "      <th>p2_dog</th>\n",
       "      <th>p3</th>\n",
       "      <th>p3_conf</th>\n",
       "      <th>p3_dog</th>\n",
       "      <th>retweets</th>\n",
       "      <th>favorites</th>\n",
       "      <th>dog_stage</th>\n",
       "      <th>rating_numerator</th>\n",
       "      <th>rating_denominator</th>\n",
       "    </tr>\n",
       "  </thead>\n",
       "  <tbody>\n",
       "    <tr>\n",
       "      <th>2042</th>\n",
       "      <td>671538301157904385</td>\n",
       "      <td>2015-12-01 03:56:22</td>\n",
       "      <td>Twitter for iPhone</td>\n",
       "      <td>This is Baxter. He's very calm. Hasn't eaten in weeks tho. Not good at fetch. Never blinks. 8/10 would still pet https://t.co/fUuiyu2QTD</td>\n",
       "      <td>https://twitter.com/dog_rates/status/671538301157904385/photo/1</td>\n",
       "      <td>Baxter</td>\n",
       "      <td>https://pbs.twimg.com/media/CVHIhi2WsAEgdKk.jpg</td>\n",
       "      <td>park_bench</td>\n",
       "      <td>0.194211</td>\n",
       "      <td>False</td>\n",
       "      <td>...</td>\n",
       "      <td>0.071870</td>\n",
       "      <td>False</td>\n",
       "      <td>beacon</td>\n",
       "      <td>0.053433</td>\n",
       "      <td>False</td>\n",
       "      <td>436.0</td>\n",
       "      <td>993.0</td>\n",
       "      <td>NaN</td>\n",
       "      <td>8.0</td>\n",
       "      <td>10</td>\n",
       "    </tr>\n",
       "    <tr>\n",
       "      <th>979</th>\n",
       "      <td>749981277374128128</td>\n",
       "      <td>2016-07-04 15:00:45</td>\n",
       "      <td>Tweetdeck</td>\n",
       "      <td>This is Atticus. He's quite simply America af. 1776/10 https://t.co/GRXwMxLBkh</td>\n",
       "      <td>https://twitter.com/dog_rates/status/749981277374128128/photo/1</td>\n",
       "      <td>Atticus</td>\n",
       "      <td>https://pbs.twimg.com/media/CmgBZ7kWcAAlzFD.jpg</td>\n",
       "      <td>bow_tie</td>\n",
       "      <td>0.533941</td>\n",
       "      <td>False</td>\n",
       "      <td>...</td>\n",
       "      <td>0.080822</td>\n",
       "      <td>False</td>\n",
       "      <td>sunglass</td>\n",
       "      <td>0.050776</td>\n",
       "      <td>False</td>\n",
       "      <td>2772.0</td>\n",
       "      <td>5569.0</td>\n",
       "      <td>NaN</td>\n",
       "      <td>1776.0</td>\n",
       "      <td>10</td>\n",
       "    </tr>\n",
       "    <tr>\n",
       "      <th>76</th>\n",
       "      <td>878057613040115712</td>\n",
       "      <td>2017-06-23 01:10:23</td>\n",
       "      <td>Twitter for iPhone</td>\n",
       "      <td>This is Emmy. She was adopted today. Massive round of pupplause for Emmy and her new family. 14/10 for all involved https://t.co/cwtWnHMVpe</td>\n",
       "      <td>https://twitter.com/dog_rates/status/878057613040115712/photo/1,https://twitter.com/dog_rates/status/878057613040115712/photo/1</td>\n",
       "      <td>Emmy</td>\n",
       "      <td>https://pbs.twimg.com/media/DC98vABUIAA97pz.jpg</td>\n",
       "      <td>French_bulldog</td>\n",
       "      <td>0.839097</td>\n",
       "      <td>True</td>\n",
       "      <td>...</td>\n",
       "      <td>0.078799</td>\n",
       "      <td>True</td>\n",
       "      <td>toy_terrier</td>\n",
       "      <td>0.015243</td>\n",
       "      <td>True</td>\n",
       "      <td>7181.0</td>\n",
       "      <td>42876.0</td>\n",
       "      <td>NaN</td>\n",
       "      <td>14.0</td>\n",
       "      <td>10</td>\n",
       "    </tr>\n",
       "    <tr>\n",
       "      <th>66</th>\n",
       "      <td>879415818425184262</td>\n",
       "      <td>2017-06-26 19:07:24</td>\n",
       "      <td>Twitter for iPhone</td>\n",
       "      <td>This is Duddles. He did an attempt. 13/10 someone help him (vid by Georgia Felici) https://t.co/UDT7ZkcTgY</td>\n",
       "      <td>https://twitter.com/dog_rates/status/879415818425184262/video/1</td>\n",
       "      <td>Duddles</td>\n",
       "      <td>https://pbs.twimg.com/ext_tw_video_thumb/879415784908390401/pu/img/cX7XI1TnUsseGET5.jpg</td>\n",
       "      <td>English_springer</td>\n",
       "      <td>0.383404</td>\n",
       "      <td>True</td>\n",
       "      <td>...</td>\n",
       "      <td>0.134967</td>\n",
       "      <td>True</td>\n",
       "      <td>Cardigan</td>\n",
       "      <td>0.110481</td>\n",
       "      <td>True</td>\n",
       "      <td>45849.0</td>\n",
       "      <td>107956.0</td>\n",
       "      <td>NaN</td>\n",
       "      <td>13.0</td>\n",
       "      <td>10</td>\n",
       "    </tr>\n",
       "    <tr>\n",
       "      <th>1047</th>\n",
       "      <td>743510151680958465</td>\n",
       "      <td>2016-06-16 18:26:48</td>\n",
       "      <td>Twitter Web Client</td>\n",
       "      <td>This is Beya. She doesn't want to swim, so she's not going to. 13/10 nonconforming af (vid by @HappyTailsResor) https://t.co/qGeVjHSUKH</td>\n",
       "      <td>https://twitter.com/dog_rates/status/743510151680958465/video/1</td>\n",
       "      <td>Beya</td>\n",
       "      <td>https://pbs.twimg.com/ext_tw_video_thumb/743509040018268160/pu/img/Ol2OgO5f8ciUp80r.jpg</td>\n",
       "      <td>sea_lion</td>\n",
       "      <td>0.859046</td>\n",
       "      <td>False</td>\n",
       "      <td>...</td>\n",
       "      <td>0.020405</td>\n",
       "      <td>False</td>\n",
       "      <td>hippopotamus</td>\n",
       "      <td>0.013095</td>\n",
       "      <td>False</td>\n",
       "      <td>4185.0</td>\n",
       "      <td>8671.0</td>\n",
       "      <td>NaN</td>\n",
       "      <td>13.0</td>\n",
       "      <td>10</td>\n",
       "    </tr>\n",
       "    <tr>\n",
       "      <th>2106</th>\n",
       "      <td>670468609693655041</td>\n",
       "      <td>2015-11-28 05:05:47</td>\n",
       "      <td>Twitter for iPhone</td>\n",
       "      <td>This is Edd. He's a Czechoslovakian Googolplex Merlot. Ready for Christmas. Take that Starbucks. Very poised. 10/10 https://t.co/dupWSIpSrG</td>\n",
       "      <td>https://twitter.com/dog_rates/status/670468609693655041/photo/1</td>\n",
       "      <td>Edd</td>\n",
       "      <td>https://pbs.twimg.com/media/CU37pEoWUAAitje.jpg</td>\n",
       "      <td>minivan</td>\n",
       "      <td>0.730152</td>\n",
       "      <td>False</td>\n",
       "      <td>...</td>\n",
       "      <td>0.078661</td>\n",
       "      <td>False</td>\n",
       "      <td>car_wheel</td>\n",
       "      <td>0.064346</td>\n",
       "      <td>False</td>\n",
       "      <td>90.0</td>\n",
       "      <td>375.0</td>\n",
       "      <td>NaN</td>\n",
       "      <td>10.0</td>\n",
       "      <td>10</td>\n",
       "    </tr>\n",
       "    <tr>\n",
       "      <th>2311</th>\n",
       "      <td>666781792255496192</td>\n",
       "      <td>2015-11-18 00:55:42</td>\n",
       "      <td>Twitter for iPhone</td>\n",
       "      <td>This is a purebred Bacardi named Octaviath. Can shoot spaghetti out of mouth. 10/10 https://t.co/uEvsGLOFHa</td>\n",
       "      <td>https://twitter.com/dog_rates/status/666781792255496192/photo/1</td>\n",
       "      <td>NaN</td>\n",
       "      <td>https://pbs.twimg.com/media/CUDigRXXIAATI_H.jpg</td>\n",
       "      <td>Italian_greyhound</td>\n",
       "      <td>0.618316</td>\n",
       "      <td>True</td>\n",
       "      <td>...</td>\n",
       "      <td>0.151363</td>\n",
       "      <td>True</td>\n",
       "      <td>vizsla</td>\n",
       "      <td>0.085989</td>\n",
       "      <td>True</td>\n",
       "      <td>211.0</td>\n",
       "      <td>404.0</td>\n",
       "      <td>NaN</td>\n",
       "      <td>10.0</td>\n",
       "      <td>10</td>\n",
       "    </tr>\n",
       "    <tr>\n",
       "      <th>144</th>\n",
       "      <td>863907417377173506</td>\n",
       "      <td>2017-05-15 00:02:33</td>\n",
       "      <td>Twitter for iPhone</td>\n",
       "      <td>This is Albus. He's quite impressive at hide and seek. Knows he's been found this time. 13/10 usually elusive as h*ck https://t.co/ht47njyZ64</td>\n",
       "      <td>https://twitter.com/dog_rates/status/863907417377173506/photo/1,https://twitter.com/dog_rates/status/863907417377173506/photo/1</td>\n",
       "      <td>Albus</td>\n",
       "      <td>https://pbs.twimg.com/media/C_03NPeUQAAgrMl.jpg</td>\n",
       "      <td>marmot</td>\n",
       "      <td>0.358828</td>\n",
       "      <td>False</td>\n",
       "      <td>...</td>\n",
       "      <td>0.174703</td>\n",
       "      <td>False</td>\n",
       "      <td>weasel</td>\n",
       "      <td>0.123485</td>\n",
       "      <td>False</td>\n",
       "      <td>4441.0</td>\n",
       "      <td>21477.0</td>\n",
       "      <td>NaN</td>\n",
       "      <td>13.0</td>\n",
       "      <td>10</td>\n",
       "    </tr>\n",
       "    <tr>\n",
       "      <th>1471</th>\n",
       "      <td>693993230313091072</td>\n",
       "      <td>2016-02-01 03:04:14</td>\n",
       "      <td>Vine - Make a Scene</td>\n",
       "      <td>These lil fellas are the best of friends. 12/10 for both. 1 like = 1 friend (vid by @CassieBrookee15) https://t.co/gzRghPC61H</td>\n",
       "      <td>https://vine.co/v/i5ETazP5hrm</td>\n",
       "      <td>NaN</td>\n",
       "      <td>NaN</td>\n",
       "      <td>NaN</td>\n",
       "      <td>NaN</td>\n",
       "      <td>NaN</td>\n",
       "      <td>...</td>\n",
       "      <td>NaN</td>\n",
       "      <td>NaN</td>\n",
       "      <td>NaN</td>\n",
       "      <td>NaN</td>\n",
       "      <td>NaN</td>\n",
       "      <td>457.0</td>\n",
       "      <td>2044.0</td>\n",
       "      <td>NaN</td>\n",
       "      <td>12.0</td>\n",
       "      <td>10</td>\n",
       "    </tr>\n",
       "    <tr>\n",
       "      <th>1351</th>\n",
       "      <td>704054845121142784</td>\n",
       "      <td>2016-02-28 21:25:30</td>\n",
       "      <td>Twitter for iPhone</td>\n",
       "      <td>Here is a whole flock of puppers.  60/50 I'll take the lot https://t.co/9dpcw6MdWa</td>\n",
       "      <td>https://twitter.com/dog_rates/status/704054845121142784/photo/1</td>\n",
       "      <td>NaN</td>\n",
       "      <td>https://pbs.twimg.com/media/CcVOJEcXEAM0FHL.jpg</td>\n",
       "      <td>Great_Pyrenees</td>\n",
       "      <td>0.667939</td>\n",
       "      <td>True</td>\n",
       "      <td>...</td>\n",
       "      <td>0.228764</td>\n",
       "      <td>True</td>\n",
       "      <td>golden_retriever</td>\n",
       "      <td>0.043885</td>\n",
       "      <td>True</td>\n",
       "      <td>1028.0</td>\n",
       "      <td>3201.0</td>\n",
       "      <td>NaN</td>\n",
       "      <td>60.0</td>\n",
       "      <td>50</td>\n",
       "    </tr>\n",
       "  </tbody>\n",
       "</table>\n",
       "<p>10 rows × 21 columns</p>\n",
       "</div>"
      ],
      "text/plain": [
       "                tweet_id           timestamp               source  \\\n",
       "2042  671538301157904385 2015-12-01 03:56:22  Twitter for iPhone    \n",
       "979   749981277374128128 2016-07-04 15:00:45  Tweetdeck             \n",
       "76    878057613040115712 2017-06-23 01:10:23  Twitter for iPhone    \n",
       "66    879415818425184262 2017-06-26 19:07:24  Twitter for iPhone    \n",
       "1047  743510151680958465 2016-06-16 18:26:48  Twitter Web Client    \n",
       "2106  670468609693655041 2015-11-28 05:05:47  Twitter for iPhone    \n",
       "2311  666781792255496192 2015-11-18 00:55:42  Twitter for iPhone    \n",
       "144   863907417377173506 2017-05-15 00:02:33  Twitter for iPhone    \n",
       "1471  693993230313091072 2016-02-01 03:04:14  Vine - Make a Scene   \n",
       "1351  704054845121142784 2016-02-28 21:25:30  Twitter for iPhone    \n",
       "\n",
       "                                                                                                                                               text  \\\n",
       "2042  This is Baxter. He's very calm. Hasn't eaten in weeks tho. Not good at fetch. Never blinks. 8/10 would still pet https://t.co/fUuiyu2QTD        \n",
       "979   This is Atticus. He's quite simply America af. 1776/10 https://t.co/GRXwMxLBkh                                                                  \n",
       "76    This is Emmy. She was adopted today. Massive round of pupplause for Emmy and her new family. 14/10 for all involved https://t.co/cwtWnHMVpe     \n",
       "66    This is Duddles. He did an attempt. 13/10 someone help him (vid by Georgia Felici) https://t.co/UDT7ZkcTgY                                      \n",
       "1047  This is Beya. She doesn't want to swim, so she's not going to. 13/10 nonconforming af (vid by @HappyTailsResor) https://t.co/qGeVjHSUKH         \n",
       "2106  This is Edd. He's a Czechoslovakian Googolplex Merlot. Ready for Christmas. Take that Starbucks. Very poised. 10/10 https://t.co/dupWSIpSrG     \n",
       "2311  This is a purebred Bacardi named Octaviath. Can shoot spaghetti out of mouth. 10/10 https://t.co/uEvsGLOFHa                                     \n",
       "144   This is Albus. He's quite impressive at hide and seek. Knows he's been found this time. 13/10 usually elusive as h*ck https://t.co/ht47njyZ64   \n",
       "1471  These lil fellas are the best of friends. 12/10 for both. 1 like = 1 friend (vid by @CassieBrookee15) https://t.co/gzRghPC61H                   \n",
       "1351  Here is a whole flock of puppers.  60/50 I'll take the lot https://t.co/9dpcw6MdWa                                                              \n",
       "\n",
       "                                                                                                                        expanded_urls  \\\n",
       "2042  https://twitter.com/dog_rates/status/671538301157904385/photo/1                                                                   \n",
       "979   https://twitter.com/dog_rates/status/749981277374128128/photo/1                                                                   \n",
       "76    https://twitter.com/dog_rates/status/878057613040115712/photo/1,https://twitter.com/dog_rates/status/878057613040115712/photo/1   \n",
       "66    https://twitter.com/dog_rates/status/879415818425184262/video/1                                                                   \n",
       "1047  https://twitter.com/dog_rates/status/743510151680958465/video/1                                                                   \n",
       "2106  https://twitter.com/dog_rates/status/670468609693655041/photo/1                                                                   \n",
       "2311  https://twitter.com/dog_rates/status/666781792255496192/photo/1                                                                   \n",
       "144   https://twitter.com/dog_rates/status/863907417377173506/photo/1,https://twitter.com/dog_rates/status/863907417377173506/photo/1   \n",
       "1471  https://vine.co/v/i5ETazP5hrm                                                                                                     \n",
       "1351  https://twitter.com/dog_rates/status/704054845121142784/photo/1                                                                   \n",
       "\n",
       "         name  \\\n",
       "2042  Baxter    \n",
       "979   Atticus   \n",
       "76    Emmy      \n",
       "66    Duddles   \n",
       "1047  Beya      \n",
       "2106  Edd       \n",
       "2311  NaN       \n",
       "144   Albus     \n",
       "1471  NaN       \n",
       "1351  NaN       \n",
       "\n",
       "                                                                                      jpg_url  \\\n",
       "2042  https://pbs.twimg.com/media/CVHIhi2WsAEgdKk.jpg                                           \n",
       "979   https://pbs.twimg.com/media/CmgBZ7kWcAAlzFD.jpg                                           \n",
       "76    https://pbs.twimg.com/media/DC98vABUIAA97pz.jpg                                           \n",
       "66    https://pbs.twimg.com/ext_tw_video_thumb/879415784908390401/pu/img/cX7XI1TnUsseGET5.jpg   \n",
       "1047  https://pbs.twimg.com/ext_tw_video_thumb/743509040018268160/pu/img/Ol2OgO5f8ciUp80r.jpg   \n",
       "2106  https://pbs.twimg.com/media/CU37pEoWUAAitje.jpg                                           \n",
       "2311  https://pbs.twimg.com/media/CUDigRXXIAATI_H.jpg                                           \n",
       "144   https://pbs.twimg.com/media/C_03NPeUQAAgrMl.jpg                                           \n",
       "1471  NaN                                                                                       \n",
       "1351  https://pbs.twimg.com/media/CcVOJEcXEAM0FHL.jpg                                           \n",
       "\n",
       "                     p1   p1_conf p1_dog  ...   p2_conf  p2_dog  \\\n",
       "2042  park_bench         0.194211  False  ...  0.071870  False    \n",
       "979   bow_tie            0.533941  False  ...  0.080822  False    \n",
       "76    French_bulldog     0.839097  True   ...  0.078799  True     \n",
       "66    English_springer   0.383404  True   ...  0.134967  True     \n",
       "1047  sea_lion           0.859046  False  ...  0.020405  False    \n",
       "2106  minivan            0.730152  False  ...  0.078661  False    \n",
       "2311  Italian_greyhound  0.618316  True   ...  0.151363  True     \n",
       "144   marmot             0.358828  False  ...  0.174703  False    \n",
       "1471  NaN               NaN        NaN    ... NaN        NaN      \n",
       "1351  Great_Pyrenees     0.667939  True   ...  0.228764  True     \n",
       "\n",
       "                    p3   p3_conf  p3_dog retweets  favorites  dog_stage  \\\n",
       "2042  beacon            0.053433  False   436.0    993.0      NaN         \n",
       "979   sunglass          0.050776  False   2772.0   5569.0     NaN         \n",
       "76    toy_terrier       0.015243  True    7181.0   42876.0    NaN         \n",
       "66    Cardigan          0.110481  True    45849.0  107956.0   NaN         \n",
       "1047  hippopotamus      0.013095  False   4185.0   8671.0     NaN         \n",
       "2106  car_wheel         0.064346  False   90.0     375.0      NaN         \n",
       "2311  vizsla            0.085989  True    211.0    404.0      NaN         \n",
       "144   weasel            0.123485  False   4441.0   21477.0    NaN         \n",
       "1471  NaN              NaN        NaN     457.0    2044.0     NaN         \n",
       "1351  golden_retriever  0.043885  True    1028.0   3201.0     NaN         \n",
       "\n",
       "     rating_numerator  rating_denominator  \n",
       "2042  8.0              10                  \n",
       "979   1776.0           10                  \n",
       "76    14.0             10                  \n",
       "66    13.0             10                  \n",
       "1047  13.0             10                  \n",
       "2106  10.0             10                  \n",
       "2311  10.0             10                  \n",
       "144   13.0             10                  \n",
       "1471  12.0             10                  \n",
       "1351  60.0             50                  \n",
       "\n",
       "[10 rows x 21 columns]"
      ]
     },
     "execution_count": 619,
     "metadata": {},
     "output_type": "execute_result"
    }
   ],
   "source": [
    "twitter_data_clean.sample(10)"
   ]
  },
  {
   "cell_type": "markdown",
   "metadata": {},
   "source": [
    "## Store\n"
   ]
  },
  {
   "cell_type": "code",
   "execution_count": 620,
   "metadata": {},
   "outputs": [],
   "source": [
    "twitter_data_clean.to_csv('twitter_archive_master.csv', index=False)"
   ]
  },
  {
   "cell_type": "markdown",
   "metadata": {},
   "source": [
    "## Analyze"
   ]
  },
  {
   "cell_type": "code",
   "execution_count": 621,
   "metadata": {},
   "outputs": [],
   "source": [
    "df = twitter_data_clean.copy()"
   ]
  },
  {
   "cell_type": "code",
   "execution_count": 622,
   "metadata": {},
   "outputs": [
    {
     "name": "stdout",
     "output_type": "stream",
     "text": [
      "<class 'pandas.core.frame.DataFrame'>\n",
      "Int64Index: 2117 entries, 0 to 2355\n",
      "Data columns (total 21 columns):\n",
      " #   Column              Non-Null Count  Dtype         \n",
      "---  ------              --------------  -----         \n",
      " 0   tweet_id            2117 non-null   object        \n",
      " 1   timestamp           2117 non-null   datetime64[ns]\n",
      " 2   source              2117 non-null   object        \n",
      " 3   text                2117 non-null   object        \n",
      " 4   expanded_urls       2117 non-null   object        \n",
      " 5   name                1391 non-null   object        \n",
      " 6   jpg_url             1994 non-null   object        \n",
      " 7   p1                  1994 non-null   object        \n",
      " 8   p1_conf             1994 non-null   float64       \n",
      " 9   p1_dog              1994 non-null   object        \n",
      " 10  p2                  1994 non-null   object        \n",
      " 11  p2_conf             1994 non-null   float64       \n",
      " 12  p2_dog              1994 non-null   object        \n",
      " 13  p3                  1994 non-null   object        \n",
      " 14  p3_conf             1994 non-null   float64       \n",
      " 15  p3_dog              1994 non-null   object        \n",
      " 16  retweets            2117 non-null   float64       \n",
      " 17  favorites           2117 non-null   float64       \n",
      " 18  dog_stage           338 non-null    object        \n",
      " 19  rating_numerator    2117 non-null   float64       \n",
      " 20  rating_denominator  2117 non-null   int32         \n",
      "dtypes: datetime64[ns](1), float64(6), int32(1), object(13)\n",
      "memory usage: 355.6+ KB\n"
     ]
    }
   ],
   "source": [
    "df.info()"
   ]
  },
  {
   "cell_type": "code",
   "execution_count": 623,
   "metadata": {},
   "outputs": [
    {
     "data": {
      "text/html": [
       "<div>\n",
       "<style scoped>\n",
       "    .dataframe tbody tr th:only-of-type {\n",
       "        vertical-align: middle;\n",
       "    }\n",
       "\n",
       "    .dataframe tbody tr th {\n",
       "        vertical-align: top;\n",
       "    }\n",
       "\n",
       "    .dataframe thead th {\n",
       "        text-align: right;\n",
       "    }\n",
       "</style>\n",
       "<table border=\"1\" class=\"dataframe\">\n",
       "  <thead>\n",
       "    <tr style=\"text-align: right;\">\n",
       "      <th></th>\n",
       "      <th>tweet_id</th>\n",
       "      <th>timestamp</th>\n",
       "      <th>source</th>\n",
       "      <th>text</th>\n",
       "      <th>expanded_urls</th>\n",
       "      <th>name</th>\n",
       "      <th>jpg_url</th>\n",
       "      <th>p1</th>\n",
       "      <th>p1_conf</th>\n",
       "      <th>p1_dog</th>\n",
       "      <th>...</th>\n",
       "      <th>p2_conf</th>\n",
       "      <th>p2_dog</th>\n",
       "      <th>p3</th>\n",
       "      <th>p3_conf</th>\n",
       "      <th>p3_dog</th>\n",
       "      <th>retweets</th>\n",
       "      <th>favorites</th>\n",
       "      <th>dog_stage</th>\n",
       "      <th>rating_numerator</th>\n",
       "      <th>rating_denominator</th>\n",
       "    </tr>\n",
       "  </thead>\n",
       "  <tbody>\n",
       "    <tr>\n",
       "      <th>433</th>\n",
       "      <td>820690176645140481</td>\n",
       "      <td>2017-01-15 17:52:40</td>\n",
       "      <td>Twitter for iPhone</td>\n",
       "      <td>The floofs have been released I repeat the floofs have been released. 84/70 https://t.co/NIYC820tmd</td>\n",
       "      <td>https://twitter.com/dog_rates/status/820690176645140481/photo/1,https://twitter.com/dog_rates/status/820690176645140481/photo/1,https://twitter.com/dog_rates/status/820690176645140481/photo/1</td>\n",
       "      <td>NaN</td>\n",
       "      <td>https://pbs.twimg.com/media/C2OtWr0VQAEnS9r.jpg</td>\n",
       "      <td>West_Highland_white_terrier</td>\n",
       "      <td>0.872064</td>\n",
       "      <td>True</td>\n",
       "      <td>...</td>\n",
       "      <td>0.059526</td>\n",
       "      <td>True</td>\n",
       "      <td>Samoyed</td>\n",
       "      <td>0.037400</td>\n",
       "      <td>True</td>\n",
       "      <td>3716.0</td>\n",
       "      <td>13518.0</td>\n",
       "      <td>NaN</td>\n",
       "      <td>84.0</td>\n",
       "      <td>70</td>\n",
       "    </tr>\n",
       "    <tr>\n",
       "      <th>516</th>\n",
       "      <td>810984652412424192</td>\n",
       "      <td>2016-12-19 23:06:23</td>\n",
       "      <td>Twitter for iPhone</td>\n",
       "      <td>Meet Sam. She smiles 24/7 &amp;amp; secretly aspires to be a reindeer. \\nKeep Sam smiling by clicking and sharing this link:\\nhttps://t.co/98tB8y7y7t https://t.co/LouL5vdvxx</td>\n",
       "      <td>https://www.gofundme.com/sams-smile,https://twitter.com/dog_rates/status/810984652412424192/photo/1</td>\n",
       "      <td>Sam</td>\n",
       "      <td>https://pbs.twimg.com/media/C0EyPZbXAAAceSc.jpg</td>\n",
       "      <td>golden_retriever</td>\n",
       "      <td>0.871342</td>\n",
       "      <td>True</td>\n",
       "      <td>...</td>\n",
       "      <td>0.036708</td>\n",
       "      <td>True</td>\n",
       "      <td>Labrador_retriever</td>\n",
       "      <td>0.025823</td>\n",
       "      <td>True</td>\n",
       "      <td>1655.0</td>\n",
       "      <td>5927.0</td>\n",
       "      <td>NaN</td>\n",
       "      <td>24.0</td>\n",
       "      <td>7</td>\n",
       "    </tr>\n",
       "    <tr>\n",
       "      <th>902</th>\n",
       "      <td>758467244762497024</td>\n",
       "      <td>2016-07-28 01:00:57</td>\n",
       "      <td>Twitter for iPhone</td>\n",
       "      <td>Why does this never happen at my front door... 165/150 https://t.co/HmwrdfEfUE</td>\n",
       "      <td>https://twitter.com/dog_rates/status/758467244762497024/video/1</td>\n",
       "      <td>NaN</td>\n",
       "      <td>https://pbs.twimg.com/ext_tw_video_thumb/758467147756691456/pu/img/YTNzjRFDSPNXukmM.jpg</td>\n",
       "      <td>Labrador_retriever</td>\n",
       "      <td>0.436377</td>\n",
       "      <td>True</td>\n",
       "      <td>...</td>\n",
       "      <td>0.113956</td>\n",
       "      <td>True</td>\n",
       "      <td>American_Staffordshire_terrier</td>\n",
       "      <td>0.099689</td>\n",
       "      <td>True</td>\n",
       "      <td>2539.0</td>\n",
       "      <td>5316.0</td>\n",
       "      <td>NaN</td>\n",
       "      <td>165.0</td>\n",
       "      <td>150</td>\n",
       "    </tr>\n",
       "    <tr>\n",
       "      <th>979</th>\n",
       "      <td>749981277374128128</td>\n",
       "      <td>2016-07-04 15:00:45</td>\n",
       "      <td>Tweetdeck</td>\n",
       "      <td>This is Atticus. He's quite simply America af. 1776/10 https://t.co/GRXwMxLBkh</td>\n",
       "      <td>https://twitter.com/dog_rates/status/749981277374128128/photo/1</td>\n",
       "      <td>Atticus</td>\n",
       "      <td>https://pbs.twimg.com/media/CmgBZ7kWcAAlzFD.jpg</td>\n",
       "      <td>bow_tie</td>\n",
       "      <td>0.533941</td>\n",
       "      <td>False</td>\n",
       "      <td>...</td>\n",
       "      <td>0.080822</td>\n",
       "      <td>False</td>\n",
       "      <td>sunglass</td>\n",
       "      <td>0.050776</td>\n",
       "      <td>False</td>\n",
       "      <td>2772.0</td>\n",
       "      <td>5569.0</td>\n",
       "      <td>NaN</td>\n",
       "      <td>1776.0</td>\n",
       "      <td>10</td>\n",
       "    </tr>\n",
       "    <tr>\n",
       "      <th>1120</th>\n",
       "      <td>731156023742988288</td>\n",
       "      <td>2016-05-13 16:15:54</td>\n",
       "      <td>Twitter for iPhone</td>\n",
       "      <td>Say hello to this unbelievably well behaved squad of doggos. 204/170 would try to pet all at once https://t.co/yGQI3He3xv</td>\n",
       "      <td>https://twitter.com/dog_rates/status/731156023742988288/photo/1</td>\n",
       "      <td>NaN</td>\n",
       "      <td>https://pbs.twimg.com/media/CiWWhVNUYAAab_r.jpg</td>\n",
       "      <td>lakeside</td>\n",
       "      <td>0.501767</td>\n",
       "      <td>False</td>\n",
       "      <td>...</td>\n",
       "      <td>0.051351</td>\n",
       "      <td>False</td>\n",
       "      <td>king_penguin</td>\n",
       "      <td>0.049444</td>\n",
       "      <td>False</td>\n",
       "      <td>1434.0</td>\n",
       "      <td>4196.0</td>\n",
       "      <td>NaN</td>\n",
       "      <td>204.0</td>\n",
       "      <td>170</td>\n",
       "    </tr>\n",
       "    <tr>\n",
       "      <th>1202</th>\n",
       "      <td>716439118184652801</td>\n",
       "      <td>2016-04-03 01:36:11</td>\n",
       "      <td>Twitter for iPhone</td>\n",
       "      <td>This is Bluebert. He just saw that both #FinalFur match ups are split 50/50. Amazed af. 11/10 https://t.co/Kky1DPG4iq</td>\n",
       "      <td>https://twitter.com/dog_rates/status/716439118184652801/photo/1</td>\n",
       "      <td>Bluebert</td>\n",
       "      <td>https://pbs.twimg.com/media/CfFNk7cWAAA-hND.jpg</td>\n",
       "      <td>Siberian_husky</td>\n",
       "      <td>0.396495</td>\n",
       "      <td>True</td>\n",
       "      <td>...</td>\n",
       "      <td>0.317053</td>\n",
       "      <td>True</td>\n",
       "      <td>Eskimo_dog</td>\n",
       "      <td>0.273419</td>\n",
       "      <td>True</td>\n",
       "      <td>247.0</td>\n",
       "      <td>2574.0</td>\n",
       "      <td>NaN</td>\n",
       "      <td>50.0</td>\n",
       "      <td>50</td>\n",
       "    </tr>\n",
       "    <tr>\n",
       "      <th>1228</th>\n",
       "      <td>713900603437621249</td>\n",
       "      <td>2016-03-27 01:29:02</td>\n",
       "      <td>Twitter for iPhone</td>\n",
       "      <td>Happy Saturday here's 9 puppers on a bench. 99/90 good work everybody https://t.co/mpvaVxKmc1</td>\n",
       "      <td>https://twitter.com/dog_rates/status/713900603437621249/photo/1</td>\n",
       "      <td>NaN</td>\n",
       "      <td>https://pbs.twimg.com/media/CehIzzZWQAEyHH5.jpg</td>\n",
       "      <td>golden_retriever</td>\n",
       "      <td>0.371816</td>\n",
       "      <td>True</td>\n",
       "      <td>...</td>\n",
       "      <td>0.177413</td>\n",
       "      <td>True</td>\n",
       "      <td>Irish_setter</td>\n",
       "      <td>0.092725</td>\n",
       "      <td>True</td>\n",
       "      <td>829.0</td>\n",
       "      <td>3062.0</td>\n",
       "      <td>NaN</td>\n",
       "      <td>99.0</td>\n",
       "      <td>90</td>\n",
       "    </tr>\n",
       "    <tr>\n",
       "      <th>1254</th>\n",
       "      <td>710658690886586372</td>\n",
       "      <td>2016-03-18 02:46:49</td>\n",
       "      <td>Twitter for iPhone</td>\n",
       "      <td>Here's a brigade of puppers. All look very prepared for whatever happens next. 80/80 https://t.co/0eb7R1Om12</td>\n",
       "      <td>https://twitter.com/dog_rates/status/710658690886586372/photo/1</td>\n",
       "      <td>NaN</td>\n",
       "      <td>https://pbs.twimg.com/media/CdzETn4W4AAVU5N.jpg</td>\n",
       "      <td>soft-coated_wheaten_terrier</td>\n",
       "      <td>0.948617</td>\n",
       "      <td>True</td>\n",
       "      <td>...</td>\n",
       "      <td>0.018664</td>\n",
       "      <td>True</td>\n",
       "      <td>cairn</td>\n",
       "      <td>0.015943</td>\n",
       "      <td>True</td>\n",
       "      <td>636.0</td>\n",
       "      <td>2529.0</td>\n",
       "      <td>NaN</td>\n",
       "      <td>80.0</td>\n",
       "      <td>80</td>\n",
       "    </tr>\n",
       "    <tr>\n",
       "      <th>1274</th>\n",
       "      <td>709198395643068416</td>\n",
       "      <td>2016-03-14 02:04:08</td>\n",
       "      <td>Twitter for iPhone</td>\n",
       "      <td>From left to right:\\nCletus, Jerome, Alejandro, Burp, &amp;amp; Titson\\nNone know where camera is. 45/50 would hug all at once https://t.co/sedre1ivTK</td>\n",
       "      <td>https://twitter.com/dog_rates/status/709198395643068416/photo/1</td>\n",
       "      <td>NaN</td>\n",
       "      <td>https://pbs.twimg.com/media/CdeUKpcWoAAJAWJ.jpg</td>\n",
       "      <td>borzoi</td>\n",
       "      <td>0.490783</td>\n",
       "      <td>True</td>\n",
       "      <td>...</td>\n",
       "      <td>0.083513</td>\n",
       "      <td>True</td>\n",
       "      <td>English_setter</td>\n",
       "      <td>0.083184</td>\n",
       "      <td>True</td>\n",
       "      <td>721.0</td>\n",
       "      <td>2634.0</td>\n",
       "      <td>NaN</td>\n",
       "      <td>45.0</td>\n",
       "      <td>50</td>\n",
       "    </tr>\n",
       "    <tr>\n",
       "      <th>1351</th>\n",
       "      <td>704054845121142784</td>\n",
       "      <td>2016-02-28 21:25:30</td>\n",
       "      <td>Twitter for iPhone</td>\n",
       "      <td>Here is a whole flock of puppers.  60/50 I'll take the lot https://t.co/9dpcw6MdWa</td>\n",
       "      <td>https://twitter.com/dog_rates/status/704054845121142784/photo/1</td>\n",
       "      <td>NaN</td>\n",
       "      <td>https://pbs.twimg.com/media/CcVOJEcXEAM0FHL.jpg</td>\n",
       "      <td>Great_Pyrenees</td>\n",
       "      <td>0.667939</td>\n",
       "      <td>True</td>\n",
       "      <td>...</td>\n",
       "      <td>0.228764</td>\n",
       "      <td>True</td>\n",
       "      <td>golden_retriever</td>\n",
       "      <td>0.043885</td>\n",
       "      <td>True</td>\n",
       "      <td>1028.0</td>\n",
       "      <td>3201.0</td>\n",
       "      <td>NaN</td>\n",
       "      <td>60.0</td>\n",
       "      <td>50</td>\n",
       "    </tr>\n",
       "    <tr>\n",
       "      <th>1433</th>\n",
       "      <td>697463031882764288</td>\n",
       "      <td>2016-02-10 16:51:59</td>\n",
       "      <td>Twitter for iPhone</td>\n",
       "      <td>Happy Wednesday here's a bucket of pups. 44/40 would pet all at once https://t.co/HppvrYuamZ</td>\n",
       "      <td>https://twitter.com/dog_rates/status/697463031882764288/photo/1</td>\n",
       "      <td>NaN</td>\n",
       "      <td>https://pbs.twimg.com/media/Ca3i7CzXIAMLhg8.jpg</td>\n",
       "      <td>Labrador_retriever</td>\n",
       "      <td>0.999885</td>\n",
       "      <td>True</td>\n",
       "      <td>...</td>\n",
       "      <td>0.000098</td>\n",
       "      <td>True</td>\n",
       "      <td>pug</td>\n",
       "      <td>0.000008</td>\n",
       "      <td>True</td>\n",
       "      <td>1552.0</td>\n",
       "      <td>3748.0</td>\n",
       "      <td>NaN</td>\n",
       "      <td>44.0</td>\n",
       "      <td>40</td>\n",
       "    </tr>\n",
       "    <tr>\n",
       "      <th>1634</th>\n",
       "      <td>684225744407494656</td>\n",
       "      <td>2016-01-05 04:11:44</td>\n",
       "      <td>Twitter for iPhone</td>\n",
       "      <td>Two sneaky puppers were not initially seen, moving the rating to 143/130. Please forgive us. Thank you https://t.co/kRK51Y5ac3</td>\n",
       "      <td>https://twitter.com/dog_rates/status/684225744407494656/photo/1,https://twitter.com/dog_rates/status/684225744407494656/photo/1</td>\n",
       "      <td>NaN</td>\n",
       "      <td>https://pbs.twimg.com/media/CX7br3HWsAAQ9L1.jpg</td>\n",
       "      <td>golden_retriever</td>\n",
       "      <td>0.203249</td>\n",
       "      <td>True</td>\n",
       "      <td>...</td>\n",
       "      <td>0.067958</td>\n",
       "      <td>True</td>\n",
       "      <td>Great_Pyrenees</td>\n",
       "      <td>0.065327</td>\n",
       "      <td>True</td>\n",
       "      <td>239.0</td>\n",
       "      <td>1369.0</td>\n",
       "      <td>NaN</td>\n",
       "      <td>143.0</td>\n",
       "      <td>130</td>\n",
       "    </tr>\n",
       "    <tr>\n",
       "      <th>1635</th>\n",
       "      <td>684222868335505415</td>\n",
       "      <td>2016-01-05 04:00:18</td>\n",
       "      <td>Twitter for iPhone</td>\n",
       "      <td>Someone help the girl is being mugged. Several are distracting her while two steal her shoes. Clever puppers 121/110 https://t.co/1zfnTJLt55</td>\n",
       "      <td>https://twitter.com/dog_rates/status/684222868335505415/photo/1</td>\n",
       "      <td>NaN</td>\n",
       "      <td>https://pbs.twimg.com/media/CX7Y_ByWwAEJdUy.jpg</td>\n",
       "      <td>soft-coated_wheaten_terrier</td>\n",
       "      <td>0.791182</td>\n",
       "      <td>True</td>\n",
       "      <td>...</td>\n",
       "      <td>0.072444</td>\n",
       "      <td>True</td>\n",
       "      <td>teddy</td>\n",
       "      <td>0.071486</td>\n",
       "      <td>False</td>\n",
       "      <td>1563.0</td>\n",
       "      <td>4225.0</td>\n",
       "      <td>NaN</td>\n",
       "      <td>121.0</td>\n",
       "      <td>110</td>\n",
       "    </tr>\n",
       "    <tr>\n",
       "      <th>1779</th>\n",
       "      <td>677716515794329600</td>\n",
       "      <td>2015-12-18 05:06:23</td>\n",
       "      <td>Twitter for iPhone</td>\n",
       "      <td>IT'S PUPPERGEDDON. Total of 144/120 ...I think https://t.co/ZanVtAtvIq</td>\n",
       "      <td>https://twitter.com/dog_rates/status/677716515794329600/photo/1</td>\n",
       "      <td>NaN</td>\n",
       "      <td>https://pbs.twimg.com/media/CWe7kw9W4AE8UJh.jpg</td>\n",
       "      <td>teddy</td>\n",
       "      <td>0.662908</td>\n",
       "      <td>False</td>\n",
       "      <td>...</td>\n",
       "      <td>0.031891</td>\n",
       "      <td>False</td>\n",
       "      <td>chow</td>\n",
       "      <td>0.025438</td>\n",
       "      <td>True</td>\n",
       "      <td>1104.0</td>\n",
       "      <td>3323.0</td>\n",
       "      <td>NaN</td>\n",
       "      <td>144.0</td>\n",
       "      <td>120</td>\n",
       "    </tr>\n",
       "    <tr>\n",
       "      <th>1843</th>\n",
       "      <td>675853064436391936</td>\n",
       "      <td>2015-12-13 01:41:41</td>\n",
       "      <td>Twitter for iPhone</td>\n",
       "      <td>Here we have an entire platoon of puppers. Total score: 88/80 would pet all at once https://t.co/y93p6FLvVw</td>\n",
       "      <td>https://twitter.com/dog_rates/status/675853064436391936/photo/1,https://twitter.com/dog_rates/status/675853064436391936/photo/1</td>\n",
       "      <td>NaN</td>\n",
       "      <td>https://pbs.twimg.com/media/CWEcxqWVEAAHyGH.jpg</td>\n",
       "      <td>Labrador_retriever</td>\n",
       "      <td>0.868367</td>\n",
       "      <td>True</td>\n",
       "      <td>...</td>\n",
       "      <td>0.043305</td>\n",
       "      <td>True</td>\n",
       "      <td>vizsla</td>\n",
       "      <td>0.028207</td>\n",
       "      <td>True</td>\n",
       "      <td>1460.0</td>\n",
       "      <td>2927.0</td>\n",
       "      <td>NaN</td>\n",
       "      <td>88.0</td>\n",
       "      <td>80</td>\n",
       "    </tr>\n",
       "    <tr>\n",
       "      <th>2074</th>\n",
       "      <td>670842764863651840</td>\n",
       "      <td>2015-11-29 05:52:33</td>\n",
       "      <td>Twitter for iPhone</td>\n",
       "      <td>After so many requests... here you go.\\n\\nGood dogg. 420/10 https://t.co/yfAAo1gdeY</td>\n",
       "      <td>https://twitter.com/dog_rates/status/670842764863651840/photo/1</td>\n",
       "      <td>NaN</td>\n",
       "      <td>https://pbs.twimg.com/media/CU9P717W4AAOlKx.jpg</td>\n",
       "      <td>microphone</td>\n",
       "      <td>0.096063</td>\n",
       "      <td>False</td>\n",
       "      <td>...</td>\n",
       "      <td>0.094075</td>\n",
       "      <td>False</td>\n",
       "      <td>drumstick</td>\n",
       "      <td>0.061113</td>\n",
       "      <td>False</td>\n",
       "      <td>4324.0</td>\n",
       "      <td>7989.0</td>\n",
       "      <td>NaN</td>\n",
       "      <td>420.0</td>\n",
       "      <td>10</td>\n",
       "    </tr>\n",
       "  </tbody>\n",
       "</table>\n",
       "<p>16 rows × 21 columns</p>\n",
       "</div>"
      ],
      "text/plain": [
       "                tweet_id           timestamp              source  \\\n",
       "433   820690176645140481 2017-01-15 17:52:40  Twitter for iPhone   \n",
       "516   810984652412424192 2016-12-19 23:06:23  Twitter for iPhone   \n",
       "902   758467244762497024 2016-07-28 01:00:57  Twitter for iPhone   \n",
       "979   749981277374128128 2016-07-04 15:00:45  Tweetdeck            \n",
       "1120  731156023742988288 2016-05-13 16:15:54  Twitter for iPhone   \n",
       "1202  716439118184652801 2016-04-03 01:36:11  Twitter for iPhone   \n",
       "1228  713900603437621249 2016-03-27 01:29:02  Twitter for iPhone   \n",
       "1254  710658690886586372 2016-03-18 02:46:49  Twitter for iPhone   \n",
       "1274  709198395643068416 2016-03-14 02:04:08  Twitter for iPhone   \n",
       "1351  704054845121142784 2016-02-28 21:25:30  Twitter for iPhone   \n",
       "1433  697463031882764288 2016-02-10 16:51:59  Twitter for iPhone   \n",
       "1634  684225744407494656 2016-01-05 04:11:44  Twitter for iPhone   \n",
       "1635  684222868335505415 2016-01-05 04:00:18  Twitter for iPhone   \n",
       "1779  677716515794329600 2015-12-18 05:06:23  Twitter for iPhone   \n",
       "1843  675853064436391936 2015-12-13 01:41:41  Twitter for iPhone   \n",
       "2074  670842764863651840 2015-11-29 05:52:33  Twitter for iPhone   \n",
       "\n",
       "                                                                                                                                                                           text  \\\n",
       "433   The floofs have been released I repeat the floofs have been released. 84/70 https://t.co/NIYC820tmd                                                                         \n",
       "516   Meet Sam. She smiles 24/7 &amp; secretly aspires to be a reindeer. \\nKeep Sam smiling by clicking and sharing this link:\\nhttps://t.co/98tB8y7y7t https://t.co/LouL5vdvxx   \n",
       "902   Why does this never happen at my front door... 165/150 https://t.co/HmwrdfEfUE                                                                                              \n",
       "979   This is Atticus. He's quite simply America af. 1776/10 https://t.co/GRXwMxLBkh                                                                                              \n",
       "1120  Say hello to this unbelievably well behaved squad of doggos. 204/170 would try to pet all at once https://t.co/yGQI3He3xv                                                   \n",
       "1202  This is Bluebert. He just saw that both #FinalFur match ups are split 50/50. Amazed af. 11/10 https://t.co/Kky1DPG4iq                                                       \n",
       "1228  Happy Saturday here's 9 puppers on a bench. 99/90 good work everybody https://t.co/mpvaVxKmc1                                                                               \n",
       "1254  Here's a brigade of puppers. All look very prepared for whatever happens next. 80/80 https://t.co/0eb7R1Om12                                                                \n",
       "1274  From left to right:\\nCletus, Jerome, Alejandro, Burp, &amp; Titson\\nNone know where camera is. 45/50 would hug all at once https://t.co/sedre1ivTK                          \n",
       "1351  Here is a whole flock of puppers.  60/50 I'll take the lot https://t.co/9dpcw6MdWa                                                                                          \n",
       "1433  Happy Wednesday here's a bucket of pups. 44/40 would pet all at once https://t.co/HppvrYuamZ                                                                                \n",
       "1634  Two sneaky puppers were not initially seen, moving the rating to 143/130. Please forgive us. Thank you https://t.co/kRK51Y5ac3                                              \n",
       "1635  Someone help the girl is being mugged. Several are distracting her while two steal her shoes. Clever puppers 121/110 https://t.co/1zfnTJLt55                                \n",
       "1779  IT'S PUPPERGEDDON. Total of 144/120 ...I think https://t.co/ZanVtAtvIq                                                                                                      \n",
       "1843  Here we have an entire platoon of puppers. Total score: 88/80 would pet all at once https://t.co/y93p6FLvVw                                                                 \n",
       "2074  After so many requests... here you go.\\n\\nGood dogg. 420/10 https://t.co/yfAAo1gdeY                                                                                         \n",
       "\n",
       "                                                                                                                                                                                        expanded_urls  \\\n",
       "433   https://twitter.com/dog_rates/status/820690176645140481/photo/1,https://twitter.com/dog_rates/status/820690176645140481/photo/1,https://twitter.com/dog_rates/status/820690176645140481/photo/1   \n",
       "516   https://www.gofundme.com/sams-smile,https://twitter.com/dog_rates/status/810984652412424192/photo/1                                                                                               \n",
       "902   https://twitter.com/dog_rates/status/758467244762497024/video/1                                                                                                                                   \n",
       "979   https://twitter.com/dog_rates/status/749981277374128128/photo/1                                                                                                                                   \n",
       "1120  https://twitter.com/dog_rates/status/731156023742988288/photo/1                                                                                                                                   \n",
       "1202  https://twitter.com/dog_rates/status/716439118184652801/photo/1                                                                                                                                   \n",
       "1228  https://twitter.com/dog_rates/status/713900603437621249/photo/1                                                                                                                                   \n",
       "1254  https://twitter.com/dog_rates/status/710658690886586372/photo/1                                                                                                                                   \n",
       "1274  https://twitter.com/dog_rates/status/709198395643068416/photo/1                                                                                                                                   \n",
       "1351  https://twitter.com/dog_rates/status/704054845121142784/photo/1                                                                                                                                   \n",
       "1433  https://twitter.com/dog_rates/status/697463031882764288/photo/1                                                                                                                                   \n",
       "1634  https://twitter.com/dog_rates/status/684225744407494656/photo/1,https://twitter.com/dog_rates/status/684225744407494656/photo/1                                                                   \n",
       "1635  https://twitter.com/dog_rates/status/684222868335505415/photo/1                                                                                                                                   \n",
       "1779  https://twitter.com/dog_rates/status/677716515794329600/photo/1                                                                                                                                   \n",
       "1843  https://twitter.com/dog_rates/status/675853064436391936/photo/1,https://twitter.com/dog_rates/status/675853064436391936/photo/1                                                                   \n",
       "2074  https://twitter.com/dog_rates/status/670842764863651840/photo/1                                                                                                                                   \n",
       "\n",
       "          name  \\\n",
       "433   NaN        \n",
       "516   Sam        \n",
       "902   NaN        \n",
       "979   Atticus    \n",
       "1120  NaN        \n",
       "1202  Bluebert   \n",
       "1228  NaN        \n",
       "1254  NaN        \n",
       "1274  NaN        \n",
       "1351  NaN        \n",
       "1433  NaN        \n",
       "1634  NaN        \n",
       "1635  NaN        \n",
       "1779  NaN        \n",
       "1843  NaN        \n",
       "2074  NaN        \n",
       "\n",
       "                                                                                      jpg_url  \\\n",
       "433   https://pbs.twimg.com/media/C2OtWr0VQAEnS9r.jpg                                           \n",
       "516   https://pbs.twimg.com/media/C0EyPZbXAAAceSc.jpg                                           \n",
       "902   https://pbs.twimg.com/ext_tw_video_thumb/758467147756691456/pu/img/YTNzjRFDSPNXukmM.jpg   \n",
       "979   https://pbs.twimg.com/media/CmgBZ7kWcAAlzFD.jpg                                           \n",
       "1120  https://pbs.twimg.com/media/CiWWhVNUYAAab_r.jpg                                           \n",
       "1202  https://pbs.twimg.com/media/CfFNk7cWAAA-hND.jpg                                           \n",
       "1228  https://pbs.twimg.com/media/CehIzzZWQAEyHH5.jpg                                           \n",
       "1254  https://pbs.twimg.com/media/CdzETn4W4AAVU5N.jpg                                           \n",
       "1274  https://pbs.twimg.com/media/CdeUKpcWoAAJAWJ.jpg                                           \n",
       "1351  https://pbs.twimg.com/media/CcVOJEcXEAM0FHL.jpg                                           \n",
       "1433  https://pbs.twimg.com/media/Ca3i7CzXIAMLhg8.jpg                                           \n",
       "1634  https://pbs.twimg.com/media/CX7br3HWsAAQ9L1.jpg                                           \n",
       "1635  https://pbs.twimg.com/media/CX7Y_ByWwAEJdUy.jpg                                           \n",
       "1779  https://pbs.twimg.com/media/CWe7kw9W4AE8UJh.jpg                                           \n",
       "1843  https://pbs.twimg.com/media/CWEcxqWVEAAHyGH.jpg                                           \n",
       "2074  https://pbs.twimg.com/media/CU9P717W4AAOlKx.jpg                                           \n",
       "\n",
       "                               p1   p1_conf p1_dog  ...   p2_conf  p2_dog  \\\n",
       "433   West_Highland_white_terrier  0.872064  True   ...  0.059526  True     \n",
       "516   golden_retriever             0.871342  True   ...  0.036708  True     \n",
       "902   Labrador_retriever           0.436377  True   ...  0.113956  True     \n",
       "979   bow_tie                      0.533941  False  ...  0.080822  False    \n",
       "1120  lakeside                     0.501767  False  ...  0.051351  False    \n",
       "1202  Siberian_husky               0.396495  True   ...  0.317053  True     \n",
       "1228  golden_retriever             0.371816  True   ...  0.177413  True     \n",
       "1254  soft-coated_wheaten_terrier  0.948617  True   ...  0.018664  True     \n",
       "1274  borzoi                       0.490783  True   ...  0.083513  True     \n",
       "1351  Great_Pyrenees               0.667939  True   ...  0.228764  True     \n",
       "1433  Labrador_retriever           0.999885  True   ...  0.000098  True     \n",
       "1634  golden_retriever             0.203249  True   ...  0.067958  True     \n",
       "1635  soft-coated_wheaten_terrier  0.791182  True   ...  0.072444  True     \n",
       "1779  teddy                        0.662908  False  ...  0.031891  False    \n",
       "1843  Labrador_retriever           0.868367  True   ...  0.043305  True     \n",
       "2074  microphone                   0.096063  False  ...  0.094075  False    \n",
       "\n",
       "                                  p3   p3_conf  p3_dog retweets  favorites  \\\n",
       "433   Samoyed                         0.037400  True    3716.0   13518.0     \n",
       "516   Labrador_retriever              0.025823  True    1655.0   5927.0      \n",
       "902   American_Staffordshire_terrier  0.099689  True    2539.0   5316.0      \n",
       "979   sunglass                        0.050776  False   2772.0   5569.0      \n",
       "1120  king_penguin                    0.049444  False   1434.0   4196.0      \n",
       "1202  Eskimo_dog                      0.273419  True    247.0    2574.0      \n",
       "1228  Irish_setter                    0.092725  True    829.0    3062.0      \n",
       "1254  cairn                           0.015943  True    636.0    2529.0      \n",
       "1274  English_setter                  0.083184  True    721.0    2634.0      \n",
       "1351  golden_retriever                0.043885  True    1028.0   3201.0      \n",
       "1433  pug                             0.000008  True    1552.0   3748.0      \n",
       "1634  Great_Pyrenees                  0.065327  True    239.0    1369.0      \n",
       "1635  teddy                           0.071486  False   1563.0   4225.0      \n",
       "1779  chow                            0.025438  True    1104.0   3323.0      \n",
       "1843  vizsla                          0.028207  True    1460.0   2927.0      \n",
       "2074  drumstick                       0.061113  False   4324.0   7989.0      \n",
       "\n",
       "      dog_stage rating_numerator  rating_denominator  \n",
       "433   NaN        84.0             70                  \n",
       "516   NaN        24.0             7                   \n",
       "902   NaN        165.0            150                 \n",
       "979   NaN        1776.0           10                  \n",
       "1120  NaN        204.0            170                 \n",
       "1202  NaN        50.0             50                  \n",
       "1228  NaN        99.0             90                  \n",
       "1254  NaN        80.0             80                  \n",
       "1274  NaN        45.0             50                  \n",
       "1351  NaN        60.0             50                  \n",
       "1433  NaN        44.0             40                  \n",
       "1634  NaN        143.0            130                 \n",
       "1635  NaN        121.0            110                 \n",
       "1779  NaN        144.0            120                 \n",
       "1843  NaN        88.0             80                  \n",
       "2074  NaN        420.0            10                  \n",
       "\n",
       "[16 rows x 21 columns]"
      ]
     },
     "execution_count": 623,
     "metadata": {},
     "output_type": "execute_result"
    }
   ],
   "source": [
    "df.query('rating_numerator>20')"
   ]
  },
  {
   "cell_type": "markdown",
   "metadata": {},
   "source": [
    "We are going to drop Index 2074, 979, 516 as these ratings for these are outliers (such as 1776/10 or 420/10).  \n"
   ]
  },
  {
   "cell_type": "code",
   "execution_count": 624,
   "metadata": {},
   "outputs": [],
   "source": [
    "#drop index\n",
    "df.drop([2074,979, 516], inplace =True)\n"
   ]
  },
  {
   "cell_type": "code",
   "execution_count": 625,
   "metadata": {},
   "outputs": [
    {
     "name": "stdout",
     "output_type": "stream",
     "text": [
      "<class 'pandas.core.frame.DataFrame'>\n",
      "Int64Index: 2114 entries, 0 to 2355\n",
      "Data columns (total 21 columns):\n",
      " #   Column              Non-Null Count  Dtype         \n",
      "---  ------              --------------  -----         \n",
      " 0   tweet_id            2114 non-null   object        \n",
      " 1   timestamp           2114 non-null   datetime64[ns]\n",
      " 2   source              2114 non-null   object        \n",
      " 3   text                2114 non-null   object        \n",
      " 4   expanded_urls       2114 non-null   object        \n",
      " 5   name                1389 non-null   object        \n",
      " 6   jpg_url             1991 non-null   object        \n",
      " 7   p1                  1991 non-null   object        \n",
      " 8   p1_conf             1991 non-null   float64       \n",
      " 9   p1_dog              1991 non-null   object        \n",
      " 10  p2                  1991 non-null   object        \n",
      " 11  p2_conf             1991 non-null   float64       \n",
      " 12  p2_dog              1991 non-null   object        \n",
      " 13  p3                  1991 non-null   object        \n",
      " 14  p3_conf             1991 non-null   float64       \n",
      " 15  p3_dog              1991 non-null   object        \n",
      " 16  retweets            2114 non-null   float64       \n",
      " 17  favorites           2114 non-null   float64       \n",
      " 18  dog_stage           338 non-null    object        \n",
      " 19  rating_numerator    2114 non-null   float64       \n",
      " 20  rating_denominator  2114 non-null   int32         \n",
      "dtypes: datetime64[ns](1), float64(6), int32(1), object(13)\n",
      "memory usage: 355.1+ KB\n"
     ]
    }
   ],
   "source": [
    "df.info()"
   ]
  },
  {
   "cell_type": "code",
   "execution_count": 626,
   "metadata": {},
   "outputs": [
    {
     "data": {
      "image/png": "[encoded data removed]",
      "text/plain": [
       "<Figure size 504x504 with 1 Axes>"
      ]
     },
     "metadata": {},
     "output_type": "display_data"
    }
   ],
   "source": [
    "#Create a scatter plot b/w retweets and favorites \n",
    "sns.set_style('darkgrid')\n",
    "plt.figure(figsize=(7,7));\n",
    "plt.title('Retweets vs Favorites');\n",
    "plt.scatter(df.retweets, df.favorites, alpha = 0.5);\n",
    "plt.xlabel('No. of Retweets')\n",
    "plt.ylabel('No. of Favorites')\n",
    "plt.savefig('Retweets vs Favorites.png')\n",
    "plt.show()"
   ]
  },
  {
   "cell_type": "markdown",
   "metadata": {},
   "source": [
    "It can be clearly seen that there is a positive correlation between the number of retweets and no of times the tweet is  favorited. Majority of the data lies below 30000 retweets and 60000 favorites"
   ]
  },
  {
   "cell_type": "code",
   "execution_count": 627,
   "metadata": {},
   "outputs": [],
   "source": [
    "# Create a new column dog rating\n",
    "df['dog_rating'] = df['rating_numerator']/df['rating_denominator']"
   ]
  },
  {
   "cell_type": "code",
   "execution_count": 628,
   "metadata": {},
   "outputs": [
    {
     "data": {
      "text/plain": [
       "count    2114.000000\n",
       "mean     1.061226   \n",
       "std      0.216800   \n",
       "min      0.000000   \n",
       "25%      1.000000   \n",
       "50%      1.100000   \n",
       "75%      1.200000   \n",
       "max      1.400000   \n",
       "Name: dog_rating, dtype: float64"
      ]
     },
     "execution_count": 628,
     "metadata": {},
     "output_type": "execute_result"
    }
   ],
   "source": [
    "df['dog_rating'].describe()"
   ]
  },
  {
   "cell_type": "code",
   "execution_count": 629,
   "metadata": {},
   "outputs": [
    {
     "data": {
      "image/png": "[encoded data removed]",
      "text/plain": [
       "<Figure size 504x504 with 1 Axes>"
      ]
     },
     "metadata": {},
     "output_type": "display_data"
    }
   ],
   "source": [
    "# Plotting the histogram of the dog_rating column\n",
    "plt.figure(figsize=(7,7))\n",
    "plt.hist(df['dog_rating'])\n",
    "plt.xlabel('Ratings')\n",
    "plt.ylabel('Count')\n",
    "plt.title('Dog Ratings')\n",
    "plt.savefig('Dog Ratings.png')\n",
    "plt.show()"
   ]
  },
  {
   "cell_type": "markdown",
   "metadata": {},
   "source": [
    "We see that majority of the rating falls between 1 and 1.2 with the histogram being skewed to the left. \n",
    "As most of the dogs get 10s and 12s (https://knowyourmeme.com/memes/theyre-good-dogs-brent) this makes sense and we can conclude that they're 'Good dogs'"
   ]
  },
  {
   "cell_type": "code",
   "execution_count": 630,
   "metadata": {},
   "outputs": [
    {
     "data": {
      "image/png": "[encoded data removed]",
      "text/plain": [
       "<Figure size 504x504 with 1 Axes>"
      ]
     },
     "metadata": {},
     "output_type": "display_data"
    }
   ],
   "source": [
    "# Plotting a bar chart for the algorithm's #1 prediction(p1) for top 10 breeds from the top 1000 favorite posts \n",
    "plt.figure(figsize=(7,7))\n",
    "df.nlargest(1000,'favorites')['p1'].value_counts().nlargest(10).plot(kind='bar', rot = 45);\n",
    "plt.savefig('Favorites Bar.png');"
   ]
  },
  {
   "cell_type": "code",
   "execution_count": 631,
   "metadata": {},
   "outputs": [
    {
     "data": {
      "image/png": "[encoded data removed]",
      "text/plain": [
       "<Figure size 504x504 with 1 Axes>"
      ]
     },
     "metadata": {},
     "output_type": "display_data"
    }
   ],
   "source": [
    "# Plotting a bar chart for the algorithm's #1 prediction(p1) for top 10 breeds from the top 1000 retweeted posts\n",
    "plt.figure(figsize=(7,7))\n",
    "df.nlargest(1000,'retweets')['p1'].value_counts().nlargest(10).plot(kind='bar', rot = 45);\n",
    "plt.savefig('Retweets Bar.png')"
   ]
  },
  {
   "cell_type": "markdown",
   "metadata": {},
   "source": [
    "It can be inferred from the data that the most favorited breed is golden retriever, followed by labrador and Pembroke while the most retweeted breed is also golden retriever followed by Pembroke and labrador. Chow, Chihuahua also seems to be one of the top 10 most favorited and retweeted dogs"
   ]
  }
 ],
 "metadata": {
  "kernelspec": {
   "display_name": "Python 3",
   "language": "python",
   "name": "python3"
  },
  "language_info": {
   "codemirror_mode": {
    "name": "ipython",
    "version": 3
   },
   "file_extension": ".py",
   "mimetype": "text/x-python",
   "name": "python",
   "nbconvert_exporter": "python",
   "pygments_lexer": "ipython3",
   "version": "3.7.7"
  }
 },
 "nbformat": 4,
 "nbformat_minor": 4
}
